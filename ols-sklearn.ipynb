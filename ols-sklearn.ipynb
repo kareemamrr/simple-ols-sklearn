{
 "cells": [
  {
   "cell_type": "code",
   "execution_count": 2,
   "id": "2e5e2a6f",
   "metadata": {
    "_cell_guid": "b1076dfc-b9ad-4769-8c92-a6c4dae69d19",
    "_uuid": "8f2839f25d086af736a60e9eeb907d3b93b6e0e5",
    "execution": {
     "iopub.execute_input": "2022-08-29T11:23:54.637982Z",
     "iopub.status.busy": "2022-08-29T11:23:54.636584Z",
     "iopub.status.idle": "2022-08-29T11:24:01.035004Z",
     "shell.execute_reply": "2022-08-29T11:24:01.031751Z"
    },
    "papermill": {
     "duration": 6.42459,
     "end_time": "2022-08-29T11:24:01.039375",
     "exception": false,
     "start_time": "2022-08-29T11:23:54.614785",
     "status": "completed"
    },
    "tags": []
   },
   "outputs": [],
   "source": [
    "import numpy as np\n",
    "import pandas as pd\n",
    "import statsmodels.api as sm\n",
    "import matplotlib.pyplot as plt\n",
    "from sklearn.linear_model import LinearRegression\n",
    "from sklearn.preprocessing import StandardScaler\n",
    "import seaborn as sns\n",
    "sns.set()"
   ]
  },
  {
   "cell_type": "markdown",
   "id": "a23c8930",
   "metadata": {
    "papermill": {
     "duration": 0.022347,
     "end_time": "2022-08-29T11:24:01.082359",
     "exception": false,
     "start_time": "2022-08-29T11:24:01.060012",
     "status": "completed"
    },
    "tags": []
   },
   "source": [
    "## Data exploration"
   ]
  },
  {
   "cell_type": "code",
   "execution_count": 3,
   "id": "5fabfba7",
   "metadata": {
    "execution": {
     "iopub.execute_input": "2022-08-29T11:24:01.122445Z",
     "iopub.status.busy": "2022-08-29T11:24:01.122072Z",
     "iopub.status.idle": "2022-08-29T11:24:01.193173Z",
     "shell.execute_reply": "2022-08-29T11:24:01.191532Z"
    },
    "papermill": {
     "duration": 0.097647,
     "end_time": "2022-08-29T11:24:01.196822",
     "exception": false,
     "start_time": "2022-08-29T11:24:01.099175",
     "status": "completed"
    },
    "tags": []
   },
   "outputs": [
    {
     "data": {
      "text/html": [
       "<div>\n",
       "<style scoped>\n",
       "    .dataframe tbody tr th:only-of-type {\n",
       "        vertical-align: middle;\n",
       "    }\n",
       "\n",
       "    .dataframe tbody tr th {\n",
       "        vertical-align: top;\n",
       "    }\n",
       "\n",
       "    .dataframe thead th {\n",
       "        text-align: right;\n",
       "    }\n",
       "</style>\n",
       "<table border=\"1\" class=\"dataframe\">\n",
       "  <thead>\n",
       "    <tr style=\"text-align: right;\">\n",
       "      <th></th>\n",
       "      <th>Brand</th>\n",
       "      <th>Price</th>\n",
       "      <th>Body</th>\n",
       "      <th>Mileage</th>\n",
       "      <th>EngineV</th>\n",
       "      <th>Engine Type</th>\n",
       "      <th>Registration</th>\n",
       "      <th>Year</th>\n",
       "      <th>Model</th>\n",
       "    </tr>\n",
       "  </thead>\n",
       "  <tbody>\n",
       "    <tr>\n",
       "      <th>0</th>\n",
       "      <td>BMW</td>\n",
       "      <td>4200.0</td>\n",
       "      <td>sedan</td>\n",
       "      <td>277</td>\n",
       "      <td>2.0</td>\n",
       "      <td>Petrol</td>\n",
       "      <td>yes</td>\n",
       "      <td>1991</td>\n",
       "      <td>320</td>\n",
       "    </tr>\n",
       "    <tr>\n",
       "      <th>1</th>\n",
       "      <td>Mercedes-Benz</td>\n",
       "      <td>7900.0</td>\n",
       "      <td>van</td>\n",
       "      <td>427</td>\n",
       "      <td>2.9</td>\n",
       "      <td>Diesel</td>\n",
       "      <td>yes</td>\n",
       "      <td>1999</td>\n",
       "      <td>Sprinter 212</td>\n",
       "    </tr>\n",
       "    <tr>\n",
       "      <th>2</th>\n",
       "      <td>Mercedes-Benz</td>\n",
       "      <td>13300.0</td>\n",
       "      <td>sedan</td>\n",
       "      <td>358</td>\n",
       "      <td>5.0</td>\n",
       "      <td>Gas</td>\n",
       "      <td>yes</td>\n",
       "      <td>2003</td>\n",
       "      <td>S 500</td>\n",
       "    </tr>\n",
       "    <tr>\n",
       "      <th>3</th>\n",
       "      <td>Audi</td>\n",
       "      <td>23000.0</td>\n",
       "      <td>crossover</td>\n",
       "      <td>240</td>\n",
       "      <td>4.2</td>\n",
       "      <td>Petrol</td>\n",
       "      <td>yes</td>\n",
       "      <td>2007</td>\n",
       "      <td>Q7</td>\n",
       "    </tr>\n",
       "    <tr>\n",
       "      <th>4</th>\n",
       "      <td>Toyota</td>\n",
       "      <td>18300.0</td>\n",
       "      <td>crossover</td>\n",
       "      <td>120</td>\n",
       "      <td>2.0</td>\n",
       "      <td>Petrol</td>\n",
       "      <td>yes</td>\n",
       "      <td>2011</td>\n",
       "      <td>Rav 4</td>\n",
       "    </tr>\n",
       "  </tbody>\n",
       "</table>\n",
       "</div>"
      ],
      "text/plain": [
       "           Brand    Price       Body  Mileage  EngineV Engine Type  \\\n",
       "0            BMW   4200.0      sedan      277      2.0      Petrol   \n",
       "1  Mercedes-Benz   7900.0        van      427      2.9      Diesel   \n",
       "2  Mercedes-Benz  13300.0      sedan      358      5.0         Gas   \n",
       "3           Audi  23000.0  crossover      240      4.2      Petrol   \n",
       "4         Toyota  18300.0  crossover      120      2.0      Petrol   \n",
       "\n",
       "  Registration  Year         Model  \n",
       "0          yes  1991           320  \n",
       "1          yes  1999  Sprinter 212  \n",
       "2          yes  2003         S 500  \n",
       "3          yes  2007            Q7  \n",
       "4          yes  2011         Rav 4  "
      ]
     },
     "execution_count": 3,
     "metadata": {},
     "output_type": "execute_result"
    }
   ],
   "source": [
    "raw_data = pd.read_csv('2nd_Hand_Car_Price_Prediction.csv')\n",
    "raw_data.head()"
   ]
  },
  {
   "cell_type": "code",
   "execution_count": 4,
   "id": "da7f2565",
   "metadata": {
    "execution": {
     "iopub.execute_input": "2022-08-29T11:24:01.234722Z",
     "iopub.status.busy": "2022-08-29T11:24:01.233416Z",
     "iopub.status.idle": "2022-08-29T11:24:01.306899Z",
     "shell.execute_reply": "2022-08-29T11:24:01.304648Z"
    },
    "papermill": {
     "duration": 0.097769,
     "end_time": "2022-08-29T11:24:01.309957",
     "exception": false,
     "start_time": "2022-08-29T11:24:01.212188",
     "status": "completed"
    },
    "tags": []
   },
   "outputs": [
    {
     "data": {
      "text/html": [
       "<div>\n",
       "<style scoped>\n",
       "    .dataframe tbody tr th:only-of-type {\n",
       "        vertical-align: middle;\n",
       "    }\n",
       "\n",
       "    .dataframe tbody tr th {\n",
       "        vertical-align: top;\n",
       "    }\n",
       "\n",
       "    .dataframe thead th {\n",
       "        text-align: right;\n",
       "    }\n",
       "</style>\n",
       "<table border=\"1\" class=\"dataframe\">\n",
       "  <thead>\n",
       "    <tr style=\"text-align: right;\">\n",
       "      <th></th>\n",
       "      <th>Price</th>\n",
       "      <th>Mileage</th>\n",
       "      <th>EngineV</th>\n",
       "      <th>Year</th>\n",
       "    </tr>\n",
       "  </thead>\n",
       "  <tbody>\n",
       "    <tr>\n",
       "      <th>count</th>\n",
       "      <td>4173.000000</td>\n",
       "      <td>4345.000000</td>\n",
       "      <td>4195.000000</td>\n",
       "      <td>4345.000000</td>\n",
       "    </tr>\n",
       "    <tr>\n",
       "      <th>mean</th>\n",
       "      <td>19418.746935</td>\n",
       "      <td>161.237284</td>\n",
       "      <td>2.790734</td>\n",
       "      <td>2006.550058</td>\n",
       "    </tr>\n",
       "    <tr>\n",
       "      <th>std</th>\n",
       "      <td>25584.242620</td>\n",
       "      <td>105.705797</td>\n",
       "      <td>5.066437</td>\n",
       "      <td>6.719097</td>\n",
       "    </tr>\n",
       "    <tr>\n",
       "      <th>min</th>\n",
       "      <td>600.000000</td>\n",
       "      <td>0.000000</td>\n",
       "      <td>0.600000</td>\n",
       "      <td>1969.000000</td>\n",
       "    </tr>\n",
       "    <tr>\n",
       "      <th>25%</th>\n",
       "      <td>6999.000000</td>\n",
       "      <td>86.000000</td>\n",
       "      <td>1.800000</td>\n",
       "      <td>2003.000000</td>\n",
       "    </tr>\n",
       "    <tr>\n",
       "      <th>50%</th>\n",
       "      <td>11500.000000</td>\n",
       "      <td>155.000000</td>\n",
       "      <td>2.200000</td>\n",
       "      <td>2008.000000</td>\n",
       "    </tr>\n",
       "    <tr>\n",
       "      <th>75%</th>\n",
       "      <td>21700.000000</td>\n",
       "      <td>230.000000</td>\n",
       "      <td>3.000000</td>\n",
       "      <td>2012.000000</td>\n",
       "    </tr>\n",
       "    <tr>\n",
       "      <th>max</th>\n",
       "      <td>300000.000000</td>\n",
       "      <td>980.000000</td>\n",
       "      <td>99.990000</td>\n",
       "      <td>2016.000000</td>\n",
       "    </tr>\n",
       "  </tbody>\n",
       "</table>\n",
       "</div>"
      ],
      "text/plain": [
       "               Price      Mileage      EngineV         Year\n",
       "count    4173.000000  4345.000000  4195.000000  4345.000000\n",
       "mean    19418.746935   161.237284     2.790734  2006.550058\n",
       "std     25584.242620   105.705797     5.066437     6.719097\n",
       "min       600.000000     0.000000     0.600000  1969.000000\n",
       "25%      6999.000000    86.000000     1.800000  2003.000000\n",
       "50%     11500.000000   155.000000     2.200000  2008.000000\n",
       "75%     21700.000000   230.000000     3.000000  2012.000000\n",
       "max    300000.000000   980.000000    99.990000  2016.000000"
      ]
     },
     "execution_count": 4,
     "metadata": {},
     "output_type": "execute_result"
    }
   ],
   "source": [
    "raw_data.describe()"
   ]
  },
  {
   "cell_type": "code",
   "execution_count": 5,
   "id": "24b4063b",
   "metadata": {
    "execution": {
     "iopub.execute_input": "2022-08-29T11:24:01.348173Z",
     "iopub.status.busy": "2022-08-29T11:24:01.347557Z",
     "iopub.status.idle": "2022-08-29T11:24:01.395657Z",
     "shell.execute_reply": "2022-08-29T11:24:01.393061Z"
    },
    "papermill": {
     "duration": 0.071424,
     "end_time": "2022-08-29T11:24:01.398569",
     "exception": false,
     "start_time": "2022-08-29T11:24:01.327145",
     "status": "completed"
    },
    "tags": []
   },
   "outputs": [
    {
     "data": {
      "text/html": [
       "<div>\n",
       "<style scoped>\n",
       "    .dataframe tbody tr th:only-of-type {\n",
       "        vertical-align: middle;\n",
       "    }\n",
       "\n",
       "    .dataframe tbody tr th {\n",
       "        vertical-align: top;\n",
       "    }\n",
       "\n",
       "    .dataframe thead th {\n",
       "        text-align: right;\n",
       "    }\n",
       "</style>\n",
       "<table border=\"1\" class=\"dataframe\">\n",
       "  <thead>\n",
       "    <tr style=\"text-align: right;\">\n",
       "      <th></th>\n",
       "      <th>Brand</th>\n",
       "      <th>Price</th>\n",
       "      <th>Body</th>\n",
       "      <th>Mileage</th>\n",
       "      <th>EngineV</th>\n",
       "      <th>Engine Type</th>\n",
       "      <th>Registration</th>\n",
       "      <th>Year</th>\n",
       "      <th>Model</th>\n",
       "    </tr>\n",
       "  </thead>\n",
       "  <tbody>\n",
       "    <tr>\n",
       "      <th>count</th>\n",
       "      <td>4345</td>\n",
       "      <td>4173.000000</td>\n",
       "      <td>4345</td>\n",
       "      <td>4345.000000</td>\n",
       "      <td>4195.000000</td>\n",
       "      <td>4345</td>\n",
       "      <td>4345</td>\n",
       "      <td>4345.000000</td>\n",
       "      <td>4345</td>\n",
       "    </tr>\n",
       "    <tr>\n",
       "      <th>unique</th>\n",
       "      <td>7</td>\n",
       "      <td>NaN</td>\n",
       "      <td>6</td>\n",
       "      <td>NaN</td>\n",
       "      <td>NaN</td>\n",
       "      <td>4</td>\n",
       "      <td>2</td>\n",
       "      <td>NaN</td>\n",
       "      <td>312</td>\n",
       "    </tr>\n",
       "    <tr>\n",
       "      <th>top</th>\n",
       "      <td>Volkswagen</td>\n",
       "      <td>NaN</td>\n",
       "      <td>sedan</td>\n",
       "      <td>NaN</td>\n",
       "      <td>NaN</td>\n",
       "      <td>Diesel</td>\n",
       "      <td>yes</td>\n",
       "      <td>NaN</td>\n",
       "      <td>E-Class</td>\n",
       "    </tr>\n",
       "    <tr>\n",
       "      <th>freq</th>\n",
       "      <td>936</td>\n",
       "      <td>NaN</td>\n",
       "      <td>1649</td>\n",
       "      <td>NaN</td>\n",
       "      <td>NaN</td>\n",
       "      <td>2019</td>\n",
       "      <td>3947</td>\n",
       "      <td>NaN</td>\n",
       "      <td>199</td>\n",
       "    </tr>\n",
       "    <tr>\n",
       "      <th>mean</th>\n",
       "      <td>NaN</td>\n",
       "      <td>19418.746935</td>\n",
       "      <td>NaN</td>\n",
       "      <td>161.237284</td>\n",
       "      <td>2.790734</td>\n",
       "      <td>NaN</td>\n",
       "      <td>NaN</td>\n",
       "      <td>2006.550058</td>\n",
       "      <td>NaN</td>\n",
       "    </tr>\n",
       "    <tr>\n",
       "      <th>std</th>\n",
       "      <td>NaN</td>\n",
       "      <td>25584.242620</td>\n",
       "      <td>NaN</td>\n",
       "      <td>105.705797</td>\n",
       "      <td>5.066437</td>\n",
       "      <td>NaN</td>\n",
       "      <td>NaN</td>\n",
       "      <td>6.719097</td>\n",
       "      <td>NaN</td>\n",
       "    </tr>\n",
       "    <tr>\n",
       "      <th>min</th>\n",
       "      <td>NaN</td>\n",
       "      <td>600.000000</td>\n",
       "      <td>NaN</td>\n",
       "      <td>0.000000</td>\n",
       "      <td>0.600000</td>\n",
       "      <td>NaN</td>\n",
       "      <td>NaN</td>\n",
       "      <td>1969.000000</td>\n",
       "      <td>NaN</td>\n",
       "    </tr>\n",
       "    <tr>\n",
       "      <th>25%</th>\n",
       "      <td>NaN</td>\n",
       "      <td>6999.000000</td>\n",
       "      <td>NaN</td>\n",
       "      <td>86.000000</td>\n",
       "      <td>1.800000</td>\n",
       "      <td>NaN</td>\n",
       "      <td>NaN</td>\n",
       "      <td>2003.000000</td>\n",
       "      <td>NaN</td>\n",
       "    </tr>\n",
       "    <tr>\n",
       "      <th>50%</th>\n",
       "      <td>NaN</td>\n",
       "      <td>11500.000000</td>\n",
       "      <td>NaN</td>\n",
       "      <td>155.000000</td>\n",
       "      <td>2.200000</td>\n",
       "      <td>NaN</td>\n",
       "      <td>NaN</td>\n",
       "      <td>2008.000000</td>\n",
       "      <td>NaN</td>\n",
       "    </tr>\n",
       "    <tr>\n",
       "      <th>75%</th>\n",
       "      <td>NaN</td>\n",
       "      <td>21700.000000</td>\n",
       "      <td>NaN</td>\n",
       "      <td>230.000000</td>\n",
       "      <td>3.000000</td>\n",
       "      <td>NaN</td>\n",
       "      <td>NaN</td>\n",
       "      <td>2012.000000</td>\n",
       "      <td>NaN</td>\n",
       "    </tr>\n",
       "    <tr>\n",
       "      <th>max</th>\n",
       "      <td>NaN</td>\n",
       "      <td>300000.000000</td>\n",
       "      <td>NaN</td>\n",
       "      <td>980.000000</td>\n",
       "      <td>99.990000</td>\n",
       "      <td>NaN</td>\n",
       "      <td>NaN</td>\n",
       "      <td>2016.000000</td>\n",
       "      <td>NaN</td>\n",
       "    </tr>\n",
       "  </tbody>\n",
       "</table>\n",
       "</div>"
      ],
      "text/plain": [
       "             Brand          Price   Body      Mileage      EngineV  \\\n",
       "count         4345    4173.000000   4345  4345.000000  4195.000000   \n",
       "unique           7            NaN      6          NaN          NaN   \n",
       "top     Volkswagen            NaN  sedan          NaN          NaN   \n",
       "freq           936            NaN   1649          NaN          NaN   \n",
       "mean           NaN   19418.746935    NaN   161.237284     2.790734   \n",
       "std            NaN   25584.242620    NaN   105.705797     5.066437   \n",
       "min            NaN     600.000000    NaN     0.000000     0.600000   \n",
       "25%            NaN    6999.000000    NaN    86.000000     1.800000   \n",
       "50%            NaN   11500.000000    NaN   155.000000     2.200000   \n",
       "75%            NaN   21700.000000    NaN   230.000000     3.000000   \n",
       "max            NaN  300000.000000    NaN   980.000000    99.990000   \n",
       "\n",
       "       Engine Type Registration         Year    Model  \n",
       "count         4345         4345  4345.000000     4345  \n",
       "unique           4            2          NaN      312  \n",
       "top         Diesel          yes          NaN  E-Class  \n",
       "freq          2019         3947          NaN      199  \n",
       "mean           NaN          NaN  2006.550058      NaN  \n",
       "std            NaN          NaN     6.719097      NaN  \n",
       "min            NaN          NaN  1969.000000      NaN  \n",
       "25%            NaN          NaN  2003.000000      NaN  \n",
       "50%            NaN          NaN  2008.000000      NaN  \n",
       "75%            NaN          NaN  2012.000000      NaN  \n",
       "max            NaN          NaN  2016.000000      NaN  "
      ]
     },
     "execution_count": 5,
     "metadata": {},
     "output_type": "execute_result"
    }
   ],
   "source": [
    "raw_data.describe(include='all')"
   ]
  },
  {
   "cell_type": "markdown",
   "id": "4143a09c",
   "metadata": {
    "papermill": {
     "duration": 0.016117,
     "end_time": "2022-08-29T11:24:01.434453",
     "exception": false,
     "start_time": "2022-08-29T11:24:01.418336",
     "status": "completed"
    },
    "tags": []
   },
   "source": [
    "## Data cleaning"
   ]
  },
  {
   "cell_type": "markdown",
   "id": "97226e04",
   "metadata": {
    "papermill": {
     "duration": 0.017959,
     "end_time": "2022-08-29T11:24:01.469778",
     "exception": false,
     "start_time": "2022-08-29T11:24:01.451819",
     "status": "completed"
    },
    "tags": []
   },
   "source": [
    "We will drop the `Model` column as it is not crucial"
   ]
  },
  {
   "cell_type": "code",
   "execution_count": 6,
   "id": "317b960f",
   "metadata": {
    "execution": {
     "iopub.execute_input": "2022-08-29T11:24:01.511157Z",
     "iopub.status.busy": "2022-08-29T11:24:01.510660Z",
     "iopub.status.idle": "2022-08-29T11:24:01.518424Z",
     "shell.execute_reply": "2022-08-29T11:24:01.517636Z"
    },
    "papermill": {
     "duration": 0.034616,
     "end_time": "2022-08-29T11:24:01.522305",
     "exception": false,
     "start_time": "2022-08-29T11:24:01.487689",
     "status": "completed"
    },
    "tags": []
   },
   "outputs": [],
   "source": [
    "data = raw_data.drop(['Model'], axis=1)"
   ]
  },
  {
   "cell_type": "code",
   "execution_count": 7,
   "id": "ca58d5ad",
   "metadata": {
    "execution": {
     "iopub.execute_input": "2022-08-29T11:24:01.559126Z",
     "iopub.status.busy": "2022-08-29T11:24:01.558651Z",
     "iopub.status.idle": "2022-08-29T11:24:01.571840Z",
     "shell.execute_reply": "2022-08-29T11:24:01.571096Z"
    },
    "papermill": {
     "duration": 0.03346,
     "end_time": "2022-08-29T11:24:01.573764",
     "exception": false,
     "start_time": "2022-08-29T11:24:01.540304",
     "status": "completed"
    },
    "tags": []
   },
   "outputs": [
    {
     "data": {
      "text/plain": [
       "Brand             0\n",
       "Price           172\n",
       "Body              0\n",
       "Mileage           0\n",
       "EngineV         150\n",
       "Engine Type       0\n",
       "Registration      0\n",
       "Year              0\n",
       "dtype: int64"
      ]
     },
     "execution_count": 7,
     "metadata": {},
     "output_type": "execute_result"
    }
   ],
   "source": [
    "data.isnull().sum()"
   ]
  },
  {
   "cell_type": "code",
   "execution_count": 8,
   "id": "8e20d4a5",
   "metadata": {
    "execution": {
     "iopub.execute_input": "2022-08-29T11:24:01.614840Z",
     "iopub.status.busy": "2022-08-29T11:24:01.614522Z",
     "iopub.status.idle": "2022-08-29T11:24:01.626357Z",
     "shell.execute_reply": "2022-08-29T11:24:01.624372Z"
    },
    "papermill": {
     "duration": 0.034223,
     "end_time": "2022-08-29T11:24:01.629594",
     "exception": false,
     "start_time": "2022-08-29T11:24:01.595371",
     "status": "completed"
    },
    "tags": []
   },
   "outputs": [
    {
     "name": "stdout",
     "output_type": "stream",
     "text": [
      "Missing 0.9263521288837744%\n"
     ]
    }
   ],
   "source": [
    "total_cells = np.product(data.shape)\n",
    "total_missing = data.isnull().sum().sum()\n",
    "print(f'Missing {(total_missing/total_cells)*100}%')"
   ]
  },
  {
   "cell_type": "code",
   "execution_count": 9,
   "id": "f605694e",
   "metadata": {
    "execution": {
     "iopub.execute_input": "2022-08-29T11:24:01.667611Z",
     "iopub.status.busy": "2022-08-29T11:24:01.666544Z",
     "iopub.status.idle": "2022-08-29T11:24:01.683814Z",
     "shell.execute_reply": "2022-08-29T11:24:01.680196Z"
    },
    "papermill": {
     "duration": 0.041392,
     "end_time": "2022-08-29T11:24:01.688015",
     "exception": false,
     "start_time": "2022-08-29T11:24:01.646623",
     "status": "completed"
    },
    "tags": []
   },
   "outputs": [],
   "source": [
    "data_no_mv = data.dropna(axis=0)"
   ]
  },
  {
   "cell_type": "code",
   "execution_count": 10,
   "id": "56188168",
   "metadata": {
    "execution": {
     "iopub.execute_input": "2022-08-29T11:24:01.726452Z",
     "iopub.status.busy": "2022-08-29T11:24:01.725975Z",
     "iopub.status.idle": "2022-08-29T11:24:01.771196Z",
     "shell.execute_reply": "2022-08-29T11:24:01.769099Z"
    },
    "papermill": {
     "duration": 0.06733,
     "end_time": "2022-08-29T11:24:01.774029",
     "exception": false,
     "start_time": "2022-08-29T11:24:01.706699",
     "status": "completed"
    },
    "tags": []
   },
   "outputs": [
    {
     "data": {
      "text/html": [
       "<div>\n",
       "<style scoped>\n",
       "    .dataframe tbody tr th:only-of-type {\n",
       "        vertical-align: middle;\n",
       "    }\n",
       "\n",
       "    .dataframe tbody tr th {\n",
       "        vertical-align: top;\n",
       "    }\n",
       "\n",
       "    .dataframe thead th {\n",
       "        text-align: right;\n",
       "    }\n",
       "</style>\n",
       "<table border=\"1\" class=\"dataframe\">\n",
       "  <thead>\n",
       "    <tr style=\"text-align: right;\">\n",
       "      <th></th>\n",
       "      <th>Brand</th>\n",
       "      <th>Price</th>\n",
       "      <th>Body</th>\n",
       "      <th>Mileage</th>\n",
       "      <th>EngineV</th>\n",
       "      <th>Engine Type</th>\n",
       "      <th>Registration</th>\n",
       "      <th>Year</th>\n",
       "    </tr>\n",
       "  </thead>\n",
       "  <tbody>\n",
       "    <tr>\n",
       "      <th>count</th>\n",
       "      <td>4025</td>\n",
       "      <td>4025.000000</td>\n",
       "      <td>4025</td>\n",
       "      <td>4025.000000</td>\n",
       "      <td>4025.000000</td>\n",
       "      <td>4025</td>\n",
       "      <td>4025</td>\n",
       "      <td>4025.000000</td>\n",
       "    </tr>\n",
       "    <tr>\n",
       "      <th>unique</th>\n",
       "      <td>7</td>\n",
       "      <td>NaN</td>\n",
       "      <td>6</td>\n",
       "      <td>NaN</td>\n",
       "      <td>NaN</td>\n",
       "      <td>4</td>\n",
       "      <td>2</td>\n",
       "      <td>NaN</td>\n",
       "    </tr>\n",
       "    <tr>\n",
       "      <th>top</th>\n",
       "      <td>Volkswagen</td>\n",
       "      <td>NaN</td>\n",
       "      <td>sedan</td>\n",
       "      <td>NaN</td>\n",
       "      <td>NaN</td>\n",
       "      <td>Diesel</td>\n",
       "      <td>yes</td>\n",
       "      <td>NaN</td>\n",
       "    </tr>\n",
       "    <tr>\n",
       "      <th>freq</th>\n",
       "      <td>880</td>\n",
       "      <td>NaN</td>\n",
       "      <td>1534</td>\n",
       "      <td>NaN</td>\n",
       "      <td>NaN</td>\n",
       "      <td>1861</td>\n",
       "      <td>3654</td>\n",
       "      <td>NaN</td>\n",
       "    </tr>\n",
       "    <tr>\n",
       "      <th>mean</th>\n",
       "      <td>NaN</td>\n",
       "      <td>19552.308065</td>\n",
       "      <td>NaN</td>\n",
       "      <td>163.572174</td>\n",
       "      <td>2.764586</td>\n",
       "      <td>NaN</td>\n",
       "      <td>NaN</td>\n",
       "      <td>2006.379627</td>\n",
       "    </tr>\n",
       "    <tr>\n",
       "      <th>std</th>\n",
       "      <td>NaN</td>\n",
       "      <td>25815.734988</td>\n",
       "      <td>NaN</td>\n",
       "      <td>103.394703</td>\n",
       "      <td>4.935941</td>\n",
       "      <td>NaN</td>\n",
       "      <td>NaN</td>\n",
       "      <td>6.695595</td>\n",
       "    </tr>\n",
       "    <tr>\n",
       "      <th>min</th>\n",
       "      <td>NaN</td>\n",
       "      <td>600.000000</td>\n",
       "      <td>NaN</td>\n",
       "      <td>0.000000</td>\n",
       "      <td>0.600000</td>\n",
       "      <td>NaN</td>\n",
       "      <td>NaN</td>\n",
       "      <td>1969.000000</td>\n",
       "    </tr>\n",
       "    <tr>\n",
       "      <th>25%</th>\n",
       "      <td>NaN</td>\n",
       "      <td>6999.000000</td>\n",
       "      <td>NaN</td>\n",
       "      <td>90.000000</td>\n",
       "      <td>1.800000</td>\n",
       "      <td>NaN</td>\n",
       "      <td>NaN</td>\n",
       "      <td>2003.000000</td>\n",
       "    </tr>\n",
       "    <tr>\n",
       "      <th>50%</th>\n",
       "      <td>NaN</td>\n",
       "      <td>11500.000000</td>\n",
       "      <td>NaN</td>\n",
       "      <td>158.000000</td>\n",
       "      <td>2.200000</td>\n",
       "      <td>NaN</td>\n",
       "      <td>NaN</td>\n",
       "      <td>2007.000000</td>\n",
       "    </tr>\n",
       "    <tr>\n",
       "      <th>75%</th>\n",
       "      <td>NaN</td>\n",
       "      <td>21900.000000</td>\n",
       "      <td>NaN</td>\n",
       "      <td>230.000000</td>\n",
       "      <td>3.000000</td>\n",
       "      <td>NaN</td>\n",
       "      <td>NaN</td>\n",
       "      <td>2012.000000</td>\n",
       "    </tr>\n",
       "    <tr>\n",
       "      <th>max</th>\n",
       "      <td>NaN</td>\n",
       "      <td>300000.000000</td>\n",
       "      <td>NaN</td>\n",
       "      <td>980.000000</td>\n",
       "      <td>99.990000</td>\n",
       "      <td>NaN</td>\n",
       "      <td>NaN</td>\n",
       "      <td>2016.000000</td>\n",
       "    </tr>\n",
       "  </tbody>\n",
       "</table>\n",
       "</div>"
      ],
      "text/plain": [
       "             Brand          Price   Body      Mileage      EngineV  \\\n",
       "count         4025    4025.000000   4025  4025.000000  4025.000000   \n",
       "unique           7            NaN      6          NaN          NaN   \n",
       "top     Volkswagen            NaN  sedan          NaN          NaN   \n",
       "freq           880            NaN   1534          NaN          NaN   \n",
       "mean           NaN   19552.308065    NaN   163.572174     2.764586   \n",
       "std            NaN   25815.734988    NaN   103.394703     4.935941   \n",
       "min            NaN     600.000000    NaN     0.000000     0.600000   \n",
       "25%            NaN    6999.000000    NaN    90.000000     1.800000   \n",
       "50%            NaN   11500.000000    NaN   158.000000     2.200000   \n",
       "75%            NaN   21900.000000    NaN   230.000000     3.000000   \n",
       "max            NaN  300000.000000    NaN   980.000000    99.990000   \n",
       "\n",
       "       Engine Type Registration         Year  \n",
       "count         4025         4025  4025.000000  \n",
       "unique           4            2          NaN  \n",
       "top         Diesel          yes          NaN  \n",
       "freq          1861         3654          NaN  \n",
       "mean           NaN          NaN  2006.379627  \n",
       "std            NaN          NaN     6.695595  \n",
       "min            NaN          NaN  1969.000000  \n",
       "25%            NaN          NaN  2003.000000  \n",
       "50%            NaN          NaN  2007.000000  \n",
       "75%            NaN          NaN  2012.000000  \n",
       "max            NaN          NaN  2016.000000  "
      ]
     },
     "execution_count": 10,
     "metadata": {},
     "output_type": "execute_result"
    }
   ],
   "source": [
    "data_no_mv.describe(include='all')"
   ]
  },
  {
   "cell_type": "markdown",
   "id": "f705fa5c",
   "metadata": {
    "papermill": {
     "duration": 0.018527,
     "end_time": "2022-08-29T11:24:01.811650",
     "exception": false,
     "start_time": "2022-08-29T11:24:01.793123",
     "status": "completed"
    },
    "tags": []
   },
   "source": [
    "### Exploring Distributions"
   ]
  },
  {
   "cell_type": "code",
   "execution_count": 11,
   "id": "47ef83c5",
   "metadata": {
    "execution": {
     "iopub.execute_input": "2022-08-29T11:24:01.850192Z",
     "iopub.status.busy": "2022-08-29T11:24:01.849664Z",
     "iopub.status.idle": "2022-08-29T11:24:02.391833Z",
     "shell.execute_reply": "2022-08-29T11:24:02.390363Z"
    },
    "papermill": {
     "duration": 0.565521,
     "end_time": "2022-08-29T11:24:02.395561",
     "exception": false,
     "start_time": "2022-08-29T11:24:01.830040",
     "status": "completed"
    },
    "tags": []
   },
   "outputs": [
    {
     "data": {
      "text/plain": [
       "<seaborn.axisgrid.FacetGrid at 0x7fc60876dc10>"
      ]
     },
     "execution_count": 11,
     "metadata": {},
     "output_type": "execute_result"
    },
    {
     "data": {
      "image/png": "[encoded data removed]",
      "text/plain": [
       "<Figure size 500x500 with 1 Axes>"
      ]
     },
     "metadata": {},
     "output_type": "display_data"
    }
   ],
   "source": [
    "sns.displot(data_no_mv['Price'], kind='kde')"
   ]
  },
  {
   "cell_type": "markdown",
   "id": "8334c033",
   "metadata": {
    "papermill": {
     "duration": 0.017491,
     "end_time": "2022-08-29T11:24:02.431710",
     "exception": false,
     "start_time": "2022-08-29T11:24:02.414219",
     "status": "completed"
    },
    "tags": []
   },
   "source": [
    "### Dealing with outliers"
   ]
  },
  {
   "cell_type": "markdown",
   "id": "678785f1",
   "metadata": {
    "papermill": {
     "duration": 0.019381,
     "end_time": "2022-08-29T11:24:02.472882",
     "exception": false,
     "start_time": "2022-08-29T11:24:02.453501",
     "status": "completed"
    },
    "tags": []
   },
   "source": [
    "The mean of the `Price` variable is 19,552, 75% of its values are below 21,900, while its max value is 300,000; so there a lot of outliers. To remove outliers we can remove the top 1% of values using `pd.quantile` or `np.percentile`."
   ]
  },
  {
   "cell_type": "code",
   "execution_count": 12,
   "id": "62769861",
   "metadata": {
    "execution": {
     "iopub.execute_input": "2022-08-29T11:24:02.510887Z",
     "iopub.status.busy": "2022-08-29T11:24:02.510427Z",
     "iopub.status.idle": "2022-08-29T11:24:02.518323Z",
     "shell.execute_reply": "2022-08-29T11:24:02.517381Z"
    },
    "papermill": {
     "duration": 0.028043,
     "end_time": "2022-08-29T11:24:02.520366",
     "exception": false,
     "start_time": "2022-08-29T11:24:02.492323",
     "status": "completed"
    },
    "tags": []
   },
   "outputs": [],
   "source": [
    "q = data_no_mv['Price'].quantile(.99)\n",
    "data_1 = data_no_mv[data_no_mv['Price'] < q]"
   ]
  },
  {
   "cell_type": "code",
   "execution_count": 13,
   "id": "5aa706b4",
   "metadata": {
    "execution": {
     "iopub.execute_input": "2022-08-29T11:24:02.556173Z",
     "iopub.status.busy": "2022-08-29T11:24:02.555305Z",
     "iopub.status.idle": "2022-08-29T11:24:02.994041Z",
     "shell.execute_reply": "2022-08-29T11:24:02.991690Z"
    },
    "papermill": {
     "duration": 0.462624,
     "end_time": "2022-08-29T11:24:02.998219",
     "exception": false,
     "start_time": "2022-08-29T11:24:02.535595",
     "status": "completed"
    },
    "tags": []
   },
   "outputs": [
    {
     "data": {
      "text/plain": [
       "<seaborn.axisgrid.FacetGrid at 0x7fc5c4e71bb0>"
      ]
     },
     "execution_count": 13,
     "metadata": {},
     "output_type": "execute_result"
    }
   ],
   "source": [
    "sns.displot(data_1['Price'], kind='kde')"
   ]
  },
  {
   "cell_type": "markdown",
   "id": "43b01e8b",
   "metadata": {
    "papermill": {
     "duration": 0.016899,
     "end_time": "2022-08-29T11:24:03.036466",
     "exception": false,
     "start_time": "2022-08-29T11:24:03.019567",
     "status": "completed"
    },
    "tags": []
   },
   "source": [
    "#### We'll do the same to `Mileage` and `EngineV` columns"
   ]
  },
  {
   "cell_type": "code",
   "execution_count": 14,
   "id": "553e02a7",
   "metadata": {
    "execution": {
     "iopub.execute_input": "2022-08-29T11:24:03.085153Z",
     "iopub.status.busy": "2022-08-29T11:24:03.083566Z",
     "iopub.status.idle": "2022-08-29T11:24:03.101716Z",
     "shell.execute_reply": "2022-08-29T11:24:03.097025Z"
    },
    "papermill": {
     "duration": 0.049901,
     "end_time": "2022-08-29T11:24:03.106287",
     "exception": false,
     "start_time": "2022-08-29T11:24:03.056386",
     "status": "completed"
    },
    "tags": []
   },
   "outputs": [],
   "source": [
    "q = data_1['Mileage'].quantile(.99)\n",
    "data_2 = data_1[data_1['Mileage'] < q]"
   ]
  },
  {
   "cell_type": "code",
   "execution_count": 15,
   "id": "be8e3bee",
   "metadata": {
    "execution": {
     "iopub.execute_input": "2022-08-29T11:24:03.147901Z",
     "iopub.status.busy": "2022-08-29T11:24:03.147352Z",
     "iopub.status.idle": "2022-08-29T11:24:03.161800Z",
     "shell.execute_reply": "2022-08-29T11:24:03.157996Z"
    },
    "papermill": {
     "duration": 0.038611,
     "end_time": "2022-08-29T11:24:03.165855",
     "exception": false,
     "start_time": "2022-08-29T11:24:03.127244",
     "status": "completed"
    },
    "tags": []
   },
   "outputs": [],
   "source": [
    "data_3 = data_2[data_2['EngineV'] < 6.5]"
   ]
  },
  {
   "cell_type": "code",
   "execution_count": 16,
   "id": "fc8ba278",
   "metadata": {
    "execution": {
     "iopub.execute_input": "2022-08-29T11:24:03.207816Z",
     "iopub.status.busy": "2022-08-29T11:24:03.207465Z",
     "iopub.status.idle": "2022-08-29T11:24:03.222010Z",
     "shell.execute_reply": "2022-08-29T11:24:03.218916Z"
    },
    "papermill": {
     "duration": 0.038672,
     "end_time": "2022-08-29T11:24:03.225363",
     "exception": false,
     "start_time": "2022-08-29T11:24:03.186691",
     "status": "completed"
    },
    "tags": []
   },
   "outputs": [],
   "source": [
    "q = data_3['Year'].quantile(.01)\n",
    "data_4 = data_3[data_3['Year'] > q]"
   ]
  },
  {
   "cell_type": "code",
   "execution_count": 17,
   "id": "f7859ae3",
   "metadata": {
    "execution": {
     "iopub.execute_input": "2022-08-29T11:24:03.264320Z",
     "iopub.status.busy": "2022-08-29T11:24:03.263952Z",
     "iopub.status.idle": "2022-08-29T11:24:03.273021Z",
     "shell.execute_reply": "2022-08-29T11:24:03.271156Z"
    },
    "papermill": {
     "duration": 0.031349,
     "end_time": "2022-08-29T11:24:03.275427",
     "exception": false,
     "start_time": "2022-08-29T11:24:03.244078",
     "status": "completed"
    },
    "tags": []
   },
   "outputs": [],
   "source": [
    "cleaned_data = data_4.reset_index(drop=True)"
   ]
  },
  {
   "cell_type": "code",
   "execution_count": 18,
   "id": "f63cc635",
   "metadata": {
    "execution": {
     "iopub.execute_input": "2022-08-29T11:24:03.316926Z",
     "iopub.status.busy": "2022-08-29T11:24:03.316526Z",
     "iopub.status.idle": "2022-08-29T11:24:03.363343Z",
     "shell.execute_reply": "2022-08-29T11:24:03.360712Z"
    },
    "papermill": {
     "duration": 0.073335,
     "end_time": "2022-08-29T11:24:03.368009",
     "exception": false,
     "start_time": "2022-08-29T11:24:03.294674",
     "status": "completed"
    },
    "tags": []
   },
   "outputs": [
    {
     "data": {
      "text/html": [
       "<div>\n",
       "<style scoped>\n",
       "    .dataframe tbody tr th:only-of-type {\n",
       "        vertical-align: middle;\n",
       "    }\n",
       "\n",
       "    .dataframe tbody tr th {\n",
       "        vertical-align: top;\n",
       "    }\n",
       "\n",
       "    .dataframe thead th {\n",
       "        text-align: right;\n",
       "    }\n",
       "</style>\n",
       "<table border=\"1\" class=\"dataframe\">\n",
       "  <thead>\n",
       "    <tr style=\"text-align: right;\">\n",
       "      <th></th>\n",
       "      <th>Brand</th>\n",
       "      <th>Price</th>\n",
       "      <th>Body</th>\n",
       "      <th>Mileage</th>\n",
       "      <th>EngineV</th>\n",
       "      <th>Engine Type</th>\n",
       "      <th>Registration</th>\n",
       "      <th>Year</th>\n",
       "    </tr>\n",
       "  </thead>\n",
       "  <tbody>\n",
       "    <tr>\n",
       "      <th>count</th>\n",
       "      <td>3867</td>\n",
       "      <td>3867.000000</td>\n",
       "      <td>3867</td>\n",
       "      <td>3867.000000</td>\n",
       "      <td>3867.000000</td>\n",
       "      <td>3867</td>\n",
       "      <td>3867</td>\n",
       "      <td>3867.000000</td>\n",
       "    </tr>\n",
       "    <tr>\n",
       "      <th>unique</th>\n",
       "      <td>7</td>\n",
       "      <td>NaN</td>\n",
       "      <td>6</td>\n",
       "      <td>NaN</td>\n",
       "      <td>NaN</td>\n",
       "      <td>4</td>\n",
       "      <td>2</td>\n",
       "      <td>NaN</td>\n",
       "    </tr>\n",
       "    <tr>\n",
       "      <th>top</th>\n",
       "      <td>Volkswagen</td>\n",
       "      <td>NaN</td>\n",
       "      <td>sedan</td>\n",
       "      <td>NaN</td>\n",
       "      <td>NaN</td>\n",
       "      <td>Diesel</td>\n",
       "      <td>yes</td>\n",
       "      <td>NaN</td>\n",
       "    </tr>\n",
       "    <tr>\n",
       "      <th>freq</th>\n",
       "      <td>848</td>\n",
       "      <td>NaN</td>\n",
       "      <td>1467</td>\n",
       "      <td>NaN</td>\n",
       "      <td>NaN</td>\n",
       "      <td>1807</td>\n",
       "      <td>3505</td>\n",
       "      <td>NaN</td>\n",
       "    </tr>\n",
       "    <tr>\n",
       "      <th>mean</th>\n",
       "      <td>NaN</td>\n",
       "      <td>18194.455679</td>\n",
       "      <td>NaN</td>\n",
       "      <td>160.542539</td>\n",
       "      <td>2.450440</td>\n",
       "      <td>NaN</td>\n",
       "      <td>NaN</td>\n",
       "      <td>2006.709853</td>\n",
       "    </tr>\n",
       "    <tr>\n",
       "      <th>std</th>\n",
       "      <td>NaN</td>\n",
       "      <td>19085.855165</td>\n",
       "      <td>NaN</td>\n",
       "      <td>95.633291</td>\n",
       "      <td>0.949366</td>\n",
       "      <td>NaN</td>\n",
       "      <td>NaN</td>\n",
       "      <td>6.103870</td>\n",
       "    </tr>\n",
       "    <tr>\n",
       "      <th>min</th>\n",
       "      <td>NaN</td>\n",
       "      <td>800.000000</td>\n",
       "      <td>NaN</td>\n",
       "      <td>0.000000</td>\n",
       "      <td>0.600000</td>\n",
       "      <td>NaN</td>\n",
       "      <td>NaN</td>\n",
       "      <td>1988.000000</td>\n",
       "    </tr>\n",
       "    <tr>\n",
       "      <th>25%</th>\n",
       "      <td>NaN</td>\n",
       "      <td>7200.000000</td>\n",
       "      <td>NaN</td>\n",
       "      <td>91.000000</td>\n",
       "      <td>1.800000</td>\n",
       "      <td>NaN</td>\n",
       "      <td>NaN</td>\n",
       "      <td>2003.000000</td>\n",
       "    </tr>\n",
       "    <tr>\n",
       "      <th>50%</th>\n",
       "      <td>NaN</td>\n",
       "      <td>11700.000000</td>\n",
       "      <td>NaN</td>\n",
       "      <td>157.000000</td>\n",
       "      <td>2.200000</td>\n",
       "      <td>NaN</td>\n",
       "      <td>NaN</td>\n",
       "      <td>2008.000000</td>\n",
       "    </tr>\n",
       "    <tr>\n",
       "      <th>75%</th>\n",
       "      <td>NaN</td>\n",
       "      <td>21700.000000</td>\n",
       "      <td>NaN</td>\n",
       "      <td>225.000000</td>\n",
       "      <td>3.000000</td>\n",
       "      <td>NaN</td>\n",
       "      <td>NaN</td>\n",
       "      <td>2012.000000</td>\n",
       "    </tr>\n",
       "    <tr>\n",
       "      <th>max</th>\n",
       "      <td>NaN</td>\n",
       "      <td>129222.000000</td>\n",
       "      <td>NaN</td>\n",
       "      <td>435.000000</td>\n",
       "      <td>6.300000</td>\n",
       "      <td>NaN</td>\n",
       "      <td>NaN</td>\n",
       "      <td>2016.000000</td>\n",
       "    </tr>\n",
       "  </tbody>\n",
       "</table>\n",
       "</div>"
      ],
      "text/plain": [
       "             Brand          Price   Body      Mileage      EngineV  \\\n",
       "count         3867    3867.000000   3867  3867.000000  3867.000000   \n",
       "unique           7            NaN      6          NaN          NaN   \n",
       "top     Volkswagen            NaN  sedan          NaN          NaN   \n",
       "freq           848            NaN   1467          NaN          NaN   \n",
       "mean           NaN   18194.455679    NaN   160.542539     2.450440   \n",
       "std            NaN   19085.855165    NaN    95.633291     0.949366   \n",
       "min            NaN     800.000000    NaN     0.000000     0.600000   \n",
       "25%            NaN    7200.000000    NaN    91.000000     1.800000   \n",
       "50%            NaN   11700.000000    NaN   157.000000     2.200000   \n",
       "75%            NaN   21700.000000    NaN   225.000000     3.000000   \n",
       "max            NaN  129222.000000    NaN   435.000000     6.300000   \n",
       "\n",
       "       Engine Type Registration         Year  \n",
       "count         3867         3867  3867.000000  \n",
       "unique           4            2          NaN  \n",
       "top         Diesel          yes          NaN  \n",
       "freq          1807         3505          NaN  \n",
       "mean           NaN          NaN  2006.709853  \n",
       "std            NaN          NaN     6.103870  \n",
       "min            NaN          NaN  1988.000000  \n",
       "25%            NaN          NaN  2003.000000  \n",
       "50%            NaN          NaN  2008.000000  \n",
       "75%            NaN          NaN  2012.000000  \n",
       "max            NaN          NaN  2016.000000  "
      ]
     },
     "execution_count": 18,
     "metadata": {},
     "output_type": "execute_result"
    }
   ],
   "source": [
    "cleaned_data.describe(include='all')"
   ]
  },
  {
   "cell_type": "markdown",
   "id": "fa924b70",
   "metadata": {
    "papermill": {
     "duration": 0.019429,
     "end_time": "2022-08-29T11:24:03.403896",
     "exception": false,
     "start_time": "2022-08-29T11:24:03.384467",
     "status": "completed"
    },
    "tags": []
   },
   "source": [
    "## Checking OLS assumptions"
   ]
  },
  {
   "cell_type": "markdown",
   "id": "c3d428e3",
   "metadata": {
    "papermill": {
     "duration": 0.027378,
     "end_time": "2022-08-29T11:24:03.458700",
     "exception": false,
     "start_time": "2022-08-29T11:24:03.431322",
     "status": "completed"
    },
    "tags": []
   },
   "source": [
    "The categorical variables will be included as dummies so we don't need to worry about them when checking the assumptions.\n",
    "We will look at `Price`, `Year`, `EngineV` and `Mileage`."
   ]
  },
  {
   "cell_type": "markdown",
   "id": "1a0c9cf6",
   "metadata": {
    "papermill": {
     "duration": 0.022699,
     "end_time": "2022-08-29T11:24:03.503058",
     "exception": false,
     "start_time": "2022-08-29T11:24:03.480359",
     "status": "completed"
    },
    "tags": []
   },
   "source": [
    "### Checking for linearity between each regressor and the target"
   ]
  },
  {
   "cell_type": "code",
   "execution_count": 19,
   "id": "96f0aac9",
   "metadata": {
    "execution": {
     "iopub.execute_input": "2022-08-29T11:24:03.552047Z",
     "iopub.status.busy": "2022-08-29T11:24:03.551380Z",
     "iopub.status.idle": "2022-08-29T11:24:04.259874Z",
     "shell.execute_reply": "2022-08-29T11:24:04.256437Z"
    },
    "papermill": {
     "duration": 0.733408,
     "end_time": "2022-08-29T11:24:04.263055",
     "exception": false,
     "start_time": "2022-08-29T11:24:03.529647",
     "status": "completed"
    },
    "tags": []
   },
   "outputs": [
    {
     "data": {
      "text/plain": [
       "Text(0.5, 1.0, 'Mileage and Year')"
      ]
     },
     "execution_count": 19,
     "metadata": {},
     "output_type": "execute_result"
    }
   ],
   "source": [
    "f, (ax1, ax2, ax3) = plt.subplots(1, 3, sharey=True, figsize=(15, 3))\n",
    "\n",
    "ax1.scatter(cleaned_data['Year'], cleaned_data['Price'])\n",
    "ax1.set_title('Price and Year')\n",
    "\n",
    "ax2.scatter(cleaned_data['EngineV'], cleaned_data['Price'])\n",
    "ax2.set_title('Price and EngineV')\n",
    "\n",
    "ax3.scatter(cleaned_data['Mileage'], cleaned_data['Price'])\n",
    "ax3.set_title('Mileage and Year')"
   ]
  },
  {
   "cell_type": "markdown",
   "id": "5c2612ec",
   "metadata": {
    "papermill": {
     "duration": 0.021008,
     "end_time": "2022-08-29T11:24:04.306335",
     "exception": false,
     "start_time": "2022-08-29T11:24:04.285327",
     "status": "completed"
    },
    "tags": []
   },
   "source": [
    "The relationships are not linear, so we should transform the variables before running a LR model."
   ]
  },
  {
   "cell_type": "code",
   "execution_count": 20,
   "id": "5d46f932",
   "metadata": {
    "execution": {
     "iopub.execute_input": "2022-08-29T11:24:04.355294Z",
     "iopub.status.busy": "2022-08-29T11:24:04.354957Z",
     "iopub.status.idle": "2022-08-29T11:24:04.814580Z",
     "shell.execute_reply": "2022-08-29T11:24:04.813571Z"
    },
    "papermill": {
     "duration": 0.488914,
     "end_time": "2022-08-29T11:24:04.816831",
     "exception": false,
     "start_time": "2022-08-29T11:24:04.327917",
     "status": "completed"
    },
    "tags": []
   },
   "outputs": [
    {
     "data": {
      "text/plain": [
       "<seaborn.axisgrid.FacetGrid at 0x7fc5c4d9f520>"
      ]
     },
     "execution_count": 20,
     "metadata": {},
     "output_type": "execute_result"
    }
   ],
   "source": [
    "sns.displot(cleaned_data['Price'], kind='kde')"
   ]
  },
  {
   "cell_type": "markdown",
   "id": "adf105f0",
   "metadata": {
    "papermill": {
     "duration": 0.022782,
     "end_time": "2022-08-29T11:24:04.862147",
     "exception": false,
     "start_time": "2022-08-29T11:24:04.839365",
     "status": "completed"
    },
    "tags": []
   },
   "source": [
    "Going back to the distribution plot of `Price`, we notice that it has an exponential distribution, log transformations are especially useful when facing exponential distributions."
   ]
  },
  {
   "cell_type": "code",
   "execution_count": 21,
   "id": "b26b730f",
   "metadata": {
    "execution": {
     "iopub.execute_input": "2022-08-29T11:24:04.910473Z",
     "iopub.status.busy": "2022-08-29T11:24:04.910113Z",
     "iopub.status.idle": "2022-08-29T11:24:04.920283Z",
     "shell.execute_reply": "2022-08-29T11:24:04.917685Z"
    },
    "papermill": {
     "duration": 0.036466,
     "end_time": "2022-08-29T11:24:04.924607",
     "exception": false,
     "start_time": "2022-08-29T11:24:04.888141",
     "status": "completed"
    },
    "tags": []
   },
   "outputs": [],
   "source": [
    "log_price = np.log(cleaned_data['Price'])\n",
    "cleaned_data['log_price'] = log_price\n",
    "cleaned_data = cleaned_data.drop(['Price'], axis=1)"
   ]
  },
  {
   "cell_type": "code",
   "execution_count": 22,
   "id": "78bba4d8",
   "metadata": {
    "execution": {
     "iopub.execute_input": "2022-08-29T11:24:04.975591Z",
     "iopub.status.busy": "2022-08-29T11:24:04.975184Z",
     "iopub.status.idle": "2022-08-29T11:24:05.643693Z",
     "shell.execute_reply": "2022-08-29T11:24:05.641286Z"
    },
    "papermill": {
     "duration": 0.699766,
     "end_time": "2022-08-29T11:24:05.647435",
     "exception": false,
     "start_time": "2022-08-29T11:24:04.947669",
     "status": "completed"
    },
    "tags": []
   },
   "outputs": [
    {
     "data": {
      "text/plain": [
       "Text(0.5, 1.0, 'log_price and Year')"
      ]
     },
     "execution_count": 22,
     "metadata": {},
     "output_type": "execute_result"
    }
   ],
   "source": [
    "f, (ax1, ax2, ax3) = plt.subplots(1, 3, sharey=True, figsize=(15, 3))\n",
    "\n",
    "ax1.scatter(cleaned_data['Year'], cleaned_data['log_price'])\n",
    "ax1.set_title('log_price and Year')\n",
    "\n",
    "ax2.scatter(cleaned_data['EngineV'], cleaned_data['log_price'])\n",
    "ax2.set_title('log_price and EngineV')\n",
    "\n",
    "ax3.scatter(cleaned_data['Mileage'], cleaned_data['log_price'])\n",
    "ax3.set_title('log_price and Year')"
   ]
  },
  {
   "cell_type": "markdown",
   "id": "67b38719",
   "metadata": {
    "papermill": {
     "duration": 0.024685,
     "end_time": "2022-08-29T11:24:05.694557",
     "exception": false,
     "start_time": "2022-08-29T11:24:05.669872",
     "status": "completed"
    },
    "tags": []
   },
   "source": [
    "We now observe a linear relationship between `log_price` and all of the regressors."
   ]
  },
  {
   "cell_type": "markdown",
   "id": "e5676fbe",
   "metadata": {
    "papermill": {
     "duration": 0.021542,
     "end_time": "2022-08-29T11:24:05.739568",
     "exception": false,
     "start_time": "2022-08-29T11:24:05.718026",
     "status": "completed"
    },
    "tags": []
   },
   "source": [
    "### Endogeneity is skipped as it is not violated here."
   ]
  },
  {
   "cell_type": "markdown",
   "id": "a0234455",
   "metadata": {
    "papermill": {
     "duration": 0.019517,
     "end_time": "2022-08-29T11:24:05.779898",
     "exception": false,
     "start_time": "2022-08-29T11:24:05.760381",
     "status": "completed"
    },
    "tags": []
   },
   "source": [
    "### Normality and Homoscedasticity\n",
    "1. Normality: due to center limit theorem, we assume the error term is normally distributed.\n",
    "2. Zero mean: since we have an intercept in our LR, then we assume the error term has zero mean.\n",
    "3. Homoscedasticity: this problem is solved since we already log transformed `Price`."
   ]
  },
  {
   "cell_type": "markdown",
   "id": "b0357c7c",
   "metadata": {
    "papermill": {
     "duration": 0.02554,
     "end_time": "2022-08-29T11:24:05.827817",
     "exception": false,
     "start_time": "2022-08-29T11:24:05.802277",
     "status": "completed"
    },
    "tags": []
   },
   "source": [
    "### Autocorrelation is skipped due to this being cross-sectional data."
   ]
  },
  {
   "cell_type": "markdown",
   "id": "6934199a",
   "metadata": {
    "papermill": {
     "duration": 0.022021,
     "end_time": "2022-08-29T11:24:05.875623",
     "exception": false,
     "start_time": "2022-08-29T11:24:05.853602",
     "status": "completed"
    },
    "tags": []
   },
   "source": [
    "### Multicollinearity\n",
    "\n",
    "We expect `Year` and `Mileage` to be collinear, we can verify this using the VIF."
   ]
  },
  {
   "cell_type": "code",
   "execution_count": 23,
   "id": "878c13f0",
   "metadata": {
    "execution": {
     "iopub.execute_input": "2022-08-29T11:24:05.925961Z",
     "iopub.status.busy": "2022-08-29T11:24:05.924657Z",
     "iopub.status.idle": "2022-08-29T11:24:05.960406Z",
     "shell.execute_reply": "2022-08-29T11:24:05.957701Z"
    },
    "papermill": {
     "duration": 0.063704,
     "end_time": "2022-08-29T11:24:05.964395",
     "exception": false,
     "start_time": "2022-08-29T11:24:05.900691",
     "status": "completed"
    },
    "tags": []
   },
   "outputs": [
    {
     "data": {
      "text/html": [
       "<div>\n",
       "<style scoped>\n",
       "    .dataframe tbody tr th:only-of-type {\n",
       "        vertical-align: middle;\n",
       "    }\n",
       "\n",
       "    .dataframe tbody tr th {\n",
       "        vertical-align: top;\n",
       "    }\n",
       "\n",
       "    .dataframe thead th {\n",
       "        text-align: right;\n",
       "    }\n",
       "</style>\n",
       "<table border=\"1\" class=\"dataframe\">\n",
       "  <thead>\n",
       "    <tr style=\"text-align: right;\">\n",
       "      <th></th>\n",
       "      <th>VIF</th>\n",
       "      <th>Features</th>\n",
       "    </tr>\n",
       "  </thead>\n",
       "  <tbody>\n",
       "    <tr>\n",
       "      <th>0</th>\n",
       "      <td>3.791584</td>\n",
       "      <td>Mileage</td>\n",
       "    </tr>\n",
       "    <tr>\n",
       "      <th>1</th>\n",
       "      <td>10.354854</td>\n",
       "      <td>Year</td>\n",
       "    </tr>\n",
       "    <tr>\n",
       "      <th>2</th>\n",
       "      <td>7.662068</td>\n",
       "      <td>EngineV</td>\n",
       "    </tr>\n",
       "  </tbody>\n",
       "</table>\n",
       "</div>"
      ],
      "text/plain": [
       "         VIF Features\n",
       "0   3.791584  Mileage\n",
       "1  10.354854     Year\n",
       "2   7.662068  EngineV"
      ]
     },
     "execution_count": 23,
     "metadata": {},
     "output_type": "execute_result"
    }
   ],
   "source": [
    "from statsmodels.stats.outliers_influence import variance_inflation_factor\n",
    "\n",
    "variables = cleaned_data[['Mileage', 'Year', 'EngineV']]\n",
    "vif = pd.DataFrame()\n",
    "vif['VIF'] = [variance_inflation_factor(variables.values, i) for i in range(variables.shape[1])]\n",
    "vif['Features'] = variables.columns\n",
    "vif"
   ]
  },
  {
   "cell_type": "markdown",
   "id": "63e4ad67",
   "metadata": {
    "papermill": {
     "duration": 0.029007,
     "end_time": "2022-08-29T11:24:06.015146",
     "exception": false,
     "start_time": "2022-08-29T11:24:05.986139",
     "status": "completed"
    },
    "tags": []
   },
   "source": [
    "We will disregard `Year`"
   ]
  },
  {
   "cell_type": "code",
   "execution_count": 24,
   "id": "83d8161d",
   "metadata": {
    "execution": {
     "iopub.execute_input": "2022-08-29T11:24:06.062494Z",
     "iopub.status.busy": "2022-08-29T11:24:06.062054Z",
     "iopub.status.idle": "2022-08-29T11:24:06.067472Z",
     "shell.execute_reply": "2022-08-29T11:24:06.066483Z"
    },
    "papermill": {
     "duration": 0.032715,
     "end_time": "2022-08-29T11:24:06.069927",
     "exception": false,
     "start_time": "2022-08-29T11:24:06.037212",
     "status": "completed"
    },
    "tags": []
   },
   "outputs": [],
   "source": [
    "data_no_multicollinearity = cleaned_data.drop(['Year'], axis=1)"
   ]
  },
  {
   "cell_type": "markdown",
   "id": "ed32d051",
   "metadata": {
    "papermill": {
     "duration": 0.021002,
     "end_time": "2022-08-29T11:24:06.114297",
     "exception": false,
     "start_time": "2022-08-29T11:24:06.093295",
     "status": "completed"
    },
    "tags": []
   },
   "source": [
    "## Handling categorical data\n",
    "When creating dummy variables, we always drop the first value so as to not introduce multicollinearity to the model"
   ]
  },
  {
   "cell_type": "code",
   "execution_count": 25,
   "id": "d5bcdf63",
   "metadata": {
    "execution": {
     "iopub.execute_input": "2022-08-29T11:24:06.162915Z",
     "iopub.status.busy": "2022-08-29T11:24:06.162030Z",
     "iopub.status.idle": "2022-08-29T11:24:06.180788Z",
     "shell.execute_reply": "2022-08-29T11:24:06.176509Z"
    },
    "papermill": {
     "duration": 0.050509,
     "end_time": "2022-08-29T11:24:06.186332",
     "exception": false,
     "start_time": "2022-08-29T11:24:06.135823",
     "status": "completed"
    },
    "tags": []
   },
   "outputs": [],
   "source": [
    "data_with_dummies = pd.get_dummies(data_no_multicollinearity, drop_first=True)"
   ]
  },
  {
   "cell_type": "code",
   "execution_count": 26,
   "id": "658a7cd1",
   "metadata": {
    "execution": {
     "iopub.execute_input": "2022-08-29T11:24:06.245721Z",
     "iopub.status.busy": "2022-08-29T11:24:06.245028Z",
     "iopub.status.idle": "2022-08-29T11:24:06.260241Z",
     "shell.execute_reply": "2022-08-29T11:24:06.259456Z"
    },
    "papermill": {
     "duration": 0.051601,
     "end_time": "2022-08-29T11:24:06.263010",
     "exception": false,
     "start_time": "2022-08-29T11:24:06.211409",
     "status": "completed"
    },
    "tags": []
   },
   "outputs": [
    {
     "data": {
      "text/html": [
       "<div>\n",
       "<style scoped>\n",
       "    .dataframe tbody tr th:only-of-type {\n",
       "        vertical-align: middle;\n",
       "    }\n",
       "\n",
       "    .dataframe tbody tr th {\n",
       "        vertical-align: top;\n",
       "    }\n",
       "\n",
       "    .dataframe thead th {\n",
       "        text-align: right;\n",
       "    }\n",
       "</style>\n",
       "<table border=\"1\" class=\"dataframe\">\n",
       "  <thead>\n",
       "    <tr style=\"text-align: right;\">\n",
       "      <th></th>\n",
       "      <th>Mileage</th>\n",
       "      <th>EngineV</th>\n",
       "      <th>log_price</th>\n",
       "      <th>Brand_BMW</th>\n",
       "      <th>Brand_Mercedes-Benz</th>\n",
       "      <th>Brand_Mitsubishi</th>\n",
       "      <th>Brand_Renault</th>\n",
       "      <th>Brand_Toyota</th>\n",
       "      <th>Brand_Volkswagen</th>\n",
       "      <th>Body_hatch</th>\n",
       "      <th>Body_other</th>\n",
       "      <th>Body_sedan</th>\n",
       "      <th>Body_vagon</th>\n",
       "      <th>Body_van</th>\n",
       "      <th>Engine Type_Gas</th>\n",
       "      <th>Engine Type_Other</th>\n",
       "      <th>Engine Type_Petrol</th>\n",
       "      <th>Registration_yes</th>\n",
       "    </tr>\n",
       "  </thead>\n",
       "  <tbody>\n",
       "    <tr>\n",
       "      <th>0</th>\n",
       "      <td>277</td>\n",
       "      <td>2.0</td>\n",
       "      <td>8.342840</td>\n",
       "      <td>1</td>\n",
       "      <td>0</td>\n",
       "      <td>0</td>\n",
       "      <td>0</td>\n",
       "      <td>0</td>\n",
       "      <td>0</td>\n",
       "      <td>0</td>\n",
       "      <td>0</td>\n",
       "      <td>1</td>\n",
       "      <td>0</td>\n",
       "      <td>0</td>\n",
       "      <td>0</td>\n",
       "      <td>0</td>\n",
       "      <td>1</td>\n",
       "      <td>1</td>\n",
       "    </tr>\n",
       "    <tr>\n",
       "      <th>1</th>\n",
       "      <td>427</td>\n",
       "      <td>2.9</td>\n",
       "      <td>8.974618</td>\n",
       "      <td>0</td>\n",
       "      <td>1</td>\n",
       "      <td>0</td>\n",
       "      <td>0</td>\n",
       "      <td>0</td>\n",
       "      <td>0</td>\n",
       "      <td>0</td>\n",
       "      <td>0</td>\n",
       "      <td>0</td>\n",
       "      <td>0</td>\n",
       "      <td>1</td>\n",
       "      <td>0</td>\n",
       "      <td>0</td>\n",
       "      <td>0</td>\n",
       "      <td>1</td>\n",
       "    </tr>\n",
       "    <tr>\n",
       "      <th>2</th>\n",
       "      <td>358</td>\n",
       "      <td>5.0</td>\n",
       "      <td>9.495519</td>\n",
       "      <td>0</td>\n",
       "      <td>1</td>\n",
       "      <td>0</td>\n",
       "      <td>0</td>\n",
       "      <td>0</td>\n",
       "      <td>0</td>\n",
       "      <td>0</td>\n",
       "      <td>0</td>\n",
       "      <td>1</td>\n",
       "      <td>0</td>\n",
       "      <td>0</td>\n",
       "      <td>1</td>\n",
       "      <td>0</td>\n",
       "      <td>0</td>\n",
       "      <td>1</td>\n",
       "    </tr>\n",
       "    <tr>\n",
       "      <th>3</th>\n",
       "      <td>240</td>\n",
       "      <td>4.2</td>\n",
       "      <td>10.043249</td>\n",
       "      <td>0</td>\n",
       "      <td>0</td>\n",
       "      <td>0</td>\n",
       "      <td>0</td>\n",
       "      <td>0</td>\n",
       "      <td>0</td>\n",
       "      <td>0</td>\n",
       "      <td>0</td>\n",
       "      <td>0</td>\n",
       "      <td>0</td>\n",
       "      <td>0</td>\n",
       "      <td>0</td>\n",
       "      <td>0</td>\n",
       "      <td>1</td>\n",
       "      <td>1</td>\n",
       "    </tr>\n",
       "    <tr>\n",
       "      <th>4</th>\n",
       "      <td>120</td>\n",
       "      <td>2.0</td>\n",
       "      <td>9.814656</td>\n",
       "      <td>0</td>\n",
       "      <td>0</td>\n",
       "      <td>0</td>\n",
       "      <td>0</td>\n",
       "      <td>1</td>\n",
       "      <td>0</td>\n",
       "      <td>0</td>\n",
       "      <td>0</td>\n",
       "      <td>0</td>\n",
       "      <td>0</td>\n",
       "      <td>0</td>\n",
       "      <td>0</td>\n",
       "      <td>0</td>\n",
       "      <td>1</td>\n",
       "      <td>1</td>\n",
       "    </tr>\n",
       "  </tbody>\n",
       "</table>\n",
       "</div>"
      ],
      "text/plain": [
       "   Mileage  EngineV  log_price  Brand_BMW  Brand_Mercedes-Benz  \\\n",
       "0      277      2.0   8.342840          1                    0   \n",
       "1      427      2.9   8.974618          0                    1   \n",
       "2      358      5.0   9.495519          0                    1   \n",
       "3      240      4.2  10.043249          0                    0   \n",
       "4      120      2.0   9.814656          0                    0   \n",
       "\n",
       "   Brand_Mitsubishi  Brand_Renault  Brand_Toyota  Brand_Volkswagen  \\\n",
       "0                 0              0             0                 0   \n",
       "1                 0              0             0                 0   \n",
       "2                 0              0             0                 0   \n",
       "3                 0              0             0                 0   \n",
       "4                 0              0             1                 0   \n",
       "\n",
       "   Body_hatch  Body_other  Body_sedan  Body_vagon  Body_van  Engine Type_Gas  \\\n",
       "0           0           0           1           0         0                0   \n",
       "1           0           0           0           0         1                0   \n",
       "2           0           0           1           0         0                1   \n",
       "3           0           0           0           0         0                0   \n",
       "4           0           0           0           0         0                0   \n",
       "\n",
       "   Engine Type_Other  Engine Type_Petrol  Registration_yes  \n",
       "0                  0                   1                 1  \n",
       "1                  0                   0                 1  \n",
       "2                  0                   0                 1  \n",
       "3                  0                   1                 1  \n",
       "4                  0                   1                 1  "
      ]
     },
     "execution_count": 26,
     "metadata": {},
     "output_type": "execute_result"
    }
   ],
   "source": [
    "data_with_dummies.head()"
   ]
  },
  {
   "cell_type": "code",
   "execution_count": 27,
   "id": "20f0c970",
   "metadata": {
    "execution": {
     "iopub.execute_input": "2022-08-29T11:24:06.312017Z",
     "iopub.status.busy": "2022-08-29T11:24:06.311446Z",
     "iopub.status.idle": "2022-08-29T11:24:06.320269Z",
     "shell.execute_reply": "2022-08-29T11:24:06.319174Z"
    },
    "papermill": {
     "duration": 0.038052,
     "end_time": "2022-08-29T11:24:06.323585",
     "exception": false,
     "start_time": "2022-08-29T11:24:06.285533",
     "status": "completed"
    },
    "tags": []
   },
   "outputs": [
    {
     "data": {
      "text/plain": [
       "Index(['Mileage', 'EngineV', 'log_price', 'Brand_BMW', 'Brand_Mercedes-Benz',\n",
       "       'Brand_Mitsubishi', 'Brand_Renault', 'Brand_Toyota', 'Brand_Volkswagen',\n",
       "       'Body_hatch', 'Body_other', 'Body_sedan', 'Body_vagon', 'Body_van',\n",
       "       'Engine Type_Gas', 'Engine Type_Other', 'Engine Type_Petrol',\n",
       "       'Registration_yes'],\n",
       "      dtype='object')"
      ]
     },
     "execution_count": 27,
     "metadata": {},
     "output_type": "execute_result"
    }
   ],
   "source": [
    "data_with_dummies.columns"
   ]
  },
  {
   "cell_type": "code",
   "execution_count": 28,
   "id": "ebf1ae2b",
   "metadata": {
    "execution": {
     "iopub.execute_input": "2022-08-29T11:24:06.369389Z",
     "iopub.status.busy": "2022-08-29T11:24:06.368554Z",
     "iopub.status.idle": "2022-08-29T11:24:06.378466Z",
     "shell.execute_reply": "2022-08-29T11:24:06.376654Z"
    },
    "papermill": {
     "duration": 0.036328,
     "end_time": "2022-08-29T11:24:06.382055",
     "exception": false,
     "start_time": "2022-08-29T11:24:06.345727",
     "status": "completed"
    },
    "tags": []
   },
   "outputs": [],
   "source": [
    "cols = ['Mileage', 'EngineV', 'log_price', 'Brand_BMW', 'Brand_Mercedes-Benz',\n",
    "       'Brand_Mitsubishi', 'Brand_Renault', 'Brand_Toyota', 'Brand_Volkswagen',\n",
    "       'Body_hatch', 'Body_other', 'Body_sedan', 'Body_vagon', 'Body_van',\n",
    "       'Engine Type_Gas', 'Engine Type_Other', 'Engine Type_Petrol',\n",
    "       'Registration_yes']\n",
    "\n",
    "data_preprocessed = data_with_dummies[cols]"
   ]
  },
  {
   "cell_type": "markdown",
   "id": "fec83224",
   "metadata": {
    "papermill": {
     "duration": 0.023675,
     "end_time": "2022-08-29T11:24:06.427191",
     "exception": false,
     "start_time": "2022-08-29T11:24:06.403516",
     "status": "completed"
    },
    "tags": []
   },
   "source": [
    "## Modeling"
   ]
  },
  {
   "cell_type": "code",
   "execution_count": 29,
   "id": "b4b15709",
   "metadata": {
    "execution": {
     "iopub.execute_input": "2022-08-29T11:24:06.477843Z",
     "iopub.status.busy": "2022-08-29T11:24:06.475481Z",
     "iopub.status.idle": "2022-08-29T11:24:06.491605Z",
     "shell.execute_reply": "2022-08-29T11:24:06.487914Z"
    },
    "papermill": {
     "duration": 0.047184,
     "end_time": "2022-08-29T11:24:06.496006",
     "exception": false,
     "start_time": "2022-08-29T11:24:06.448822",
     "status": "completed"
    },
    "tags": []
   },
   "outputs": [],
   "source": [
    "targets = data_preprocessed['log_price']\n",
    "inputs = data_preprocessed.drop(['log_price'], axis=1)"
   ]
  },
  {
   "cell_type": "markdown",
   "id": "d5c7ffbb",
   "metadata": {
    "papermill": {
     "duration": 0.024265,
     "end_time": "2022-08-29T11:24:06.546241",
     "exception": false,
     "start_time": "2022-08-29T11:24:06.521976",
     "status": "completed"
    },
    "tags": []
   },
   "source": [
    "### Scaling data"
   ]
  },
  {
   "cell_type": "code",
   "execution_count": 30,
   "id": "34fde3ff",
   "metadata": {
    "execution": {
     "iopub.execute_input": "2022-08-29T11:24:06.599353Z",
     "iopub.status.busy": "2022-08-29T11:24:06.596785Z",
     "iopub.status.idle": "2022-08-29T11:24:06.612974Z",
     "shell.execute_reply": "2022-08-29T11:24:06.610502Z"
    },
    "papermill": {
     "duration": 0.051157,
     "end_time": "2022-08-29T11:24:06.617846",
     "exception": false,
     "start_time": "2022-08-29T11:24:06.566689",
     "status": "completed"
    },
    "tags": []
   },
   "outputs": [],
   "source": [
    "from sklearn.preprocessing import StandardScaler\n",
    "\n",
    "scaler = StandardScaler()\n",
    "inputs_scaled = scaler.fit_transform(inputs)"
   ]
  },
  {
   "cell_type": "markdown",
   "id": "8a00f764",
   "metadata": {
    "papermill": {
     "duration": 0.02259,
     "end_time": "2022-08-29T11:24:06.663582",
     "exception": false,
     "start_time": "2022-08-29T11:24:06.640992",
     "status": "completed"
    },
    "tags": []
   },
   "source": [
    "### Creating the regression"
   ]
  },
  {
   "cell_type": "code",
   "execution_count": 31,
   "id": "0aed9afc",
   "metadata": {
    "execution": {
     "iopub.execute_input": "2022-08-29T11:24:06.716009Z",
     "iopub.status.busy": "2022-08-29T11:24:06.714109Z",
     "iopub.status.idle": "2022-08-29T11:24:06.729766Z",
     "shell.execute_reply": "2022-08-29T11:24:06.725581Z"
    },
    "papermill": {
     "duration": 0.042375,
     "end_time": "2022-08-29T11:24:06.733554",
     "exception": false,
     "start_time": "2022-08-29T11:24:06.691179",
     "status": "completed"
    },
    "tags": []
   },
   "outputs": [],
   "source": [
    "from sklearn.model_selection import train_test_split\n",
    "\n",
    "x_train, x_test, y_train, y_test = train_test_split(inputs_scaled, targets, test_size=0.2, random_state=365)"
   ]
  },
  {
   "cell_type": "code",
   "execution_count": 32,
   "id": "9674d283",
   "metadata": {
    "execution": {
     "iopub.execute_input": "2022-08-29T11:24:06.786672Z",
     "iopub.status.busy": "2022-08-29T11:24:06.785828Z",
     "iopub.status.idle": "2022-08-29T11:24:06.838261Z",
     "shell.execute_reply": "2022-08-29T11:24:06.836329Z"
    },
    "papermill": {
     "duration": 0.082197,
     "end_time": "2022-08-29T11:24:06.841221",
     "exception": false,
     "start_time": "2022-08-29T11:24:06.759024",
     "status": "completed"
    },
    "tags": []
   },
   "outputs": [
    {
     "data": {
      "text/html": [
       "<style>#sk-container-id-1 {color: black;background-color: white;}#sk-container-id-1 pre{padding: 0;}#sk-container-id-1 div.sk-toggleable {background-color: white;}#sk-container-id-1 label.sk-toggleable__label {cursor: pointer;display: block;width: 100%;margin-bottom: 0;padding: 0.3em;box-sizing: border-box;text-align: center;}#sk-container-id-1 label.sk-toggleable__label-arrow:before {content: \"▸\";float: left;margin-right: 0.25em;color: #696969;}#sk-container-id-1 label.sk-toggleable__label-arrow:hover:before {color: black;}#sk-container-id-1 div.sk-estimator:hover label.sk-toggleable__label-arrow:before {color: black;}#sk-container-id-1 div.sk-toggleable__content {max-height: 0;max-width: 0;overflow: hidden;text-align: left;background-color: #f0f8ff;}#sk-container-id-1 div.sk-toggleable__content pre {margin: 0.2em;color: black;border-radius: 0.25em;background-color: #f0f8ff;}#sk-container-id-1 input.sk-toggleable__control:checked~div.sk-toggleable__content {max-height: 200px;max-width: 100%;overflow: auto;}#sk-container-id-1 input.sk-toggleable__control:checked~label.sk-toggleable__label-arrow:before {content: \"▾\";}#sk-container-id-1 div.sk-estimator input.sk-toggleable__control:checked~label.sk-toggleable__label {background-color: #d4ebff;}#sk-container-id-1 div.sk-label input.sk-toggleable__control:checked~label.sk-toggleable__label {background-color: #d4ebff;}#sk-container-id-1 input.sk-hidden--visually {border: 0;clip: rect(1px 1px 1px 1px);clip: rect(1px, 1px, 1px, 1px);height: 1px;margin: -1px;overflow: hidden;padding: 0;position: absolute;width: 1px;}#sk-container-id-1 div.sk-estimator {font-family: monospace;background-color: #f0f8ff;border: 1px dotted black;border-radius: 0.25em;box-sizing: border-box;margin-bottom: 0.5em;}#sk-container-id-1 div.sk-estimator:hover {background-color: #d4ebff;}#sk-container-id-1 div.sk-parallel-item::after {content: \"\";width: 100%;border-bottom: 1px solid gray;flex-grow: 1;}#sk-container-id-1 div.sk-label:hover label.sk-toggleable__label {background-color: #d4ebff;}#sk-container-id-1 div.sk-serial::before {content: \"\";position: absolute;border-left: 1px solid gray;box-sizing: border-box;top: 0;bottom: 0;left: 50%;z-index: 0;}#sk-container-id-1 div.sk-serial {display: flex;flex-direction: column;align-items: center;background-color: white;padding-right: 0.2em;padding-left: 0.2em;position: relative;}#sk-container-id-1 div.sk-item {position: relative;z-index: 1;}#sk-container-id-1 div.sk-parallel {display: flex;align-items: stretch;justify-content: center;background-color: white;position: relative;}#sk-container-id-1 div.sk-item::before, #sk-container-id-1 div.sk-parallel-item::before {content: \"\";position: absolute;border-left: 1px solid gray;box-sizing: border-box;top: 0;bottom: 0;left: 50%;z-index: -1;}#sk-container-id-1 div.sk-parallel-item {display: flex;flex-direction: column;z-index: 1;position: relative;background-color: white;}#sk-container-id-1 div.sk-parallel-item:first-child::after {align-self: flex-end;width: 50%;}#sk-container-id-1 div.sk-parallel-item:last-child::after {align-self: flex-start;width: 50%;}#sk-container-id-1 div.sk-parallel-item:only-child::after {width: 0;}#sk-container-id-1 div.sk-dashed-wrapped {border: 1px dashed gray;margin: 0 0.4em 0.5em 0.4em;box-sizing: border-box;padding-bottom: 0.4em;background-color: white;}#sk-container-id-1 div.sk-label label {font-family: monospace;font-weight: bold;display: inline-block;line-height: 1.2em;}#sk-container-id-1 div.sk-label-container {text-align: center;}#sk-container-id-1 div.sk-container {/* jupyter's `normalize.less` sets `[hidden] { display: none; }` but bootstrap.min.css set `[hidden] { display: none !important; }` so we also need the `!important` here to be able to override the default hidden behavior on the sphinx rendered scikit-learn.org. See: https://github.com/scikit-learn/scikit-learn/issues/21755 */display: inline-block !important;position: relative;}#sk-container-id-1 div.sk-text-repr-fallback {display: none;}</style><div id=\"sk-container-id-1\" class=\"sk-top-container\"><div class=\"sk-text-repr-fallback\"><pre>LinearRegression()</pre><b>In a Jupyter environment, please rerun this cell to show the HTML representation or trust the notebook. <br />On GitHub, the HTML representation is unable to render, please try loading this page with nbviewer.org.</b></div><div class=\"sk-container\" hidden><div class=\"sk-item\"><div class=\"sk-estimator sk-toggleable\"><input class=\"sk-toggleable__control sk-hidden--visually\" id=\"sk-estimator-id-1\" type=\"checkbox\" checked><label for=\"sk-estimator-id-1\" class=\"sk-toggleable__label sk-toggleable__label-arrow\">LinearRegression</label><div class=\"sk-toggleable__content\"><pre>LinearRegression()</pre></div></div></div></div></div>"
      ],
      "text/plain": [
       "LinearRegression()"
      ]
     },
     "execution_count": 32,
     "metadata": {},
     "output_type": "execute_result"
    }
   ],
   "source": [
    "reg = LinearRegression()\n",
    "reg.fit(x_train, y_train)"
   ]
  },
  {
   "cell_type": "markdown",
   "id": "ab275c0e",
   "metadata": {
    "papermill": {
     "duration": 0.033388,
     "end_time": "2022-08-29T11:24:06.914518",
     "exception": false,
     "start_time": "2022-08-29T11:24:06.881130",
     "status": "completed"
    },
    "tags": []
   },
   "source": [
    "When plotting the predictions against the observed values, we want a linear relationship (or a somewhat 45 degree pattern in the resulting scatter plot), indicating that each observed value is equal or very close to the predicted value."
   ]
  },
  {
   "cell_type": "code",
   "execution_count": 33,
   "id": "ddf1db72",
   "metadata": {
    "execution": {
     "iopub.execute_input": "2022-08-29T11:24:06.974571Z",
     "iopub.status.busy": "2022-08-29T11:24:06.974213Z",
     "iopub.status.idle": "2022-08-29T11:24:07.302158Z",
     "shell.execute_reply": "2022-08-29T11:24:07.301166Z"
    },
    "papermill": {
     "duration": 0.357186,
     "end_time": "2022-08-29T11:24:07.305660",
     "exception": false,
     "start_time": "2022-08-29T11:24:06.948474",
     "status": "completed"
    },
    "tags": []
   },
   "outputs": [
    {
     "data": {
      "image/png": "[encoded data removed]",
      "text/plain": [
       "<Figure size 500x500 with 1 Axes>"
      ]
     },
     "metadata": {},
     "output_type": "display_data"
    },
    {
     "data": {
      "image/png": "[encoded data removed]",
      "text/plain": [
       "<Figure size 1500x300 with 3 Axes>"
      ]
     },
     "metadata": {},
     "output_type": "display_data"
    },
    {
     "data": {
      "image/png": "[encoded data removed]",
      "text/plain": [
       "<Figure size 500x500 with 1 Axes>"
      ]
     },
     "metadata": {},
     "output_type": "display_data"
    },
    {
     "data": {
      "image/png": "[encoded data removed]",
      "text/plain": [
       "<Figure size 1500x300 with 3 Axes>"
      ]
     },
     "metadata": {},
     "output_type": "display_data"
    }
   ],
   "source": [
    "y_hat = reg.predict(x_train)\n",
    "\n",
    "plt.scatter(y_train, y_hat)\n",
    "plt.xlabel('Target (y_train)', size=18)\n",
    "plt.ylabel('Predictions (y_hat)', size=18)\n",
    "plt.xlim(6, 13)\n",
    "plt.ylim(6, 13)\n",
    "plt.show()"
   ]
  },
  {
   "cell_type": "code",
   "execution_count": 34,
   "id": "e3111c0d",
   "metadata": {
    "execution": {
     "iopub.execute_input": "2022-08-29T11:24:07.352924Z",
     "iopub.status.busy": "2022-08-29T11:24:07.352205Z",
     "iopub.status.idle": "2022-08-29T11:24:07.970812Z",
     "shell.execute_reply": "2022-08-29T11:24:07.968534Z"
    },
    "papermill": {
     "duration": 0.643881,
     "end_time": "2022-08-29T11:24:07.973287",
     "exception": false,
     "start_time": "2022-08-29T11:24:07.329406",
     "status": "completed"
    },
    "tags": []
   },
   "outputs": [
    {
     "data": {
      "text/plain": [
       "<seaborn.axisgrid.FacetGrid at 0x7fc5c4e68be0>"
      ]
     },
     "execution_count": 34,
     "metadata": {},
     "output_type": "execute_result"
    }
   ],
   "source": [
    "sns.displot(y_train - y_hat, kind='kde')"
   ]
  },
  {
   "cell_type": "markdown",
   "id": "42e68d34",
   "metadata": {
    "papermill": {
     "duration": 0.026285,
     "end_time": "2022-08-29T11:24:08.022169",
     "exception": false,
     "start_time": "2022-08-29T11:24:07.995884",
     "status": "completed"
    },
    "tags": []
   },
   "source": [
    "By looking at the residuals distribution, we see that the residuals are normally distributed with a mean of zero. We notice that the left tail of the distribution is quite long, meaning that some of the residuals were negative; which indicates that our model frequently predicted a higher price for the car than it truly was."
   ]
  },
  {
   "cell_type": "markdown",
   "id": "f988860b",
   "metadata": {
    "papermill": {
     "duration": 0.02559,
     "end_time": "2022-08-29T11:24:08.073571",
     "exception": false,
     "start_time": "2022-08-29T11:24:08.047981",
     "status": "completed"
    },
    "tags": []
   },
   "source": [
    "### R-squared and adjust r-squared"
   ]
  },
  {
   "cell_type": "markdown",
   "id": "1e645c5f",
   "metadata": {
    "papermill": {
     "duration": 0.027593,
     "end_time": "2022-08-29T11:24:08.124621",
     "exception": false,
     "start_time": "2022-08-29T11:24:08.097028",
     "status": "completed"
    },
    "tags": []
   },
   "source": [
    "$\\bar{R^2}=1-(1-R^2)*\\frac{n-1}{n-p-1}$"
   ]
  },
  {
   "cell_type": "code",
   "execution_count": 35,
   "id": "b4a8dfa2",
   "metadata": {
    "execution": {
     "iopub.execute_input": "2022-08-29T11:24:08.172823Z",
     "iopub.status.busy": "2022-08-29T11:24:08.172491Z",
     "iopub.status.idle": "2022-08-29T11:24:08.182462Z",
     "shell.execute_reply": "2022-08-29T11:24:08.181245Z"
    },
    "papermill": {
     "duration": 0.042218,
     "end_time": "2022-08-29T11:24:08.187838",
     "exception": false,
     "start_time": "2022-08-29T11:24:08.145620",
     "status": "completed"
    },
    "tags": []
   },
   "outputs": [
    {
     "data": {
      "text/plain": [
       "0.744996578792662"
      ]
     },
     "execution_count": 35,
     "metadata": {},
     "output_type": "execute_result"
    }
   ],
   "source": [
    "reg.score(x_train, y_train)"
   ]
  },
  {
   "cell_type": "code",
   "execution_count": 36,
   "id": "f41f4fcc",
   "metadata": {
    "execution": {
     "iopub.execute_input": "2022-08-29T11:24:08.262549Z",
     "iopub.status.busy": "2022-08-29T11:24:08.261926Z",
     "iopub.status.idle": "2022-08-29T11:24:08.290160Z",
     "shell.execute_reply": "2022-08-29T11:24:08.288061Z"
    },
    "papermill": {
     "duration": 0.075872,
     "end_time": "2022-08-29T11:24:08.296031",
     "exception": false,
     "start_time": "2022-08-29T11:24:08.220159",
     "status": "completed"
    },
    "tags": []
   },
   "outputs": [
    {
     "data": {
      "text/plain": [
       "0.7435868037811093"
      ]
     },
     "execution_count": 36,
     "metadata": {},
     "output_type": "execute_result"
    }
   ],
   "source": [
    "r2 = reg.score(x_train, y_train)\n",
    "n = x_train.shape[0]\n",
    "p = x_train.shape[1]\n",
    "\n",
    "1-(1-r2)*(n-1)/(n-p-1)"
   ]
  },
  {
   "cell_type": "markdown",
   "id": "464bfda0",
   "metadata": {
    "papermill": {
     "duration": 0.043236,
     "end_time": "2022-08-29T11:24:08.390444",
     "exception": false,
     "start_time": "2022-08-29T11:24:08.347208",
     "status": "completed"
    },
    "tags": []
   },
   "source": [
    "### Examining coefficients"
   ]
  },
  {
   "cell_type": "code",
   "execution_count": 37,
   "id": "27a9f027",
   "metadata": {
    "execution": {
     "iopub.execute_input": "2022-08-29T11:24:08.450035Z",
     "iopub.status.busy": "2022-08-29T11:24:08.449608Z",
     "iopub.status.idle": "2022-08-29T11:24:08.471209Z",
     "shell.execute_reply": "2022-08-29T11:24:08.467100Z"
    },
    "papermill": {
     "duration": 0.054452,
     "end_time": "2022-08-29T11:24:08.474497",
     "exception": false,
     "start_time": "2022-08-29T11:24:08.420045",
     "status": "completed"
    },
    "tags": []
   },
   "outputs": [
    {
     "data": {
      "text/html": [
       "<div>\n",
       "<style scoped>\n",
       "    .dataframe tbody tr th:only-of-type {\n",
       "        vertical-align: middle;\n",
       "    }\n",
       "\n",
       "    .dataframe tbody tr th {\n",
       "        vertical-align: top;\n",
       "    }\n",
       "\n",
       "    .dataframe thead th {\n",
       "        text-align: right;\n",
       "    }\n",
       "</style>\n",
       "<table border=\"1\" class=\"dataframe\">\n",
       "  <thead>\n",
       "    <tr style=\"text-align: right;\">\n",
       "      <th></th>\n",
       "      <th>Features</th>\n",
       "      <th>Weights</th>\n",
       "    </tr>\n",
       "  </thead>\n",
       "  <tbody>\n",
       "    <tr>\n",
       "      <th>0</th>\n",
       "      <td>Mileage</td>\n",
       "      <td>-0.448713</td>\n",
       "    </tr>\n",
       "    <tr>\n",
       "      <th>1</th>\n",
       "      <td>EngineV</td>\n",
       "      <td>0.209035</td>\n",
       "    </tr>\n",
       "    <tr>\n",
       "      <th>2</th>\n",
       "      <td>Brand_BMW</td>\n",
       "      <td>0.014250</td>\n",
       "    </tr>\n",
       "    <tr>\n",
       "      <th>3</th>\n",
       "      <td>Brand_Mercedes-Benz</td>\n",
       "      <td>0.012882</td>\n",
       "    </tr>\n",
       "    <tr>\n",
       "      <th>4</th>\n",
       "      <td>Brand_Mitsubishi</td>\n",
       "      <td>-0.140552</td>\n",
       "    </tr>\n",
       "    <tr>\n",
       "      <th>5</th>\n",
       "      <td>Brand_Renault</td>\n",
       "      <td>-0.179909</td>\n",
       "    </tr>\n",
       "    <tr>\n",
       "      <th>6</th>\n",
       "      <td>Brand_Toyota</td>\n",
       "      <td>-0.060550</td>\n",
       "    </tr>\n",
       "    <tr>\n",
       "      <th>7</th>\n",
       "      <td>Brand_Volkswagen</td>\n",
       "      <td>-0.089924</td>\n",
       "    </tr>\n",
       "    <tr>\n",
       "      <th>8</th>\n",
       "      <td>Body_hatch</td>\n",
       "      <td>-0.145469</td>\n",
       "    </tr>\n",
       "    <tr>\n",
       "      <th>9</th>\n",
       "      <td>Body_other</td>\n",
       "      <td>-0.101444</td>\n",
       "    </tr>\n",
       "    <tr>\n",
       "      <th>10</th>\n",
       "      <td>Body_sedan</td>\n",
       "      <td>-0.200630</td>\n",
       "    </tr>\n",
       "    <tr>\n",
       "      <th>11</th>\n",
       "      <td>Body_vagon</td>\n",
       "      <td>-0.129887</td>\n",
       "    </tr>\n",
       "    <tr>\n",
       "      <th>12</th>\n",
       "      <td>Body_van</td>\n",
       "      <td>-0.168597</td>\n",
       "    </tr>\n",
       "    <tr>\n",
       "      <th>13</th>\n",
       "      <td>Engine Type_Gas</td>\n",
       "      <td>-0.121490</td>\n",
       "    </tr>\n",
       "    <tr>\n",
       "      <th>14</th>\n",
       "      <td>Engine Type_Other</td>\n",
       "      <td>-0.033368</td>\n",
       "    </tr>\n",
       "    <tr>\n",
       "      <th>15</th>\n",
       "      <td>Engine Type_Petrol</td>\n",
       "      <td>-0.146909</td>\n",
       "    </tr>\n",
       "    <tr>\n",
       "      <th>16</th>\n",
       "      <td>Registration_yes</td>\n",
       "      <td>0.320473</td>\n",
       "    </tr>\n",
       "  </tbody>\n",
       "</table>\n",
       "</div>"
      ],
      "text/plain": [
       "               Features   Weights\n",
       "0               Mileage -0.448713\n",
       "1               EngineV  0.209035\n",
       "2             Brand_BMW  0.014250\n",
       "3   Brand_Mercedes-Benz  0.012882\n",
       "4      Brand_Mitsubishi -0.140552\n",
       "5         Brand_Renault -0.179909\n",
       "6          Brand_Toyota -0.060550\n",
       "7      Brand_Volkswagen -0.089924\n",
       "8            Body_hatch -0.145469\n",
       "9            Body_other -0.101444\n",
       "10           Body_sedan -0.200630\n",
       "11           Body_vagon -0.129887\n",
       "12             Body_van -0.168597\n",
       "13      Engine Type_Gas -0.121490\n",
       "14    Engine Type_Other -0.033368\n",
       "15   Engine Type_Petrol -0.146909\n",
       "16     Registration_yes  0.320473"
      ]
     },
     "execution_count": 37,
     "metadata": {},
     "output_type": "execute_result"
    }
   ],
   "source": [
    "reg_summary = pd.DataFrame(inputs.columns.values, columns=['Features'])\n",
    "reg_summary['Weights'] = reg.coef_\n",
    "reg_summary"
   ]
  },
  {
   "cell_type": "markdown",
   "id": "d72efbc2",
   "metadata": {
    "papermill": {
     "duration": 0.031443,
     "end_time": "2022-08-29T11:24:08.533485",
     "exception": false,
     "start_time": "2022-08-29T11:24:08.502042",
     "status": "completed"
    },
    "tags": []
   },
   "source": [
    "For continuous variables, a positive weight means that as the feature increases so does `Price`, while a negative weight means that as the feauture increases the target decreases. In the case of categorical variables, since we have used dummies we have dropped one category for each categorical variable; so when all included dummies of a certain variable zero then the drop dummy is one. In the case of `Brand` we have dropped the `Audi` value, so that is the \"benchmark\". If another brand in the variable is positive that means it is more expensive than `Audi`, if it is negative that means it is cheaper."
   ]
  },
  {
   "cell_type": "markdown",
   "id": "56a34e87",
   "metadata": {
    "papermill": {
     "duration": 0.031457,
     "end_time": "2022-08-29T11:24:08.596298",
     "exception": false,
     "start_time": "2022-08-29T11:24:08.564841",
     "status": "completed"
    },
    "tags": []
   },
   "source": [
    "## Testing"
   ]
  },
  {
   "cell_type": "code",
   "execution_count": 38,
   "id": "8485828c",
   "metadata": {
    "execution": {
     "iopub.execute_input": "2022-08-29T11:24:08.661116Z",
     "iopub.status.busy": "2022-08-29T11:24:08.660606Z",
     "iopub.status.idle": "2022-08-29T11:24:08.939818Z",
     "shell.execute_reply": "2022-08-29T11:24:08.935657Z"
    },
    "papermill": {
     "duration": 0.315384,
     "end_time": "2022-08-29T11:24:08.944044",
     "exception": false,
     "start_time": "2022-08-29T11:24:08.628660",
     "status": "completed"
    },
    "tags": []
   },
   "outputs": [
    {
     "data": {
      "image/png": "[encoded data removed]",
      "text/plain": [
       "<Figure size 500x500 with 1 Axes>"
      ]
     },
     "metadata": {},
     "output_type": "display_data"
    }
   ],
   "source": [
    "y_hat_test = reg.predict(x_test)\n",
    "\n",
    "plt.scatter(y_test, y_hat_test, alpha=0.2)\n",
    "plt.xlabel('Target (y_test)', size=18)\n",
    "plt.ylabel('Predictions (y_hat_test)', size=18)\n",
    "plt.xlim(6, 13)\n",
    "plt.ylim(6, 13)\n",
    "plt.show()"
   ]
  },
  {
   "cell_type": "markdown",
   "id": "8bb7413e",
   "metadata": {
    "papermill": {
     "duration": 0.021373,
     "end_time": "2022-08-29T11:24:08.992127",
     "exception": false,
     "start_time": "2022-08-29T11:24:08.970754",
     "status": "completed"
    },
    "tags": []
   },
   "source": [
    "Again we observe a somewhat linear pattern in the scatter plot. However for higher prices we have a higher concentration around the 45 degree line, as opposed to for lower prices. This means our model predicts for higher prices than it does for lower ones."
   ]
  },
  {
   "cell_type": "markdown",
   "id": "ec0c12ab",
   "metadata": {
    "papermill": {
     "duration": 0.021951,
     "end_time": "2022-08-29T11:24:09.034882",
     "exception": false,
     "start_time": "2022-08-29T11:24:09.012931",
     "status": "completed"
    },
    "tags": []
   },
   "source": [
    "### Assessing predictions manually"
   ]
  },
  {
   "cell_type": "markdown",
   "id": "73f6a8b7",
   "metadata": {
    "papermill": {
     "duration": 0.025206,
     "end_time": "2022-08-29T11:24:09.082121",
     "exception": false,
     "start_time": "2022-08-29T11:24:09.056915",
     "status": "completed"
    },
    "tags": []
   },
   "source": [
    "Since we used the log transformation before on the targets, we will apply `np.exp` to revert them back to their original form."
   ]
  },
  {
   "cell_type": "code",
   "execution_count": 39,
   "id": "a6d2595a",
   "metadata": {
    "execution": {
     "iopub.execute_input": "2022-08-29T11:24:09.135268Z",
     "iopub.status.busy": "2022-08-29T11:24:09.134935Z",
     "iopub.status.idle": "2022-08-29T11:24:09.146478Z",
     "shell.execute_reply": "2022-08-29T11:24:09.143994Z"
    },
    "papermill": {
     "duration": 0.038911,
     "end_time": "2022-08-29T11:24:09.149504",
     "exception": false,
     "start_time": "2022-08-29T11:24:09.110593",
     "status": "completed"
    },
    "tags": []
   },
   "outputs": [],
   "source": [
    "df_pf = pd.DataFrame(np.exp(y_hat_test), columns=['Predictions'])\n",
    "df_pf['Targets'] = np.exp(y_test).reset_index(drop=True)"
   ]
  },
  {
   "cell_type": "code",
   "execution_count": 40,
   "id": "036be3b3",
   "metadata": {
    "execution": {
     "iopub.execute_input": "2022-08-29T11:24:09.205862Z",
     "iopub.status.busy": "2022-08-29T11:24:09.205260Z",
     "iopub.status.idle": "2022-08-29T11:24:09.220874Z",
     "shell.execute_reply": "2022-08-29T11:24:09.216925Z"
    },
    "papermill": {
     "duration": 0.046846,
     "end_time": "2022-08-29T11:24:09.223802",
     "exception": false,
     "start_time": "2022-08-29T11:24:09.176956",
     "status": "completed"
    },
    "tags": []
   },
   "outputs": [],
   "source": [
    "df_pf['Residuals'] = df_pf['Targets'] - df_pf['Predictions']\n",
    "df_pf['Difference %'] = np.absolute(df_pf['Residuals'] / df_pf['Targets'] * 100)"
   ]
  },
  {
   "cell_type": "code",
   "execution_count": 41,
   "id": "7333dfbd",
   "metadata": {
    "execution": {
     "iopub.execute_input": "2022-08-29T11:24:09.277822Z",
     "iopub.status.busy": "2022-08-29T11:24:09.275619Z",
     "iopub.status.idle": "2022-08-29T11:24:09.294101Z",
     "shell.execute_reply": "2022-08-29T11:24:09.292793Z"
    },
    "papermill": {
     "duration": 0.051088,
     "end_time": "2022-08-29T11:24:09.298766",
     "exception": false,
     "start_time": "2022-08-29T11:24:09.247678",
     "status": "completed"
    },
    "tags": []
   },
   "outputs": [
    {
     "data": {
      "text/html": [
       "<div>\n",
       "<style scoped>\n",
       "    .dataframe tbody tr th:only-of-type {\n",
       "        vertical-align: middle;\n",
       "    }\n",
       "\n",
       "    .dataframe tbody tr th {\n",
       "        vertical-align: top;\n",
       "    }\n",
       "\n",
       "    .dataframe thead th {\n",
       "        text-align: right;\n",
       "    }\n",
       "</style>\n",
       "<table border=\"1\" class=\"dataframe\">\n",
       "  <thead>\n",
       "    <tr style=\"text-align: right;\">\n",
       "      <th></th>\n",
       "      <th>Predictions</th>\n",
       "      <th>Targets</th>\n",
       "      <th>Residuals</th>\n",
       "      <th>Difference %</th>\n",
       "    </tr>\n",
       "  </thead>\n",
       "  <tbody>\n",
       "    <tr>\n",
       "      <th>0</th>\n",
       "      <td>10685.501696</td>\n",
       "      <td>2300.0</td>\n",
       "      <td>-8385.501696</td>\n",
       "      <td>364.587030</td>\n",
       "    </tr>\n",
       "    <tr>\n",
       "      <th>1</th>\n",
       "      <td>3499.255242</td>\n",
       "      <td>2800.0</td>\n",
       "      <td>-699.255242</td>\n",
       "      <td>24.973402</td>\n",
       "    </tr>\n",
       "    <tr>\n",
       "      <th>2</th>\n",
       "      <td>7553.285218</td>\n",
       "      <td>2500.0</td>\n",
       "      <td>-5053.285218</td>\n",
       "      <td>202.131409</td>\n",
       "    </tr>\n",
       "    <tr>\n",
       "      <th>3</th>\n",
       "      <td>7463.963017</td>\n",
       "      <td>6400.0</td>\n",
       "      <td>-1063.963017</td>\n",
       "      <td>16.624422</td>\n",
       "    </tr>\n",
       "    <tr>\n",
       "      <th>4</th>\n",
       "      <td>11353.490075</td>\n",
       "      <td>9150.0</td>\n",
       "      <td>-2203.490075</td>\n",
       "      <td>24.081859</td>\n",
       "    </tr>\n",
       "  </tbody>\n",
       "</table>\n",
       "</div>"
      ],
      "text/plain": [
       "    Predictions  Targets    Residuals  Difference %\n",
       "0  10685.501696   2300.0 -8385.501696    364.587030\n",
       "1   3499.255242   2800.0  -699.255242     24.973402\n",
       "2   7553.285218   2500.0 -5053.285218    202.131409\n",
       "3   7463.963017   6400.0 -1063.963017     16.624422\n",
       "4  11353.490075   9150.0 -2203.490075     24.081859"
      ]
     },
     "execution_count": 41,
     "metadata": {},
     "output_type": "execute_result"
    }
   ],
   "source": [
    "df_pf.head()"
   ]
  },
  {
   "cell_type": "code",
   "execution_count": 42,
   "id": "e2be6034",
   "metadata": {
    "execution": {
     "iopub.execute_input": "2022-08-29T11:24:09.350488Z",
     "iopub.status.busy": "2022-08-29T11:24:09.350162Z",
     "iopub.status.idle": "2022-08-29T11:24:09.386557Z",
     "shell.execute_reply": "2022-08-29T11:24:09.384827Z"
    },
    "papermill": {
     "duration": 0.065146,
     "end_time": "2022-08-29T11:24:09.389514",
     "exception": false,
     "start_time": "2022-08-29T11:24:09.324368",
     "status": "completed"
    },
    "tags": []
   },
   "outputs": [
    {
     "data": {
      "text/html": [
       "<div>\n",
       "<style scoped>\n",
       "    .dataframe tbody tr th:only-of-type {\n",
       "        vertical-align: middle;\n",
       "    }\n",
       "\n",
       "    .dataframe tbody tr th {\n",
       "        vertical-align: top;\n",
       "    }\n",
       "\n",
       "    .dataframe thead th {\n",
       "        text-align: right;\n",
       "    }\n",
       "</style>\n",
       "<table border=\"1\" class=\"dataframe\">\n",
       "  <thead>\n",
       "    <tr style=\"text-align: right;\">\n",
       "      <th></th>\n",
       "      <th>Predictions</th>\n",
       "      <th>Targets</th>\n",
       "      <th>Residuals</th>\n",
       "      <th>Difference %</th>\n",
       "    </tr>\n",
       "  </thead>\n",
       "  <tbody>\n",
       "    <tr>\n",
       "      <th>count</th>\n",
       "      <td>774.000000</td>\n",
       "      <td>774.000000</td>\n",
       "      <td>774.000000</td>\n",
       "      <td>774.000000</td>\n",
       "    </tr>\n",
       "    <tr>\n",
       "      <th>mean</th>\n",
       "      <td>15946.760167</td>\n",
       "      <td>18165.817106</td>\n",
       "      <td>2219.056939</td>\n",
       "      <td>36.256693</td>\n",
       "    </tr>\n",
       "    <tr>\n",
       "      <th>std</th>\n",
       "      <td>13133.197604</td>\n",
       "      <td>19967.858908</td>\n",
       "      <td>10871.218143</td>\n",
       "      <td>55.066507</td>\n",
       "    </tr>\n",
       "    <tr>\n",
       "      <th>min</th>\n",
       "      <td>1320.562768</td>\n",
       "      <td>1200.000000</td>\n",
       "      <td>-29456.498331</td>\n",
       "      <td>0.062794</td>\n",
       "    </tr>\n",
       "    <tr>\n",
       "      <th>25%</th>\n",
       "      <td>7413.644234</td>\n",
       "      <td>6900.000000</td>\n",
       "      <td>-2044.191251</td>\n",
       "      <td>12.108022</td>\n",
       "    </tr>\n",
       "    <tr>\n",
       "      <th>50%</th>\n",
       "      <td>11568.168859</td>\n",
       "      <td>11600.000000</td>\n",
       "      <td>142.518577</td>\n",
       "      <td>23.467728</td>\n",
       "    </tr>\n",
       "    <tr>\n",
       "      <th>75%</th>\n",
       "      <td>20162.408805</td>\n",
       "      <td>20500.000000</td>\n",
       "      <td>3147.343497</td>\n",
       "      <td>39.563570</td>\n",
       "    </tr>\n",
       "    <tr>\n",
       "      <th>max</th>\n",
       "      <td>77403.055224</td>\n",
       "      <td>126000.000000</td>\n",
       "      <td>85106.162329</td>\n",
       "      <td>512.688080</td>\n",
       "    </tr>\n",
       "  </tbody>\n",
       "</table>\n",
       "</div>"
      ],
      "text/plain": [
       "        Predictions        Targets     Residuals  Difference %\n",
       "count    774.000000     774.000000    774.000000    774.000000\n",
       "mean   15946.760167   18165.817106   2219.056939     36.256693\n",
       "std    13133.197604   19967.858908  10871.218143     55.066507\n",
       "min     1320.562768    1200.000000 -29456.498331      0.062794\n",
       "25%     7413.644234    6900.000000  -2044.191251     12.108022\n",
       "50%    11568.168859   11600.000000    142.518577     23.467728\n",
       "75%    20162.408805   20500.000000   3147.343497     39.563570\n",
       "max    77403.055224  126000.000000  85106.162329    512.688080"
      ]
     },
     "execution_count": 42,
     "metadata": {},
     "output_type": "execute_result"
    }
   ],
   "source": [
    "df_pf.describe()"
   ]
  },
  {
   "cell_type": "code",
   "execution_count": 43,
   "id": "221372ea",
   "metadata": {
    "execution": {
     "iopub.execute_input": "2022-08-29T11:24:09.442209Z",
     "iopub.status.busy": "2022-08-29T11:24:09.441653Z",
     "iopub.status.idle": "2022-08-29T11:24:09.465551Z",
     "shell.execute_reply": "2022-08-29T11:24:09.463880Z"
    },
    "papermill": {
     "duration": 0.055202,
     "end_time": "2022-08-29T11:24:09.469916",
     "exception": false,
     "start_time": "2022-08-29T11:24:09.414714",
     "status": "completed"
    },
    "tags": []
   },
   "outputs": [
    {
     "data": {
      "text/html": [
       "<div>\n",
       "<style scoped>\n",
       "    .dataframe tbody tr th:only-of-type {\n",
       "        vertical-align: middle;\n",
       "    }\n",
       "\n",
       "    .dataframe tbody tr th {\n",
       "        vertical-align: top;\n",
       "    }\n",
       "\n",
       "    .dataframe thead th {\n",
       "        text-align: right;\n",
       "    }\n",
       "</style>\n",
       "<table border=\"1\" class=\"dataframe\">\n",
       "  <thead>\n",
       "    <tr style=\"text-align: right;\">\n",
       "      <th></th>\n",
       "      <th>Predictions</th>\n",
       "      <th>Targets</th>\n",
       "      <th>Residuals</th>\n",
       "      <th>Difference %</th>\n",
       "    </tr>\n",
       "  </thead>\n",
       "  <tbody>\n",
       "    <tr>\n",
       "      <th>698</th>\n",
       "      <td>30480.847838</td>\n",
       "      <td>30500.0</td>\n",
       "      <td>19.152162</td>\n",
       "      <td>0.062794</td>\n",
       "    </tr>\n",
       "    <tr>\n",
       "      <th>742</th>\n",
       "      <td>16960.310476</td>\n",
       "      <td>16999.0</td>\n",
       "      <td>38.689524</td>\n",
       "      <td>0.227599</td>\n",
       "    </tr>\n",
       "    <tr>\n",
       "      <th>60</th>\n",
       "      <td>12469.207487</td>\n",
       "      <td>12500.0</td>\n",
       "      <td>30.792513</td>\n",
       "      <td>0.246340</td>\n",
       "    </tr>\n",
       "    <tr>\n",
       "      <th>110</th>\n",
       "      <td>25614.137960</td>\n",
       "      <td>25500.0</td>\n",
       "      <td>-114.137960</td>\n",
       "      <td>0.447600</td>\n",
       "    </tr>\n",
       "    <tr>\n",
       "      <th>367</th>\n",
       "      <td>42703.676996</td>\n",
       "      <td>42500.0</td>\n",
       "      <td>-203.676996</td>\n",
       "      <td>0.479240</td>\n",
       "    </tr>\n",
       "    <tr>\n",
       "      <th>...</th>\n",
       "      <td>...</td>\n",
       "      <td>...</td>\n",
       "      <td>...</td>\n",
       "      <td>...</td>\n",
       "    </tr>\n",
       "    <tr>\n",
       "      <th>657</th>\n",
       "      <td>32481.045510</td>\n",
       "      <td>6000.0</td>\n",
       "      <td>-26481.045510</td>\n",
       "      <td>441.350758</td>\n",
       "    </tr>\n",
       "    <tr>\n",
       "      <th>162</th>\n",
       "      <td>9954.416247</td>\n",
       "      <td>1800.0</td>\n",
       "      <td>-8154.416247</td>\n",
       "      <td>453.023125</td>\n",
       "    </tr>\n",
       "    <tr>\n",
       "      <th>451</th>\n",
       "      <td>35956.498331</td>\n",
       "      <td>6500.0</td>\n",
       "      <td>-29456.498331</td>\n",
       "      <td>453.176897</td>\n",
       "    </tr>\n",
       "    <tr>\n",
       "      <th>532</th>\n",
       "      <td>10019.903027</td>\n",
       "      <td>1800.0</td>\n",
       "      <td>-8219.903027</td>\n",
       "      <td>456.661279</td>\n",
       "    </tr>\n",
       "    <tr>\n",
       "      <th>639</th>\n",
       "      <td>30628.277108</td>\n",
       "      <td>4999.0</td>\n",
       "      <td>-25629.277108</td>\n",
       "      <td>512.688080</td>\n",
       "    </tr>\n",
       "  </tbody>\n",
       "</table>\n",
       "<p>774 rows × 4 columns</p>\n",
       "</div>"
      ],
      "text/plain": [
       "      Predictions  Targets     Residuals  Difference %\n",
       "698  30480.847838  30500.0     19.152162      0.062794\n",
       "742  16960.310476  16999.0     38.689524      0.227599\n",
       "60   12469.207487  12500.0     30.792513      0.246340\n",
       "110  25614.137960  25500.0   -114.137960      0.447600\n",
       "367  42703.676996  42500.0   -203.676996      0.479240\n",
       "..            ...      ...           ...           ...\n",
       "657  32481.045510   6000.0 -26481.045510    441.350758\n",
       "162   9954.416247   1800.0  -8154.416247    453.023125\n",
       "451  35956.498331   6500.0 -29456.498331    453.176897\n",
       "532  10019.903027   1800.0  -8219.903027    456.661279\n",
       "639  30628.277108   4999.0 -25629.277108    512.688080\n",
       "\n",
       "[774 rows x 4 columns]"
      ]
     },
     "execution_count": 43,
     "metadata": {},
     "output_type": "execute_result"
    }
   ],
   "source": [
    "df_pf.sort_values(by=['Difference %'])"
   ]
  },
  {
   "cell_type": "markdown",
   "id": "a3425278",
   "metadata": {
    "papermill": {
     "duration": 0.026338,
     "end_time": "2022-08-29T11:24:09.519626",
     "exception": false,
     "start_time": "2022-08-29T11:24:09.493288",
     "status": "completed"
    },
    "tags": []
   },
   "source": [
    "We can see that the instances that were the most far off, have negative residuals, which means our model predicted a higher price than it really was. An explanation would be that we are missing an important factor, maybe the `Model` feature."
   ]
  }
 ],
 "metadata": {
  "kernelspec": {
   "display_name": "Python 3.9.12 ('ml-env')",
   "language": "python",
   "name": "python3"
  },
  "language_info": {
   "codemirror_mode": {
    "name": "ipython",
    "version": 3
   },
   "file_extension": ".py",
   "mimetype": "text/x-python",
   "name": "python",
   "nbconvert_exporter": "python",
   "pygments_lexer": "ipython3",
   "version": "3.9.12"
  },
  "papermill": {
   "default_parameters": {},
   "duration": 35.272774,
   "end_time": "2022-08-29T11:24:11.906622",
   "environment_variables": {},
   "exception": null,
   "input_path": "__notebook__.ipynb",
   "output_path": "__notebook__.ipynb",
   "parameters": {},
   "start_time": "2022-08-29T11:23:36.633848",
   "version": "2.3.4"
  },
  "vscode": {
   "interpreter": {
    "hash": "6e92f738de8b90cde63de865266dbc2f0731dfead426ea1479c0e54561778e9d"
   }
  }
 },
 "nbformat": 4,
 "nbformat_minor": 5
}

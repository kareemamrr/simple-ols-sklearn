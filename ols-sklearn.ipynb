{
 "cells": [
  {
   "cell_type": "code",
   "execution_count": 1,
   "id": "ae553a99",
   "metadata": {
    "_cell_guid": "b1076dfc-b9ad-4769-8c92-a6c4dae69d19",
    "_uuid": "8f2839f25d086af736a60e9eeb907d3b93b6e0e5",
    "execution": {
     "iopub.execute_input": "2022-08-30T21:40:49.694264Z",
     "iopub.status.busy": "2022-08-30T21:40:49.693659Z",
     "iopub.status.idle": "2022-08-30T21:40:52.075641Z",
     "shell.execute_reply": "2022-08-30T21:40:52.074368Z"
    },
    "papermill": {
     "duration": 2.403761,
     "end_time": "2022-08-30T21:40:52.078772",
     "exception": false,
     "start_time": "2022-08-30T21:40:49.675011",
     "status": "completed"
    },
    "tags": []
   },
   "outputs": [],
   "source": [
    "import numpy as np\n",
    "import pandas as pd\n",
    "import statsmodels.api as sm\n",
    "import matplotlib.pyplot as plt\n",
    "from sklearn.linear_model import LinearRegression\n",
    "from sklearn.preprocessing import StandardScaler\n",
    "import seaborn as sns\n",
    "sns.set()"
   ]
  },
  {
   "cell_type": "markdown",
   "id": "f1ba155b",
   "metadata": {
    "papermill": {
     "duration": 0.016622,
     "end_time": "2022-08-30T21:40:52.110216",
     "exception": false,
     "start_time": "2022-08-30T21:40:52.093594",
     "status": "completed"
    },
    "tags": []
   },
   "source": [
    "## Data exploration"
   ]
  },
  {
   "cell_type": "code",
   "execution_count": 2,
   "id": "190824e1",
   "metadata": {
    "execution": {
     "iopub.execute_input": "2022-08-30T21:40:52.142257Z",
     "iopub.status.busy": "2022-08-30T21:40:52.141435Z",
     "iopub.status.idle": "2022-08-30T21:40:52.192680Z",
     "shell.execute_reply": "2022-08-30T21:40:52.191470Z"
    },
    "papermill": {
     "duration": 0.07099,
     "end_time": "2022-08-30T21:40:52.196025",
     "exception": false,
     "start_time": "2022-08-30T21:40:52.125035",
     "status": "completed"
    },
    "tags": []
   },
   "outputs": [
    {
     "data": {
      "text/html": [
       "<div>\n",
       "<style scoped>\n",
       "    .dataframe tbody tr th:only-of-type {\n",
       "        vertical-align: middle;\n",
       "    }\n",
       "\n",
       "    .dataframe tbody tr th {\n",
       "        vertical-align: top;\n",
       "    }\n",
       "\n",
       "    .dataframe thead th {\n",
       "        text-align: right;\n",
       "    }\n",
       "</style>\n",
       "<table border=\"1\" class=\"dataframe\">\n",
       "  <thead>\n",
       "    <tr style=\"text-align: right;\">\n",
       "      <th></th>\n",
       "      <th>Brand</th>\n",
       "      <th>Price</th>\n",
       "      <th>Body</th>\n",
       "      <th>Mileage</th>\n",
       "      <th>EngineV</th>\n",
       "      <th>Engine Type</th>\n",
       "      <th>Registration</th>\n",
       "      <th>Year</th>\n",
       "      <th>Model</th>\n",
       "    </tr>\n",
       "  </thead>\n",
       "  <tbody>\n",
       "    <tr>\n",
       "      <th>0</th>\n",
       "      <td>BMW</td>\n",
       "      <td>4200.0</td>\n",
       "      <td>sedan</td>\n",
       "      <td>277</td>\n",
       "      <td>2.0</td>\n",
       "      <td>Petrol</td>\n",
       "      <td>yes</td>\n",
       "      <td>1991</td>\n",
       "      <td>320</td>\n",
       "    </tr>\n",
       "    <tr>\n",
       "      <th>1</th>\n",
       "      <td>Mercedes-Benz</td>\n",
       "      <td>7900.0</td>\n",
       "      <td>van</td>\n",
       "      <td>427</td>\n",
       "      <td>2.9</td>\n",
       "      <td>Diesel</td>\n",
       "      <td>yes</td>\n",
       "      <td>1999</td>\n",
       "      <td>Sprinter 212</td>\n",
       "    </tr>\n",
       "    <tr>\n",
       "      <th>2</th>\n",
       "      <td>Mercedes-Benz</td>\n",
       "      <td>13300.0</td>\n",
       "      <td>sedan</td>\n",
       "      <td>358</td>\n",
       "      <td>5.0</td>\n",
       "      <td>Gas</td>\n",
       "      <td>yes</td>\n",
       "      <td>2003</td>\n",
       "      <td>S 500</td>\n",
       "    </tr>\n",
       "    <tr>\n",
       "      <th>3</th>\n",
       "      <td>Audi</td>\n",
       "      <td>23000.0</td>\n",
       "      <td>crossover</td>\n",
       "      <td>240</td>\n",
       "      <td>4.2</td>\n",
       "      <td>Petrol</td>\n",
       "      <td>yes</td>\n",
       "      <td>2007</td>\n",
       "      <td>Q7</td>\n",
       "    </tr>\n",
       "    <tr>\n",
       "      <th>4</th>\n",
       "      <td>Toyota</td>\n",
       "      <td>18300.0</td>\n",
       "      <td>crossover</td>\n",
       "      <td>120</td>\n",
       "      <td>2.0</td>\n",
       "      <td>Petrol</td>\n",
       "      <td>yes</td>\n",
       "      <td>2011</td>\n",
       "      <td>Rav 4</td>\n",
       "    </tr>\n",
       "  </tbody>\n",
       "</table>\n",
       "</div>"
      ],
      "text/plain": [
       "           Brand    Price       Body  Mileage  EngineV Engine Type  \\\n",
       "0            BMW   4200.0      sedan      277      2.0      Petrol   \n",
       "1  Mercedes-Benz   7900.0        van      427      2.9      Diesel   \n",
       "2  Mercedes-Benz  13300.0      sedan      358      5.0         Gas   \n",
       "3           Audi  23000.0  crossover      240      4.2      Petrol   \n",
       "4         Toyota  18300.0  crossover      120      2.0      Petrol   \n",
       "\n",
       "  Registration  Year         Model  \n",
       "0          yes  1991           320  \n",
       "1          yes  1999  Sprinter 212  \n",
       "2          yes  2003         S 500  \n",
       "3          yes  2007            Q7  \n",
       "4          yes  2011         Rav 4  "
      ]
     },
     "execution_count": 2,
     "metadata": {},
     "output_type": "execute_result"
    }
   ],
   "source": [
    "raw_data = pd.read_csv('../input/2nd-hand-car-price-prediction/1.04.Real-lifeexample.csv')\n",
    "raw_data.head()"
   ]
  },
  {
   "cell_type": "code",
   "execution_count": 3,
   "id": "8af905b9",
   "metadata": {
    "execution": {
     "iopub.execute_input": "2022-08-30T21:40:52.228327Z",
     "iopub.status.busy": "2022-08-30T21:40:52.227567Z",
     "iopub.status.idle": "2022-08-30T21:40:52.262569Z",
     "shell.execute_reply": "2022-08-30T21:40:52.261371Z"
    },
    "papermill": {
     "duration": 0.054208,
     "end_time": "2022-08-30T21:40:52.265281",
     "exception": false,
     "start_time": "2022-08-30T21:40:52.211073",
     "status": "completed"
    },
    "tags": []
   },
   "outputs": [
    {
     "data": {
      "text/html": [
       "<div>\n",
       "<style scoped>\n",
       "    .dataframe tbody tr th:only-of-type {\n",
       "        vertical-align: middle;\n",
       "    }\n",
       "\n",
       "    .dataframe tbody tr th {\n",
       "        vertical-align: top;\n",
       "    }\n",
       "\n",
       "    .dataframe thead th {\n",
       "        text-align: right;\n",
       "    }\n",
       "</style>\n",
       "<table border=\"1\" class=\"dataframe\">\n",
       "  <thead>\n",
       "    <tr style=\"text-align: right;\">\n",
       "      <th></th>\n",
       "      <th>Price</th>\n",
       "      <th>Mileage</th>\n",
       "      <th>EngineV</th>\n",
       "      <th>Year</th>\n",
       "    </tr>\n",
       "  </thead>\n",
       "  <tbody>\n",
       "    <tr>\n",
       "      <th>count</th>\n",
       "      <td>4173.000000</td>\n",
       "      <td>4345.000000</td>\n",
       "      <td>4195.000000</td>\n",
       "      <td>4345.000000</td>\n",
       "    </tr>\n",
       "    <tr>\n",
       "      <th>mean</th>\n",
       "      <td>19418.746935</td>\n",
       "      <td>161.237284</td>\n",
       "      <td>2.790734</td>\n",
       "      <td>2006.550058</td>\n",
       "    </tr>\n",
       "    <tr>\n",
       "      <th>std</th>\n",
       "      <td>25584.242620</td>\n",
       "      <td>105.705797</td>\n",
       "      <td>5.066437</td>\n",
       "      <td>6.719097</td>\n",
       "    </tr>\n",
       "    <tr>\n",
       "      <th>min</th>\n",
       "      <td>600.000000</td>\n",
       "      <td>0.000000</td>\n",
       "      <td>0.600000</td>\n",
       "      <td>1969.000000</td>\n",
       "    </tr>\n",
       "    <tr>\n",
       "      <th>25%</th>\n",
       "      <td>6999.000000</td>\n",
       "      <td>86.000000</td>\n",
       "      <td>1.800000</td>\n",
       "      <td>2003.000000</td>\n",
       "    </tr>\n",
       "    <tr>\n",
       "      <th>50%</th>\n",
       "      <td>11500.000000</td>\n",
       "      <td>155.000000</td>\n",
       "      <td>2.200000</td>\n",
       "      <td>2008.000000</td>\n",
       "    </tr>\n",
       "    <tr>\n",
       "      <th>75%</th>\n",
       "      <td>21700.000000</td>\n",
       "      <td>230.000000</td>\n",
       "      <td>3.000000</td>\n",
       "      <td>2012.000000</td>\n",
       "    </tr>\n",
       "    <tr>\n",
       "      <th>max</th>\n",
       "      <td>300000.000000</td>\n",
       "      <td>980.000000</td>\n",
       "      <td>99.990000</td>\n",
       "      <td>2016.000000</td>\n",
       "    </tr>\n",
       "  </tbody>\n",
       "</table>\n",
       "</div>"
      ],
      "text/plain": [
       "               Price      Mileage      EngineV         Year\n",
       "count    4173.000000  4345.000000  4195.000000  4345.000000\n",
       "mean    19418.746935   161.237284     2.790734  2006.550058\n",
       "std     25584.242620   105.705797     5.066437     6.719097\n",
       "min       600.000000     0.000000     0.600000  1969.000000\n",
       "25%      6999.000000    86.000000     1.800000  2003.000000\n",
       "50%     11500.000000   155.000000     2.200000  2008.000000\n",
       "75%     21700.000000   230.000000     3.000000  2012.000000\n",
       "max    300000.000000   980.000000    99.990000  2016.000000"
      ]
     },
     "execution_count": 3,
     "metadata": {},
     "output_type": "execute_result"
    }
   ],
   "source": [
    "raw_data.describe()"
   ]
  },
  {
   "cell_type": "code",
   "execution_count": 4,
   "id": "28213550",
   "metadata": {
    "execution": {
     "iopub.execute_input": "2022-08-30T21:40:52.298226Z",
     "iopub.status.busy": "2022-08-30T21:40:52.297540Z",
     "iopub.status.idle": "2022-08-30T21:40:52.333315Z",
     "shell.execute_reply": "2022-08-30T21:40:52.332089Z"
    },
    "papermill": {
     "duration": 0.055031,
     "end_time": "2022-08-30T21:40:52.336040",
     "exception": false,
     "start_time": "2022-08-30T21:40:52.281009",
     "status": "completed"
    },
    "tags": []
   },
   "outputs": [
    {
     "data": {
      "text/html": [
       "<div>\n",
       "<style scoped>\n",
       "    .dataframe tbody tr th:only-of-type {\n",
       "        vertical-align: middle;\n",
       "    }\n",
       "\n",
       "    .dataframe tbody tr th {\n",
       "        vertical-align: top;\n",
       "    }\n",
       "\n",
       "    .dataframe thead th {\n",
       "        text-align: right;\n",
       "    }\n",
       "</style>\n",
       "<table border=\"1\" class=\"dataframe\">\n",
       "  <thead>\n",
       "    <tr style=\"text-align: right;\">\n",
       "      <th></th>\n",
       "      <th>Brand</th>\n",
       "      <th>Price</th>\n",
       "      <th>Body</th>\n",
       "      <th>Mileage</th>\n",
       "      <th>EngineV</th>\n",
       "      <th>Engine Type</th>\n",
       "      <th>Registration</th>\n",
       "      <th>Year</th>\n",
       "      <th>Model</th>\n",
       "    </tr>\n",
       "  </thead>\n",
       "  <tbody>\n",
       "    <tr>\n",
       "      <th>count</th>\n",
       "      <td>4345</td>\n",
       "      <td>4173.000000</td>\n",
       "      <td>4345</td>\n",
       "      <td>4345.000000</td>\n",
       "      <td>4195.000000</td>\n",
       "      <td>4345</td>\n",
       "      <td>4345</td>\n",
       "      <td>4345.000000</td>\n",
       "      <td>4345</td>\n",
       "    </tr>\n",
       "    <tr>\n",
       "      <th>unique</th>\n",
       "      <td>7</td>\n",
       "      <td>NaN</td>\n",
       "      <td>6</td>\n",
       "      <td>NaN</td>\n",
       "      <td>NaN</td>\n",
       "      <td>4</td>\n",
       "      <td>2</td>\n",
       "      <td>NaN</td>\n",
       "      <td>312</td>\n",
       "    </tr>\n",
       "    <tr>\n",
       "      <th>top</th>\n",
       "      <td>Volkswagen</td>\n",
       "      <td>NaN</td>\n",
       "      <td>sedan</td>\n",
       "      <td>NaN</td>\n",
       "      <td>NaN</td>\n",
       "      <td>Diesel</td>\n",
       "      <td>yes</td>\n",
       "      <td>NaN</td>\n",
       "      <td>E-Class</td>\n",
       "    </tr>\n",
       "    <tr>\n",
       "      <th>freq</th>\n",
       "      <td>936</td>\n",
       "      <td>NaN</td>\n",
       "      <td>1649</td>\n",
       "      <td>NaN</td>\n",
       "      <td>NaN</td>\n",
       "      <td>2019</td>\n",
       "      <td>3947</td>\n",
       "      <td>NaN</td>\n",
       "      <td>199</td>\n",
       "    </tr>\n",
       "    <tr>\n",
       "      <th>mean</th>\n",
       "      <td>NaN</td>\n",
       "      <td>19418.746935</td>\n",
       "      <td>NaN</td>\n",
       "      <td>161.237284</td>\n",
       "      <td>2.790734</td>\n",
       "      <td>NaN</td>\n",
       "      <td>NaN</td>\n",
       "      <td>2006.550058</td>\n",
       "      <td>NaN</td>\n",
       "    </tr>\n",
       "    <tr>\n",
       "      <th>std</th>\n",
       "      <td>NaN</td>\n",
       "      <td>25584.242620</td>\n",
       "      <td>NaN</td>\n",
       "      <td>105.705797</td>\n",
       "      <td>5.066437</td>\n",
       "      <td>NaN</td>\n",
       "      <td>NaN</td>\n",
       "      <td>6.719097</td>\n",
       "      <td>NaN</td>\n",
       "    </tr>\n",
       "    <tr>\n",
       "      <th>min</th>\n",
       "      <td>NaN</td>\n",
       "      <td>600.000000</td>\n",
       "      <td>NaN</td>\n",
       "      <td>0.000000</td>\n",
       "      <td>0.600000</td>\n",
       "      <td>NaN</td>\n",
       "      <td>NaN</td>\n",
       "      <td>1969.000000</td>\n",
       "      <td>NaN</td>\n",
       "    </tr>\n",
       "    <tr>\n",
       "      <th>25%</th>\n",
       "      <td>NaN</td>\n",
       "      <td>6999.000000</td>\n",
       "      <td>NaN</td>\n",
       "      <td>86.000000</td>\n",
       "      <td>1.800000</td>\n",
       "      <td>NaN</td>\n",
       "      <td>NaN</td>\n",
       "      <td>2003.000000</td>\n",
       "      <td>NaN</td>\n",
       "    </tr>\n",
       "    <tr>\n",
       "      <th>50%</th>\n",
       "      <td>NaN</td>\n",
       "      <td>11500.000000</td>\n",
       "      <td>NaN</td>\n",
       "      <td>155.000000</td>\n",
       "      <td>2.200000</td>\n",
       "      <td>NaN</td>\n",
       "      <td>NaN</td>\n",
       "      <td>2008.000000</td>\n",
       "      <td>NaN</td>\n",
       "    </tr>\n",
       "    <tr>\n",
       "      <th>75%</th>\n",
       "      <td>NaN</td>\n",
       "      <td>21700.000000</td>\n",
       "      <td>NaN</td>\n",
       "      <td>230.000000</td>\n",
       "      <td>3.000000</td>\n",
       "      <td>NaN</td>\n",
       "      <td>NaN</td>\n",
       "      <td>2012.000000</td>\n",
       "      <td>NaN</td>\n",
       "    </tr>\n",
       "    <tr>\n",
       "      <th>max</th>\n",
       "      <td>NaN</td>\n",
       "      <td>300000.000000</td>\n",
       "      <td>NaN</td>\n",
       "      <td>980.000000</td>\n",
       "      <td>99.990000</td>\n",
       "      <td>NaN</td>\n",
       "      <td>NaN</td>\n",
       "      <td>2016.000000</td>\n",
       "      <td>NaN</td>\n",
       "    </tr>\n",
       "  </tbody>\n",
       "</table>\n",
       "</div>"
      ],
      "text/plain": [
       "             Brand          Price   Body      Mileage      EngineV  \\\n",
       "count         4345    4173.000000   4345  4345.000000  4195.000000   \n",
       "unique           7            NaN      6          NaN          NaN   \n",
       "top     Volkswagen            NaN  sedan          NaN          NaN   \n",
       "freq           936            NaN   1649          NaN          NaN   \n",
       "mean           NaN   19418.746935    NaN   161.237284     2.790734   \n",
       "std            NaN   25584.242620    NaN   105.705797     5.066437   \n",
       "min            NaN     600.000000    NaN     0.000000     0.600000   \n",
       "25%            NaN    6999.000000    NaN    86.000000     1.800000   \n",
       "50%            NaN   11500.000000    NaN   155.000000     2.200000   \n",
       "75%            NaN   21700.000000    NaN   230.000000     3.000000   \n",
       "max            NaN  300000.000000    NaN   980.000000    99.990000   \n",
       "\n",
       "       Engine Type Registration         Year    Model  \n",
       "count         4345         4345  4345.000000     4345  \n",
       "unique           4            2          NaN      312  \n",
       "top         Diesel          yes          NaN  E-Class  \n",
       "freq          2019         3947          NaN      199  \n",
       "mean           NaN          NaN  2006.550058      NaN  \n",
       "std            NaN          NaN     6.719097      NaN  \n",
       "min            NaN          NaN  1969.000000      NaN  \n",
       "25%            NaN          NaN  2003.000000      NaN  \n",
       "50%            NaN          NaN  2008.000000      NaN  \n",
       "75%            NaN          NaN  2012.000000      NaN  \n",
       "max            NaN          NaN  2016.000000      NaN  "
      ]
     },
     "execution_count": 4,
     "metadata": {},
     "output_type": "execute_result"
    }
   ],
   "source": [
    "raw_data.describe(include='all')"
   ]
  },
  {
   "cell_type": "markdown",
   "id": "fe80fbe9",
   "metadata": {
    "papermill": {
     "duration": 0.01521,
     "end_time": "2022-08-30T21:40:52.366682",
     "exception": false,
     "start_time": "2022-08-30T21:40:52.351472",
     "status": "completed"
    },
    "tags": []
   },
   "source": [
    "## Data cleaning"
   ]
  },
  {
   "cell_type": "markdown",
   "id": "3c97d835",
   "metadata": {
    "papermill": {
     "duration": 0.015529,
     "end_time": "2022-08-30T21:40:52.397575",
     "exception": false,
     "start_time": "2022-08-30T21:40:52.382046",
     "status": "completed"
    },
    "tags": []
   },
   "source": [
    "We will drop the `Model` column as it is not crucial"
   ]
  },
  {
   "cell_type": "code",
   "execution_count": 5,
   "id": "b692168b",
   "metadata": {
    "execution": {
     "iopub.execute_input": "2022-08-30T21:40:52.430352Z",
     "iopub.status.busy": "2022-08-30T21:40:52.429577Z",
     "iopub.status.idle": "2022-08-30T21:40:52.435329Z",
     "shell.execute_reply": "2022-08-30T21:40:52.434463Z"
    },
    "papermill": {
     "duration": 0.024877,
     "end_time": "2022-08-30T21:40:52.437746",
     "exception": false,
     "start_time": "2022-08-30T21:40:52.412869",
     "status": "completed"
    },
    "tags": []
   },
   "outputs": [],
   "source": [
    "data = raw_data.drop(['Model'], axis=1)"
   ]
  },
  {
   "cell_type": "code",
   "execution_count": 6,
   "id": "8fabd24d",
   "metadata": {
    "execution": {
     "iopub.execute_input": "2022-08-30T21:40:52.470794Z",
     "iopub.status.busy": "2022-08-30T21:40:52.470074Z",
     "iopub.status.idle": "2022-08-30T21:40:52.479624Z",
     "shell.execute_reply": "2022-08-30T21:40:52.478417Z"
    },
    "papermill": {
     "duration": 0.02911,
     "end_time": "2022-08-30T21:40:52.482395",
     "exception": false,
     "start_time": "2022-08-30T21:40:52.453285",
     "status": "completed"
    },
    "tags": []
   },
   "outputs": [
    {
     "data": {
      "text/plain": [
       "Brand             0\n",
       "Price           172\n",
       "Body              0\n",
       "Mileage           0\n",
       "EngineV         150\n",
       "Engine Type       0\n",
       "Registration      0\n",
       "Year              0\n",
       "dtype: int64"
      ]
     },
     "execution_count": 6,
     "metadata": {},
     "output_type": "execute_result"
    }
   ],
   "source": [
    "data.isnull().sum()"
   ]
  },
  {
   "cell_type": "code",
   "execution_count": 7,
   "id": "71e861eb",
   "metadata": {
    "execution": {
     "iopub.execute_input": "2022-08-30T21:40:52.515294Z",
     "iopub.status.busy": "2022-08-30T21:40:52.514812Z",
     "iopub.status.idle": "2022-08-30T21:40:52.524351Z",
     "shell.execute_reply": "2022-08-30T21:40:52.523032Z"
    },
    "papermill": {
     "duration": 0.028598,
     "end_time": "2022-08-30T21:40:52.526705",
     "exception": false,
     "start_time": "2022-08-30T21:40:52.498107",
     "status": "completed"
    },
    "tags": []
   },
   "outputs": [
    {
     "name": "stdout",
     "output_type": "stream",
     "text": [
      "Missing 0.9263521288837744%\n"
     ]
    }
   ],
   "source": [
    "total_cells = np.product(data.shape)\n",
    "total_missing = data.isnull().sum().sum()\n",
    "print(f'Missing {(total_missing/total_cells)*100}%')"
   ]
  },
  {
   "cell_type": "code",
   "execution_count": 8,
   "id": "4d4c7dd2",
   "metadata": {
    "execution": {
     "iopub.execute_input": "2022-08-30T21:40:52.560672Z",
     "iopub.status.busy": "2022-08-30T21:40:52.559900Z",
     "iopub.status.idle": "2022-08-30T21:40:52.568538Z",
     "shell.execute_reply": "2022-08-30T21:40:52.567428Z"
    },
    "papermill": {
     "duration": 0.028631,
     "end_time": "2022-08-30T21:40:52.570987",
     "exception": false,
     "start_time": "2022-08-30T21:40:52.542356",
     "status": "completed"
    },
    "tags": []
   },
   "outputs": [],
   "source": [
    "data_no_mv = data.dropna(axis=0)"
   ]
  },
  {
   "cell_type": "code",
   "execution_count": 9,
   "id": "8043759b",
   "metadata": {
    "execution": {
     "iopub.execute_input": "2022-08-30T21:40:52.604806Z",
     "iopub.status.busy": "2022-08-30T21:40:52.604066Z",
     "iopub.status.idle": "2022-08-30T21:40:52.640331Z",
     "shell.execute_reply": "2022-08-30T21:40:52.638850Z"
    },
    "papermill": {
     "duration": 0.056783,
     "end_time": "2022-08-30T21:40:52.643590",
     "exception": false,
     "start_time": "2022-08-30T21:40:52.586807",
     "status": "completed"
    },
    "tags": []
   },
   "outputs": [
    {
     "data": {
      "text/html": [
       "<div>\n",
       "<style scoped>\n",
       "    .dataframe tbody tr th:only-of-type {\n",
       "        vertical-align: middle;\n",
       "    }\n",
       "\n",
       "    .dataframe tbody tr th {\n",
       "        vertical-align: top;\n",
       "    }\n",
       "\n",
       "    .dataframe thead th {\n",
       "        text-align: right;\n",
       "    }\n",
       "</style>\n",
       "<table border=\"1\" class=\"dataframe\">\n",
       "  <thead>\n",
       "    <tr style=\"text-align: right;\">\n",
       "      <th></th>\n",
       "      <th>Brand</th>\n",
       "      <th>Price</th>\n",
       "      <th>Body</th>\n",
       "      <th>Mileage</th>\n",
       "      <th>EngineV</th>\n",
       "      <th>Engine Type</th>\n",
       "      <th>Registration</th>\n",
       "      <th>Year</th>\n",
       "    </tr>\n",
       "  </thead>\n",
       "  <tbody>\n",
       "    <tr>\n",
       "      <th>count</th>\n",
       "      <td>4025</td>\n",
       "      <td>4025.000000</td>\n",
       "      <td>4025</td>\n",
       "      <td>4025.000000</td>\n",
       "      <td>4025.000000</td>\n",
       "      <td>4025</td>\n",
       "      <td>4025</td>\n",
       "      <td>4025.000000</td>\n",
       "    </tr>\n",
       "    <tr>\n",
       "      <th>unique</th>\n",
       "      <td>7</td>\n",
       "      <td>NaN</td>\n",
       "      <td>6</td>\n",
       "      <td>NaN</td>\n",
       "      <td>NaN</td>\n",
       "      <td>4</td>\n",
       "      <td>2</td>\n",
       "      <td>NaN</td>\n",
       "    </tr>\n",
       "    <tr>\n",
       "      <th>top</th>\n",
       "      <td>Volkswagen</td>\n",
       "      <td>NaN</td>\n",
       "      <td>sedan</td>\n",
       "      <td>NaN</td>\n",
       "      <td>NaN</td>\n",
       "      <td>Diesel</td>\n",
       "      <td>yes</td>\n",
       "      <td>NaN</td>\n",
       "    </tr>\n",
       "    <tr>\n",
       "      <th>freq</th>\n",
       "      <td>880</td>\n",
       "      <td>NaN</td>\n",
       "      <td>1534</td>\n",
       "      <td>NaN</td>\n",
       "      <td>NaN</td>\n",
       "      <td>1861</td>\n",
       "      <td>3654</td>\n",
       "      <td>NaN</td>\n",
       "    </tr>\n",
       "    <tr>\n",
       "      <th>mean</th>\n",
       "      <td>NaN</td>\n",
       "      <td>19552.308065</td>\n",
       "      <td>NaN</td>\n",
       "      <td>163.572174</td>\n",
       "      <td>2.764586</td>\n",
       "      <td>NaN</td>\n",
       "      <td>NaN</td>\n",
       "      <td>2006.379627</td>\n",
       "    </tr>\n",
       "    <tr>\n",
       "      <th>std</th>\n",
       "      <td>NaN</td>\n",
       "      <td>25815.734988</td>\n",
       "      <td>NaN</td>\n",
       "      <td>103.394703</td>\n",
       "      <td>4.935941</td>\n",
       "      <td>NaN</td>\n",
       "      <td>NaN</td>\n",
       "      <td>6.695595</td>\n",
       "    </tr>\n",
       "    <tr>\n",
       "      <th>min</th>\n",
       "      <td>NaN</td>\n",
       "      <td>600.000000</td>\n",
       "      <td>NaN</td>\n",
       "      <td>0.000000</td>\n",
       "      <td>0.600000</td>\n",
       "      <td>NaN</td>\n",
       "      <td>NaN</td>\n",
       "      <td>1969.000000</td>\n",
       "    </tr>\n",
       "    <tr>\n",
       "      <th>25%</th>\n",
       "      <td>NaN</td>\n",
       "      <td>6999.000000</td>\n",
       "      <td>NaN</td>\n",
       "      <td>90.000000</td>\n",
       "      <td>1.800000</td>\n",
       "      <td>NaN</td>\n",
       "      <td>NaN</td>\n",
       "      <td>2003.000000</td>\n",
       "    </tr>\n",
       "    <tr>\n",
       "      <th>50%</th>\n",
       "      <td>NaN</td>\n",
       "      <td>11500.000000</td>\n",
       "      <td>NaN</td>\n",
       "      <td>158.000000</td>\n",
       "      <td>2.200000</td>\n",
       "      <td>NaN</td>\n",
       "      <td>NaN</td>\n",
       "      <td>2007.000000</td>\n",
       "    </tr>\n",
       "    <tr>\n",
       "      <th>75%</th>\n",
       "      <td>NaN</td>\n",
       "      <td>21900.000000</td>\n",
       "      <td>NaN</td>\n",
       "      <td>230.000000</td>\n",
       "      <td>3.000000</td>\n",
       "      <td>NaN</td>\n",
       "      <td>NaN</td>\n",
       "      <td>2012.000000</td>\n",
       "    </tr>\n",
       "    <tr>\n",
       "      <th>max</th>\n",
       "      <td>NaN</td>\n",
       "      <td>300000.000000</td>\n",
       "      <td>NaN</td>\n",
       "      <td>980.000000</td>\n",
       "      <td>99.990000</td>\n",
       "      <td>NaN</td>\n",
       "      <td>NaN</td>\n",
       "      <td>2016.000000</td>\n",
       "    </tr>\n",
       "  </tbody>\n",
       "</table>\n",
       "</div>"
      ],
      "text/plain": [
       "             Brand          Price   Body      Mileage      EngineV  \\\n",
       "count         4025    4025.000000   4025  4025.000000  4025.000000   \n",
       "unique           7            NaN      6          NaN          NaN   \n",
       "top     Volkswagen            NaN  sedan          NaN          NaN   \n",
       "freq           880            NaN   1534          NaN          NaN   \n",
       "mean           NaN   19552.308065    NaN   163.572174     2.764586   \n",
       "std            NaN   25815.734988    NaN   103.394703     4.935941   \n",
       "min            NaN     600.000000    NaN     0.000000     0.600000   \n",
       "25%            NaN    6999.000000    NaN    90.000000     1.800000   \n",
       "50%            NaN   11500.000000    NaN   158.000000     2.200000   \n",
       "75%            NaN   21900.000000    NaN   230.000000     3.000000   \n",
       "max            NaN  300000.000000    NaN   980.000000    99.990000   \n",
       "\n",
       "       Engine Type Registration         Year  \n",
       "count         4025         4025  4025.000000  \n",
       "unique           4            2          NaN  \n",
       "top         Diesel          yes          NaN  \n",
       "freq          1861         3654          NaN  \n",
       "mean           NaN          NaN  2006.379627  \n",
       "std            NaN          NaN     6.695595  \n",
       "min            NaN          NaN  1969.000000  \n",
       "25%            NaN          NaN  2003.000000  \n",
       "50%            NaN          NaN  2007.000000  \n",
       "75%            NaN          NaN  2012.000000  \n",
       "max            NaN          NaN  2016.000000  "
      ]
     },
     "execution_count": 9,
     "metadata": {},
     "output_type": "execute_result"
    }
   ],
   "source": [
    "data_no_mv.describe(include='all')"
   ]
  },
  {
   "cell_type": "markdown",
   "id": "f7f108b1",
   "metadata": {
    "papermill": {
     "duration": 0.015738,
     "end_time": "2022-08-30T21:40:52.675960",
     "exception": false,
     "start_time": "2022-08-30T21:40:52.660222",
     "status": "completed"
    },
    "tags": []
   },
   "source": [
    "### Exploring Distributions"
   ]
  },
  {
   "cell_type": "code",
   "execution_count": 10,
   "id": "451e532c",
   "metadata": {
    "execution": {
     "iopub.execute_input": "2022-08-30T21:40:52.710162Z",
     "iopub.status.busy": "2022-08-30T21:40:52.709373Z",
     "iopub.status.idle": "2022-08-30T21:40:53.133684Z",
     "shell.execute_reply": "2022-08-30T21:40:53.132452Z"
    },
    "papermill": {
     "duration": 0.444165,
     "end_time": "2022-08-30T21:40:53.136221",
     "exception": false,
     "start_time": "2022-08-30T21:40:52.692056",
     "status": "completed"
    },
    "tags": []
   },
   "outputs": [
    {
     "data": {
      "text/plain": [
       "<seaborn.axisgrid.FacetGrid at 0x7f9e7d89b9d0>"
      ]
     },
     "execution_count": 10,
     "metadata": {},
     "output_type": "execute_result"
    },
    {
     "data": {
      "image/png": "[encoded data removed]",
      "text/plain": [
       "<Figure size 360x360 with 1 Axes>"
      ]
     },
     "metadata": {},
     "output_type": "display_data"
    }
   ],
   "source": [
    "sns.displot(data_no_mv['Price'], kind='kde')"
   ]
  },
  {
   "cell_type": "markdown",
   "id": "8ae2ce79",
   "metadata": {
    "papermill": {
     "duration": 0.016393,
     "end_time": "2022-08-30T21:40:53.169453",
     "exception": false,
     "start_time": "2022-08-30T21:40:53.153060",
     "status": "completed"
    },
    "tags": []
   },
   "source": [
    "### Dealing with outliers"
   ]
  },
  {
   "cell_type": "markdown",
   "id": "cbda856a",
   "metadata": {
    "papermill": {
     "duration": 0.015898,
     "end_time": "2022-08-30T21:40:53.201782",
     "exception": false,
     "start_time": "2022-08-30T21:40:53.185884",
     "status": "completed"
    },
    "tags": []
   },
   "source": [
    "The mean of the `Price` variable is 19,552, 75% of its values are below 21,900, while its max value is 300,000; so there a lot of outliers. To remove outliers we can remove the top 1% of values using `pd.quantile` or `np.percentile`."
   ]
  },
  {
   "cell_type": "code",
   "execution_count": 11,
   "id": "d6475efe",
   "metadata": {
    "execution": {
     "iopub.execute_input": "2022-08-30T21:40:53.236014Z",
     "iopub.status.busy": "2022-08-30T21:40:53.235581Z",
     "iopub.status.idle": "2022-08-30T21:40:53.243820Z",
     "shell.execute_reply": "2022-08-30T21:40:53.242502Z"
    },
    "papermill": {
     "duration": 0.028196,
     "end_time": "2022-08-30T21:40:53.246126",
     "exception": false,
     "start_time": "2022-08-30T21:40:53.217930",
     "status": "completed"
    },
    "tags": []
   },
   "outputs": [],
   "source": [
    "q = data_no_mv['Price'].quantile(.99)\n",
    "data_1 = data_no_mv[data_no_mv['Price'] < q]"
   ]
  },
  {
   "cell_type": "code",
   "execution_count": 12,
   "id": "773ec3c5",
   "metadata": {
    "execution": {
     "iopub.execute_input": "2022-08-30T21:40:53.281258Z",
     "iopub.status.busy": "2022-08-30T21:40:53.280498Z",
     "iopub.status.idle": "2022-08-30T21:40:53.644469Z",
     "shell.execute_reply": "2022-08-30T21:40:53.643260Z"
    },
    "papermill": {
     "duration": 0.384577,
     "end_time": "2022-08-30T21:40:53.647210",
     "exception": false,
     "start_time": "2022-08-30T21:40:53.262633",
     "status": "completed"
    },
    "tags": []
   },
   "outputs": [
    {
     "data": {
      "text/plain": [
       "<seaborn.axisgrid.FacetGrid at 0x7f9e7db28fd0>"
      ]
     },
     "execution_count": 12,
     "metadata": {},
     "output_type": "execute_result"
    },
    {
     "data": {
      "image/png": "[encoded data removed]",
      "text/plain": [
       "<Figure size 360x360 with 1 Axes>"
      ]
     },
     "metadata": {},
     "output_type": "display_data"
    }
   ],
   "source": [
    "sns.displot(data_1['Price'], kind='kde')"
   ]
  },
  {
   "cell_type": "markdown",
   "id": "6af9b6be",
   "metadata": {
    "papermill": {
     "duration": 0.016382,
     "end_time": "2022-08-30T21:40:53.680714",
     "exception": false,
     "start_time": "2022-08-30T21:40:53.664332",
     "status": "completed"
    },
    "tags": []
   },
   "source": [
    "#### We'll do the same to `Mileage` and `EngineV` columns"
   ]
  },
  {
   "cell_type": "code",
   "execution_count": 13,
   "id": "f10c5260",
   "metadata": {
    "execution": {
     "iopub.execute_input": "2022-08-30T21:40:53.715843Z",
     "iopub.status.busy": "2022-08-30T21:40:53.715418Z",
     "iopub.status.idle": "2022-08-30T21:40:53.724468Z",
     "shell.execute_reply": "2022-08-30T21:40:53.723313Z"
    },
    "papermill": {
     "duration": 0.029501,
     "end_time": "2022-08-30T21:40:53.726873",
     "exception": false,
     "start_time": "2022-08-30T21:40:53.697372",
     "status": "completed"
    },
    "tags": []
   },
   "outputs": [],
   "source": [
    "q = data_1['Mileage'].quantile(.99)\n",
    "data_2 = data_1[data_1['Mileage'] < q]"
   ]
  },
  {
   "cell_type": "code",
   "execution_count": 14,
   "id": "4f72f8a3",
   "metadata": {
    "execution": {
     "iopub.execute_input": "2022-08-30T21:40:53.762307Z",
     "iopub.status.busy": "2022-08-30T21:40:53.761826Z",
     "iopub.status.idle": "2022-08-30T21:40:53.769085Z",
     "shell.execute_reply": "2022-08-30T21:40:53.767901Z"
    },
    "papermill": {
     "duration": 0.027599,
     "end_time": "2022-08-30T21:40:53.771446",
     "exception": false,
     "start_time": "2022-08-30T21:40:53.743847",
     "status": "completed"
    },
    "tags": []
   },
   "outputs": [],
   "source": [
    "data_3 = data_2[data_2['EngineV'] < 6.5]"
   ]
  },
  {
   "cell_type": "code",
   "execution_count": 15,
   "id": "ed649d7a",
   "metadata": {
    "execution": {
     "iopub.execute_input": "2022-08-30T21:40:53.807973Z",
     "iopub.status.busy": "2022-08-30T21:40:53.807540Z",
     "iopub.status.idle": "2022-08-30T21:40:53.817463Z",
     "shell.execute_reply": "2022-08-30T21:40:53.816204Z"
    },
    "papermill": {
     "duration": 0.03141,
     "end_time": "2022-08-30T21:40:53.820257",
     "exception": false,
     "start_time": "2022-08-30T21:40:53.788847",
     "status": "completed"
    },
    "tags": []
   },
   "outputs": [],
   "source": [
    "q = data_3['Year'].quantile(.01)\n",
    "data_4 = data_3[data_3['Year'] > q]"
   ]
  },
  {
   "cell_type": "code",
   "execution_count": 16,
   "id": "253d9fe6",
   "metadata": {
    "execution": {
     "iopub.execute_input": "2022-08-30T21:40:53.856842Z",
     "iopub.status.busy": "2022-08-30T21:40:53.856053Z",
     "iopub.status.idle": "2022-08-30T21:40:53.862560Z",
     "shell.execute_reply": "2022-08-30T21:40:53.861180Z"
    },
    "papermill": {
     "duration": 0.02793,
     "end_time": "2022-08-30T21:40:53.865404",
     "exception": false,
     "start_time": "2022-08-30T21:40:53.837474",
     "status": "completed"
    },
    "tags": []
   },
   "outputs": [],
   "source": [
    "cleaned_data = data_4.reset_index(drop=True)"
   ]
  },
  {
   "cell_type": "code",
   "execution_count": 17,
   "id": "62d14271",
   "metadata": {
    "execution": {
     "iopub.execute_input": "2022-08-30T21:40:53.903440Z",
     "iopub.status.busy": "2022-08-30T21:40:53.902983Z",
     "iopub.status.idle": "2022-08-30T21:40:53.939220Z",
     "shell.execute_reply": "2022-08-30T21:40:53.937980Z"
    },
    "papermill": {
     "duration": 0.057836,
     "end_time": "2022-08-30T21:40:53.942003",
     "exception": false,
     "start_time": "2022-08-30T21:40:53.884167",
     "status": "completed"
    },
    "tags": []
   },
   "outputs": [
    {
     "data": {
      "text/html": [
       "<div>\n",
       "<style scoped>\n",
       "    .dataframe tbody tr th:only-of-type {\n",
       "        vertical-align: middle;\n",
       "    }\n",
       "\n",
       "    .dataframe tbody tr th {\n",
       "        vertical-align: top;\n",
       "    }\n",
       "\n",
       "    .dataframe thead th {\n",
       "        text-align: right;\n",
       "    }\n",
       "</style>\n",
       "<table border=\"1\" class=\"dataframe\">\n",
       "  <thead>\n",
       "    <tr style=\"text-align: right;\">\n",
       "      <th></th>\n",
       "      <th>Brand</th>\n",
       "      <th>Price</th>\n",
       "      <th>Body</th>\n",
       "      <th>Mileage</th>\n",
       "      <th>EngineV</th>\n",
       "      <th>Engine Type</th>\n",
       "      <th>Registration</th>\n",
       "      <th>Year</th>\n",
       "    </tr>\n",
       "  </thead>\n",
       "  <tbody>\n",
       "    <tr>\n",
       "      <th>count</th>\n",
       "      <td>3867</td>\n",
       "      <td>3867.000000</td>\n",
       "      <td>3867</td>\n",
       "      <td>3867.000000</td>\n",
       "      <td>3867.000000</td>\n",
       "      <td>3867</td>\n",
       "      <td>3867</td>\n",
       "      <td>3867.000000</td>\n",
       "    </tr>\n",
       "    <tr>\n",
       "      <th>unique</th>\n",
       "      <td>7</td>\n",
       "      <td>NaN</td>\n",
       "      <td>6</td>\n",
       "      <td>NaN</td>\n",
       "      <td>NaN</td>\n",
       "      <td>4</td>\n",
       "      <td>2</td>\n",
       "      <td>NaN</td>\n",
       "    </tr>\n",
       "    <tr>\n",
       "      <th>top</th>\n",
       "      <td>Volkswagen</td>\n",
       "      <td>NaN</td>\n",
       "      <td>sedan</td>\n",
       "      <td>NaN</td>\n",
       "      <td>NaN</td>\n",
       "      <td>Diesel</td>\n",
       "      <td>yes</td>\n",
       "      <td>NaN</td>\n",
       "    </tr>\n",
       "    <tr>\n",
       "      <th>freq</th>\n",
       "      <td>848</td>\n",
       "      <td>NaN</td>\n",
       "      <td>1467</td>\n",
       "      <td>NaN</td>\n",
       "      <td>NaN</td>\n",
       "      <td>1807</td>\n",
       "      <td>3505</td>\n",
       "      <td>NaN</td>\n",
       "    </tr>\n",
       "    <tr>\n",
       "      <th>mean</th>\n",
       "      <td>NaN</td>\n",
       "      <td>18194.455679</td>\n",
       "      <td>NaN</td>\n",
       "      <td>160.542539</td>\n",
       "      <td>2.450440</td>\n",
       "      <td>NaN</td>\n",
       "      <td>NaN</td>\n",
       "      <td>2006.709853</td>\n",
       "    </tr>\n",
       "    <tr>\n",
       "      <th>std</th>\n",
       "      <td>NaN</td>\n",
       "      <td>19085.855165</td>\n",
       "      <td>NaN</td>\n",
       "      <td>95.633291</td>\n",
       "      <td>0.949366</td>\n",
       "      <td>NaN</td>\n",
       "      <td>NaN</td>\n",
       "      <td>6.103870</td>\n",
       "    </tr>\n",
       "    <tr>\n",
       "      <th>min</th>\n",
       "      <td>NaN</td>\n",
       "      <td>800.000000</td>\n",
       "      <td>NaN</td>\n",
       "      <td>0.000000</td>\n",
       "      <td>0.600000</td>\n",
       "      <td>NaN</td>\n",
       "      <td>NaN</td>\n",
       "      <td>1988.000000</td>\n",
       "    </tr>\n",
       "    <tr>\n",
       "      <th>25%</th>\n",
       "      <td>NaN</td>\n",
       "      <td>7200.000000</td>\n",
       "      <td>NaN</td>\n",
       "      <td>91.000000</td>\n",
       "      <td>1.800000</td>\n",
       "      <td>NaN</td>\n",
       "      <td>NaN</td>\n",
       "      <td>2003.000000</td>\n",
       "    </tr>\n",
       "    <tr>\n",
       "      <th>50%</th>\n",
       "      <td>NaN</td>\n",
       "      <td>11700.000000</td>\n",
       "      <td>NaN</td>\n",
       "      <td>157.000000</td>\n",
       "      <td>2.200000</td>\n",
       "      <td>NaN</td>\n",
       "      <td>NaN</td>\n",
       "      <td>2008.000000</td>\n",
       "    </tr>\n",
       "    <tr>\n",
       "      <th>75%</th>\n",
       "      <td>NaN</td>\n",
       "      <td>21700.000000</td>\n",
       "      <td>NaN</td>\n",
       "      <td>225.000000</td>\n",
       "      <td>3.000000</td>\n",
       "      <td>NaN</td>\n",
       "      <td>NaN</td>\n",
       "      <td>2012.000000</td>\n",
       "    </tr>\n",
       "    <tr>\n",
       "      <th>max</th>\n",
       "      <td>NaN</td>\n",
       "      <td>129222.000000</td>\n",
       "      <td>NaN</td>\n",
       "      <td>435.000000</td>\n",
       "      <td>6.300000</td>\n",
       "      <td>NaN</td>\n",
       "      <td>NaN</td>\n",
       "      <td>2016.000000</td>\n",
       "    </tr>\n",
       "  </tbody>\n",
       "</table>\n",
       "</div>"
      ],
      "text/plain": [
       "             Brand          Price   Body      Mileage      EngineV  \\\n",
       "count         3867    3867.000000   3867  3867.000000  3867.000000   \n",
       "unique           7            NaN      6          NaN          NaN   \n",
       "top     Volkswagen            NaN  sedan          NaN          NaN   \n",
       "freq           848            NaN   1467          NaN          NaN   \n",
       "mean           NaN   18194.455679    NaN   160.542539     2.450440   \n",
       "std            NaN   19085.855165    NaN    95.633291     0.949366   \n",
       "min            NaN     800.000000    NaN     0.000000     0.600000   \n",
       "25%            NaN    7200.000000    NaN    91.000000     1.800000   \n",
       "50%            NaN   11700.000000    NaN   157.000000     2.200000   \n",
       "75%            NaN   21700.000000    NaN   225.000000     3.000000   \n",
       "max            NaN  129222.000000    NaN   435.000000     6.300000   \n",
       "\n",
       "       Engine Type Registration         Year  \n",
       "count         3867         3867  3867.000000  \n",
       "unique           4            2          NaN  \n",
       "top         Diesel          yes          NaN  \n",
       "freq          1807         3505          NaN  \n",
       "mean           NaN          NaN  2006.709853  \n",
       "std            NaN          NaN     6.103870  \n",
       "min            NaN          NaN  1988.000000  \n",
       "25%            NaN          NaN  2003.000000  \n",
       "50%            NaN          NaN  2008.000000  \n",
       "75%            NaN          NaN  2012.000000  \n",
       "max            NaN          NaN  2016.000000  "
      ]
     },
     "execution_count": 17,
     "metadata": {},
     "output_type": "execute_result"
    }
   ],
   "source": [
    "cleaned_data.describe(include='all')"
   ]
  },
  {
   "cell_type": "markdown",
   "id": "1edb698f",
   "metadata": {
    "papermill": {
     "duration": 0.017521,
     "end_time": "2022-08-30T21:40:53.977713",
     "exception": false,
     "start_time": "2022-08-30T21:40:53.960192",
     "status": "completed"
    },
    "tags": []
   },
   "source": [
    "## Checking OLS assumptions"
   ]
  },
  {
   "cell_type": "markdown",
   "id": "8d14f769",
   "metadata": {
    "papermill": {
     "duration": 0.017371,
     "end_time": "2022-08-30T21:40:54.012335",
     "exception": false,
     "start_time": "2022-08-30T21:40:53.994964",
     "status": "completed"
    },
    "tags": []
   },
   "source": [
    "The categorical variables will be included as dummies so we don't need to worry about them when checking the assumptions.\n",
    "We will look at `Price`, `Year`, `EngineV` and `Mileage`."
   ]
  },
  {
   "cell_type": "markdown",
   "id": "f44d9c58",
   "metadata": {
    "papermill": {
     "duration": 0.017411,
     "end_time": "2022-08-30T21:40:54.046729",
     "exception": false,
     "start_time": "2022-08-30T21:40:54.029318",
     "status": "completed"
    },
    "tags": []
   },
   "source": [
    "### Checking for linearity between each regressor and the target"
   ]
  },
  {
   "cell_type": "code",
   "execution_count": 18,
   "id": "39ff270d",
   "metadata": {
    "execution": {
     "iopub.execute_input": "2022-08-30T21:40:54.084266Z",
     "iopub.status.busy": "2022-08-30T21:40:54.083835Z",
     "iopub.status.idle": "2022-08-30T21:40:54.651336Z",
     "shell.execute_reply": "2022-08-30T21:40:54.650086Z"
    },
    "papermill": {
     "duration": 0.589456,
     "end_time": "2022-08-30T21:40:54.654148",
     "exception": false,
     "start_time": "2022-08-30T21:40:54.064692",
     "status": "completed"
    },
    "tags": []
   },
   "outputs": [
    {
     "data": {
      "text/plain": [
       "Text(0.5, 1.0, 'Mileage and Price')"
      ]
     },
     "execution_count": 18,
     "metadata": {},
     "output_type": "execute_result"
    },
    {
     "data": {
      "image/png": "[encoded data removed]",
      "text/plain": [
       "<Figure size 1080x216 with 3 Axes>"
      ]
     },
     "metadata": {},
     "output_type": "display_data"
    }
   ],
   "source": [
    "f, (ax1, ax2, ax3) = plt.subplots(1, 3, sharey=True, figsize=(15, 3))\n",
    "\n",
    "ax1.scatter(cleaned_data['Year'], cleaned_data['Price'])\n",
    "ax1.set_title('Price and Year')\n",
    "\n",
    "ax2.scatter(cleaned_data['EngineV'], cleaned_data['Price'])\n",
    "ax2.set_title('Price and EngineV')\n",
    "\n",
    "ax3.scatter(cleaned_data['Mileage'], cleaned_data['Price'])\n",
    "ax3.set_title('Mileage and Price')"
   ]
  },
  {
   "cell_type": "markdown",
   "id": "b2bed39a",
   "metadata": {
    "papermill": {
     "duration": 0.017769,
     "end_time": "2022-08-30T21:40:54.690591",
     "exception": false,
     "start_time": "2022-08-30T21:40:54.672822",
     "status": "completed"
    },
    "tags": []
   },
   "source": [
    "The relationships are not linear, so we should transform the variables before running a LR model."
   ]
  },
  {
   "cell_type": "code",
   "execution_count": 19,
   "id": "ed2e908d",
   "metadata": {
    "execution": {
     "iopub.execute_input": "2022-08-30T21:40:54.729221Z",
     "iopub.status.busy": "2022-08-30T21:40:54.728789Z",
     "iopub.status.idle": "2022-08-30T21:40:55.100102Z",
     "shell.execute_reply": "2022-08-30T21:40:55.098869Z"
    },
    "papermill": {
     "duration": 0.393479,
     "end_time": "2022-08-30T21:40:55.102837",
     "exception": false,
     "start_time": "2022-08-30T21:40:54.709358",
     "status": "completed"
    },
    "tags": []
   },
   "outputs": [
    {
     "data": {
      "text/plain": [
       "<seaborn.axisgrid.FacetGrid at 0x7f9e73608750>"
      ]
     },
     "execution_count": 19,
     "metadata": {},
     "output_type": "execute_result"
    },
    {
     "data": {
      "image/png": "[encoded data removed]",
      "text/plain": [
       "<Figure size 360x360 with 1 Axes>"
      ]
     },
     "metadata": {},
     "output_type": "display_data"
    }
   ],
   "source": [
    "sns.displot(cleaned_data['Price'], kind='kde')"
   ]
  },
  {
   "cell_type": "markdown",
   "id": "7e599507",
   "metadata": {
    "papermill": {
     "duration": 0.018071,
     "end_time": "2022-08-30T21:40:55.139889",
     "exception": false,
     "start_time": "2022-08-30T21:40:55.121818",
     "status": "completed"
    },
    "tags": []
   },
   "source": [
    "Going back to the distribution plot of `Price`, we notice that it has an exponential distribution, log transformations are especially useful when facing exponential distributions."
   ]
  },
  {
   "cell_type": "code",
   "execution_count": 20,
   "id": "46fc7681",
   "metadata": {
    "execution": {
     "iopub.execute_input": "2022-08-30T21:40:55.178978Z",
     "iopub.status.busy": "2022-08-30T21:40:55.178522Z",
     "iopub.status.idle": "2022-08-30T21:40:55.187650Z",
     "shell.execute_reply": "2022-08-30T21:40:55.186439Z"
    },
    "papermill": {
     "duration": 0.032069,
     "end_time": "2022-08-30T21:40:55.190311",
     "exception": false,
     "start_time": "2022-08-30T21:40:55.158242",
     "status": "completed"
    },
    "tags": []
   },
   "outputs": [],
   "source": [
    "log_price = np.log(cleaned_data['Price'])\n",
    "cleaned_data['log_price'] = log_price\n",
    "cleaned_data = cleaned_data.drop(['Price'], axis=1)"
   ]
  },
  {
   "cell_type": "code",
   "execution_count": 21,
   "id": "76edff6c",
   "metadata": {
    "execution": {
     "iopub.execute_input": "2022-08-30T21:40:55.228622Z",
     "iopub.status.busy": "2022-08-30T21:40:55.228201Z",
     "iopub.status.idle": "2022-08-30T21:40:55.789484Z",
     "shell.execute_reply": "2022-08-30T21:40:55.788231Z"
    },
    "papermill": {
     "duration": 0.583596,
     "end_time": "2022-08-30T21:40:55.792193",
     "exception": false,
     "start_time": "2022-08-30T21:40:55.208597",
     "status": "completed"
    },
    "tags": []
   },
   "outputs": [
    {
     "data": {
      "text/plain": [
       "Text(0.5, 1.0, 'log_price and Year')"
      ]
     },
     "execution_count": 21,
     "metadata": {},
     "output_type": "execute_result"
    },
    {
     "data": {
      "image/png": "[encoded data removed]",
      "text/plain": [
       "<Figure size 1080x216 with 3 Axes>"
      ]
     },
     "metadata": {},
     "output_type": "display_data"
    }
   ],
   "source": [
    "f, (ax1, ax2, ax3) = plt.subplots(1, 3, sharey=True, figsize=(15, 3))\n",
    "\n",
    "ax1.scatter(cleaned_data['Year'], cleaned_data['log_price'])\n",
    "ax1.set_title('log_price and Year')\n",
    "\n",
    "ax2.scatter(cleaned_data['EngineV'], cleaned_data['log_price'])\n",
    "ax2.set_title('log_price and EngineV')\n",
    "\n",
    "ax3.scatter(cleaned_data['Mileage'], cleaned_data['log_price'])\n",
    "ax3.set_title('log_price and Year')"
   ]
  },
  {
   "cell_type": "markdown",
   "id": "394e7139",
   "metadata": {
    "papermill": {
     "duration": 0.019186,
     "end_time": "2022-08-30T21:40:55.831201",
     "exception": false,
     "start_time": "2022-08-30T21:40:55.812015",
     "status": "completed"
    },
    "tags": []
   },
   "source": [
    "We now observe a linear relationship between `log_price` and all of the regressors."
   ]
  },
  {
   "cell_type": "markdown",
   "id": "25615be5",
   "metadata": {
    "papermill": {
     "duration": 0.018766,
     "end_time": "2022-08-30T21:40:55.869458",
     "exception": false,
     "start_time": "2022-08-30T21:40:55.850692",
     "status": "completed"
    },
    "tags": []
   },
   "source": [
    "### Endogeneity is skipped as it is not violated here."
   ]
  },
  {
   "cell_type": "markdown",
   "id": "6cad8a10",
   "metadata": {
    "papermill": {
     "duration": 0.018404,
     "end_time": "2022-08-30T21:40:55.906784",
     "exception": false,
     "start_time": "2022-08-30T21:40:55.888380",
     "status": "completed"
    },
    "tags": []
   },
   "source": [
    "### Normality and Homoscedasticity\n",
    "1. Normality: due to center limit theorem, we assume the error term is normally distributed.\n",
    "2. Zero mean: since we have an intercept in our LR, then we assume the error term has zero mean.\n",
    "3. Homoscedasticity: this problem is solved since we already log transformed `Price`."
   ]
  },
  {
   "cell_type": "markdown",
   "id": "32c35bc7",
   "metadata": {
    "papermill": {
     "duration": 0.018475,
     "end_time": "2022-08-30T21:40:55.944082",
     "exception": false,
     "start_time": "2022-08-30T21:40:55.925607",
     "status": "completed"
    },
    "tags": []
   },
   "source": [
    "### Autocorrelation is skipped due to this being cross-sectional data."
   ]
  },
  {
   "cell_type": "markdown",
   "id": "c35c9ce3",
   "metadata": {
    "papermill": {
     "duration": 0.019889,
     "end_time": "2022-08-30T21:40:55.982710",
     "exception": false,
     "start_time": "2022-08-30T21:40:55.962821",
     "status": "completed"
    },
    "tags": []
   },
   "source": [
    "### Multicollinearity\n",
    "\n",
    "We expect `Year` and `Mileage` to be collinear, we can verify this using the VIF."
   ]
  },
  {
   "cell_type": "code",
   "execution_count": 22,
   "id": "ba547673",
   "metadata": {
    "execution": {
     "iopub.execute_input": "2022-08-30T21:40:56.023579Z",
     "iopub.status.busy": "2022-08-30T21:40:56.022802Z",
     "iopub.status.idle": "2022-08-30T21:40:56.047362Z",
     "shell.execute_reply": "2022-08-30T21:40:56.046133Z"
    },
    "papermill": {
     "duration": 0.047762,
     "end_time": "2022-08-30T21:40:56.049692",
     "exception": false,
     "start_time": "2022-08-30T21:40:56.001930",
     "status": "completed"
    },
    "tags": []
   },
   "outputs": [
    {
     "data": {
      "text/html": [
       "<div>\n",
       "<style scoped>\n",
       "    .dataframe tbody tr th:only-of-type {\n",
       "        vertical-align: middle;\n",
       "    }\n",
       "\n",
       "    .dataframe tbody tr th {\n",
       "        vertical-align: top;\n",
       "    }\n",
       "\n",
       "    .dataframe thead th {\n",
       "        text-align: right;\n",
       "    }\n",
       "</style>\n",
       "<table border=\"1\" class=\"dataframe\">\n",
       "  <thead>\n",
       "    <tr style=\"text-align: right;\">\n",
       "      <th></th>\n",
       "      <th>VIF</th>\n",
       "      <th>Features</th>\n",
       "    </tr>\n",
       "  </thead>\n",
       "  <tbody>\n",
       "    <tr>\n",
       "      <th>0</th>\n",
       "      <td>3.791584</td>\n",
       "      <td>Mileage</td>\n",
       "    </tr>\n",
       "    <tr>\n",
       "      <th>1</th>\n",
       "      <td>10.354854</td>\n",
       "      <td>Year</td>\n",
       "    </tr>\n",
       "    <tr>\n",
       "      <th>2</th>\n",
       "      <td>7.662068</td>\n",
       "      <td>EngineV</td>\n",
       "    </tr>\n",
       "  </tbody>\n",
       "</table>\n",
       "</div>"
      ],
      "text/plain": [
       "         VIF Features\n",
       "0   3.791584  Mileage\n",
       "1  10.354854     Year\n",
       "2   7.662068  EngineV"
      ]
     },
     "execution_count": 22,
     "metadata": {},
     "output_type": "execute_result"
    }
   ],
   "source": [
    "from statsmodels.stats.outliers_influence import variance_inflation_factor\n",
    "\n",
    "variables = cleaned_data[['Mileage', 'Year', 'EngineV']]\n",
    "vif = pd.DataFrame()\n",
    "vif['VIF'] = [variance_inflation_factor(variables.values, i) for i in range(variables.shape[1])]\n",
    "vif['Features'] = variables.columns\n",
    "vif"
   ]
  },
  {
   "cell_type": "markdown",
   "id": "f60fb498",
   "metadata": {
    "papermill": {
     "duration": 0.019179,
     "end_time": "2022-08-30T21:40:56.087833",
     "exception": false,
     "start_time": "2022-08-30T21:40:56.068654",
     "status": "completed"
    },
    "tags": []
   },
   "source": [
    "We will disregard `Year`"
   ]
  },
  {
   "cell_type": "code",
   "execution_count": 23,
   "id": "553eddb5",
   "metadata": {
    "execution": {
     "iopub.execute_input": "2022-08-30T21:40:56.128716Z",
     "iopub.status.busy": "2022-08-30T21:40:56.128013Z",
     "iopub.status.idle": "2022-08-30T21:40:56.133653Z",
     "shell.execute_reply": "2022-08-30T21:40:56.132711Z"
    },
    "papermill": {
     "duration": 0.02898,
     "end_time": "2022-08-30T21:40:56.135833",
     "exception": false,
     "start_time": "2022-08-30T21:40:56.106853",
     "status": "completed"
    },
    "tags": []
   },
   "outputs": [],
   "source": [
    "data_no_multicollinearity = cleaned_data.drop(['Year'], axis=1)"
   ]
  },
  {
   "cell_type": "markdown",
   "id": "049e9d10",
   "metadata": {
    "papermill": {
     "duration": 0.019341,
     "end_time": "2022-08-30T21:40:56.174278",
     "exception": false,
     "start_time": "2022-08-30T21:40:56.154937",
     "status": "completed"
    },
    "tags": []
   },
   "source": [
    "## Handling categorical data\n",
    "When creating dummy variables, we always drop the first value so as to not introduce multicollinearity to the model"
   ]
  },
  {
   "cell_type": "code",
   "execution_count": 24,
   "id": "ea721065",
   "metadata": {
    "execution": {
     "iopub.execute_input": "2022-08-30T21:40:56.215349Z",
     "iopub.status.busy": "2022-08-30T21:40:56.214930Z",
     "iopub.status.idle": "2022-08-30T21:40:56.228832Z",
     "shell.execute_reply": "2022-08-30T21:40:56.227474Z"
    },
    "papermill": {
     "duration": 0.037567,
     "end_time": "2022-08-30T21:40:56.231792",
     "exception": false,
     "start_time": "2022-08-30T21:40:56.194225",
     "status": "completed"
    },
    "tags": []
   },
   "outputs": [],
   "source": [
    "data_with_dummies = pd.get_dummies(data_no_multicollinearity, drop_first=True)"
   ]
  },
  {
   "cell_type": "code",
   "execution_count": 25,
   "id": "4b4234ed",
   "metadata": {
    "execution": {
     "iopub.execute_input": "2022-08-30T21:40:56.272817Z",
     "iopub.status.busy": "2022-08-30T21:40:56.272395Z",
     "iopub.status.idle": "2022-08-30T21:40:56.289964Z",
     "shell.execute_reply": "2022-08-30T21:40:56.289049Z"
    },
    "papermill": {
     "duration": 0.040783,
     "end_time": "2022-08-30T21:40:56.292516",
     "exception": false,
     "start_time": "2022-08-30T21:40:56.251733",
     "status": "completed"
    },
    "tags": []
   },
   "outputs": [
    {
     "data": {
      "text/html": [
       "<div>\n",
       "<style scoped>\n",
       "    .dataframe tbody tr th:only-of-type {\n",
       "        vertical-align: middle;\n",
       "    }\n",
       "\n",
       "    .dataframe tbody tr th {\n",
       "        vertical-align: top;\n",
       "    }\n",
       "\n",
       "    .dataframe thead th {\n",
       "        text-align: right;\n",
       "    }\n",
       "</style>\n",
       "<table border=\"1\" class=\"dataframe\">\n",
       "  <thead>\n",
       "    <tr style=\"text-align: right;\">\n",
       "      <th></th>\n",
       "      <th>Mileage</th>\n",
       "      <th>EngineV</th>\n",
       "      <th>log_price</th>\n",
       "      <th>Brand_BMW</th>\n",
       "      <th>Brand_Mercedes-Benz</th>\n",
       "      <th>Brand_Mitsubishi</th>\n",
       "      <th>Brand_Renault</th>\n",
       "      <th>Brand_Toyota</th>\n",
       "      <th>Brand_Volkswagen</th>\n",
       "      <th>Body_hatch</th>\n",
       "      <th>Body_other</th>\n",
       "      <th>Body_sedan</th>\n",
       "      <th>Body_vagon</th>\n",
       "      <th>Body_van</th>\n",
       "      <th>Engine Type_Gas</th>\n",
       "      <th>Engine Type_Other</th>\n",
       "      <th>Engine Type_Petrol</th>\n",
       "      <th>Registration_yes</th>\n",
       "    </tr>\n",
       "  </thead>\n",
       "  <tbody>\n",
       "    <tr>\n",
       "      <th>0</th>\n",
       "      <td>277</td>\n",
       "      <td>2.0</td>\n",
       "      <td>8.342840</td>\n",
       "      <td>1</td>\n",
       "      <td>0</td>\n",
       "      <td>0</td>\n",
       "      <td>0</td>\n",
       "      <td>0</td>\n",
       "      <td>0</td>\n",
       "      <td>0</td>\n",
       "      <td>0</td>\n",
       "      <td>1</td>\n",
       "      <td>0</td>\n",
       "      <td>0</td>\n",
       "      <td>0</td>\n",
       "      <td>0</td>\n",
       "      <td>1</td>\n",
       "      <td>1</td>\n",
       "    </tr>\n",
       "    <tr>\n",
       "      <th>1</th>\n",
       "      <td>427</td>\n",
       "      <td>2.9</td>\n",
       "      <td>8.974618</td>\n",
       "      <td>0</td>\n",
       "      <td>1</td>\n",
       "      <td>0</td>\n",
       "      <td>0</td>\n",
       "      <td>0</td>\n",
       "      <td>0</td>\n",
       "      <td>0</td>\n",
       "      <td>0</td>\n",
       "      <td>0</td>\n",
       "      <td>0</td>\n",
       "      <td>1</td>\n",
       "      <td>0</td>\n",
       "      <td>0</td>\n",
       "      <td>0</td>\n",
       "      <td>1</td>\n",
       "    </tr>\n",
       "    <tr>\n",
       "      <th>2</th>\n",
       "      <td>358</td>\n",
       "      <td>5.0</td>\n",
       "      <td>9.495519</td>\n",
       "      <td>0</td>\n",
       "      <td>1</td>\n",
       "      <td>0</td>\n",
       "      <td>0</td>\n",
       "      <td>0</td>\n",
       "      <td>0</td>\n",
       "      <td>0</td>\n",
       "      <td>0</td>\n",
       "      <td>1</td>\n",
       "      <td>0</td>\n",
       "      <td>0</td>\n",
       "      <td>1</td>\n",
       "      <td>0</td>\n",
       "      <td>0</td>\n",
       "      <td>1</td>\n",
       "    </tr>\n",
       "    <tr>\n",
       "      <th>3</th>\n",
       "      <td>240</td>\n",
       "      <td>4.2</td>\n",
       "      <td>10.043249</td>\n",
       "      <td>0</td>\n",
       "      <td>0</td>\n",
       "      <td>0</td>\n",
       "      <td>0</td>\n",
       "      <td>0</td>\n",
       "      <td>0</td>\n",
       "      <td>0</td>\n",
       "      <td>0</td>\n",
       "      <td>0</td>\n",
       "      <td>0</td>\n",
       "      <td>0</td>\n",
       "      <td>0</td>\n",
       "      <td>0</td>\n",
       "      <td>1</td>\n",
       "      <td>1</td>\n",
       "    </tr>\n",
       "    <tr>\n",
       "      <th>4</th>\n",
       "      <td>120</td>\n",
       "      <td>2.0</td>\n",
       "      <td>9.814656</td>\n",
       "      <td>0</td>\n",
       "      <td>0</td>\n",
       "      <td>0</td>\n",
       "      <td>0</td>\n",
       "      <td>1</td>\n",
       "      <td>0</td>\n",
       "      <td>0</td>\n",
       "      <td>0</td>\n",
       "      <td>0</td>\n",
       "      <td>0</td>\n",
       "      <td>0</td>\n",
       "      <td>0</td>\n",
       "      <td>0</td>\n",
       "      <td>1</td>\n",
       "      <td>1</td>\n",
       "    </tr>\n",
       "  </tbody>\n",
       "</table>\n",
       "</div>"
      ],
      "text/plain": [
       "   Mileage  EngineV  log_price  Brand_BMW  Brand_Mercedes-Benz  \\\n",
       "0      277      2.0   8.342840          1                    0   \n",
       "1      427      2.9   8.974618          0                    1   \n",
       "2      358      5.0   9.495519          0                    1   \n",
       "3      240      4.2  10.043249          0                    0   \n",
       "4      120      2.0   9.814656          0                    0   \n",
       "\n",
       "   Brand_Mitsubishi  Brand_Renault  Brand_Toyota  Brand_Volkswagen  \\\n",
       "0                 0              0             0                 0   \n",
       "1                 0              0             0                 0   \n",
       "2                 0              0             0                 0   \n",
       "3                 0              0             0                 0   \n",
       "4                 0              0             1                 0   \n",
       "\n",
       "   Body_hatch  Body_other  Body_sedan  Body_vagon  Body_van  Engine Type_Gas  \\\n",
       "0           0           0           1           0         0                0   \n",
       "1           0           0           0           0         1                0   \n",
       "2           0           0           1           0         0                1   \n",
       "3           0           0           0           0         0                0   \n",
       "4           0           0           0           0         0                0   \n",
       "\n",
       "   Engine Type_Other  Engine Type_Petrol  Registration_yes  \n",
       "0                  0                   1                 1  \n",
       "1                  0                   0                 1  \n",
       "2                  0                   0                 1  \n",
       "3                  0                   1                 1  \n",
       "4                  0                   1                 1  "
      ]
     },
     "execution_count": 25,
     "metadata": {},
     "output_type": "execute_result"
    }
   ],
   "source": [
    "data_with_dummies.head()"
   ]
  },
  {
   "cell_type": "code",
   "execution_count": 26,
   "id": "baf8572c",
   "metadata": {
    "execution": {
     "iopub.execute_input": "2022-08-30T21:40:56.333072Z",
     "iopub.status.busy": "2022-08-30T21:40:56.332660Z",
     "iopub.status.idle": "2022-08-30T21:40:56.339546Z",
     "shell.execute_reply": "2022-08-30T21:40:56.338436Z"
    },
    "papermill": {
     "duration": 0.030073,
     "end_time": "2022-08-30T21:40:56.341983",
     "exception": false,
     "start_time": "2022-08-30T21:40:56.311910",
     "status": "completed"
    },
    "tags": []
   },
   "outputs": [
    {
     "data": {
      "text/plain": [
       "Index(['Mileage', 'EngineV', 'log_price', 'Brand_BMW', 'Brand_Mercedes-Benz',\n",
       "       'Brand_Mitsubishi', 'Brand_Renault', 'Brand_Toyota', 'Brand_Volkswagen',\n",
       "       'Body_hatch', 'Body_other', 'Body_sedan', 'Body_vagon', 'Body_van',\n",
       "       'Engine Type_Gas', 'Engine Type_Other', 'Engine Type_Petrol',\n",
       "       'Registration_yes'],\n",
       "      dtype='object')"
      ]
     },
     "execution_count": 26,
     "metadata": {},
     "output_type": "execute_result"
    }
   ],
   "source": [
    "data_with_dummies.columns"
   ]
  },
  {
   "cell_type": "code",
   "execution_count": 27,
   "id": "e45b96c9",
   "metadata": {
    "execution": {
     "iopub.execute_input": "2022-08-30T21:40:56.383624Z",
     "iopub.status.busy": "2022-08-30T21:40:56.383182Z",
     "iopub.status.idle": "2022-08-30T21:40:56.391471Z",
     "shell.execute_reply": "2022-08-30T21:40:56.390186Z"
    },
    "papermill": {
     "duration": 0.031744,
     "end_time": "2022-08-30T21:40:56.393983",
     "exception": false,
     "start_time": "2022-08-30T21:40:56.362239",
     "status": "completed"
    },
    "tags": []
   },
   "outputs": [],
   "source": [
    "cols = ['Mileage', 'EngineV', 'log_price', 'Brand_BMW', 'Brand_Mercedes-Benz',\n",
    "       'Brand_Mitsubishi', 'Brand_Renault', 'Brand_Toyota', 'Brand_Volkswagen',\n",
    "       'Body_hatch', 'Body_other', 'Body_sedan', 'Body_vagon', 'Body_van',\n",
    "       'Engine Type_Gas', 'Engine Type_Other', 'Engine Type_Petrol',\n",
    "       'Registration_yes']\n",
    "\n",
    "data_preprocessed = data_with_dummies[cols]"
   ]
  },
  {
   "cell_type": "markdown",
   "id": "9e012efa",
   "metadata": {
    "papermill": {
     "duration": 0.019079,
     "end_time": "2022-08-30T21:40:56.432599",
     "exception": false,
     "start_time": "2022-08-30T21:40:56.413520",
     "status": "completed"
    },
    "tags": []
   },
   "source": [
    "## Modeling"
   ]
  },
  {
   "cell_type": "code",
   "execution_count": 28,
   "id": "c4cb25e2",
   "metadata": {
    "execution": {
     "iopub.execute_input": "2022-08-30T21:40:56.473481Z",
     "iopub.status.busy": "2022-08-30T21:40:56.473037Z",
     "iopub.status.idle": "2022-08-30T21:40:56.479491Z",
     "shell.execute_reply": "2022-08-30T21:40:56.478582Z"
    },
    "papermill": {
     "duration": 0.030164,
     "end_time": "2022-08-30T21:40:56.482141",
     "exception": false,
     "start_time": "2022-08-30T21:40:56.451977",
     "status": "completed"
    },
    "tags": []
   },
   "outputs": [],
   "source": [
    "targets = data_preprocessed['log_price']\n",
    "inputs = data_preprocessed.drop(['log_price'], axis=1)"
   ]
  },
  {
   "cell_type": "markdown",
   "id": "0d289971",
   "metadata": {
    "papermill": {
     "duration": 0.019016,
     "end_time": "2022-08-30T21:40:56.521159",
     "exception": false,
     "start_time": "2022-08-30T21:40:56.502143",
     "status": "completed"
    },
    "tags": []
   },
   "source": [
    "### Scaling data"
   ]
  },
  {
   "cell_type": "code",
   "execution_count": 29,
   "id": "0d3c2956",
   "metadata": {
    "execution": {
     "iopub.execute_input": "2022-08-30T21:40:56.564318Z",
     "iopub.status.busy": "2022-08-30T21:40:56.563867Z",
     "iopub.status.idle": "2022-08-30T21:40:56.574302Z",
     "shell.execute_reply": "2022-08-30T21:40:56.573331Z"
    },
    "papermill": {
     "duration": 0.034868,
     "end_time": "2022-08-30T21:40:56.576492",
     "exception": false,
     "start_time": "2022-08-30T21:40:56.541624",
     "status": "completed"
    },
    "tags": []
   },
   "outputs": [],
   "source": [
    "from sklearn.preprocessing import StandardScaler\n",
    "\n",
    "scaler = StandardScaler()\n",
    "inputs_scaled = scaler.fit_transform(inputs)"
   ]
  },
  {
   "cell_type": "markdown",
   "id": "2c0a365d",
   "metadata": {
    "papermill": {
     "duration": 0.019197,
     "end_time": "2022-08-30T21:40:56.615080",
     "exception": false,
     "start_time": "2022-08-30T21:40:56.595883",
     "status": "completed"
    },
    "tags": []
   },
   "source": [
    "### Creating the regression"
   ]
  },
  {
   "cell_type": "code",
   "execution_count": 30,
   "id": "8c0f3dd2",
   "metadata": {
    "execution": {
     "iopub.execute_input": "2022-08-30T21:40:56.656082Z",
     "iopub.status.busy": "2022-08-30T21:40:56.655667Z",
     "iopub.status.idle": "2022-08-30T21:40:56.664007Z",
     "shell.execute_reply": "2022-08-30T21:40:56.663080Z"
    },
    "papermill": {
     "duration": 0.031845,
     "end_time": "2022-08-30T21:40:56.666501",
     "exception": false,
     "start_time": "2022-08-30T21:40:56.634656",
     "status": "completed"
    },
    "tags": []
   },
   "outputs": [],
   "source": [
    "from sklearn.model_selection import train_test_split\n",
    "\n",
    "x_train, x_test, y_train, y_test = train_test_split(inputs_scaled, targets, test_size=0.2, random_state=365)"
   ]
  },
  {
   "cell_type": "code",
   "execution_count": 31,
   "id": "edc23fff",
   "metadata": {
    "execution": {
     "iopub.execute_input": "2022-08-30T21:40:56.709246Z",
     "iopub.status.busy": "2022-08-30T21:40:56.707998Z",
     "iopub.status.idle": "2022-08-30T21:40:56.742807Z",
     "shell.execute_reply": "2022-08-30T21:40:56.741590Z"
    },
    "papermill": {
     "duration": 0.060619,
     "end_time": "2022-08-30T21:40:56.746666",
     "exception": false,
     "start_time": "2022-08-30T21:40:56.686047",
     "status": "completed"
    },
    "tags": []
   },
   "outputs": [
    {
     "data": {
      "text/plain": [
       "LinearRegression()"
      ]
     },
     "execution_count": 31,
     "metadata": {},
     "output_type": "execute_result"
    }
   ],
   "source": [
    "reg = LinearRegression()\n",
    "reg.fit(x_train, y_train)"
   ]
  },
  {
   "cell_type": "markdown",
   "id": "e93a0439",
   "metadata": {
    "papermill": {
     "duration": 0.032911,
     "end_time": "2022-08-30T21:40:56.811611",
     "exception": false,
     "start_time": "2022-08-30T21:40:56.778700",
     "status": "completed"
    },
    "tags": []
   },
   "source": [
    "When plotting the predictions against the observed values, we want a linear relationship (or a somewhat 45 degree pattern in the resulting scatter plot), indicating that each observed value is equal or very close to the predicted value."
   ]
  },
  {
   "cell_type": "code",
   "execution_count": 32,
   "id": "e588ce1c",
   "metadata": {
    "execution": {
     "iopub.execute_input": "2022-08-30T21:40:56.867339Z",
     "iopub.status.busy": "2022-08-30T21:40:56.866912Z",
     "iopub.status.idle": "2022-08-30T21:40:57.142677Z",
     "shell.execute_reply": "2022-08-30T21:40:57.141801Z"
    },
    "papermill": {
     "duration": 0.300032,
     "end_time": "2022-08-30T21:40:57.145136",
     "exception": false,
     "start_time": "2022-08-30T21:40:56.845104",
     "status": "completed"
    },
    "tags": []
   },
   "outputs": [
    {
     "data": {
      "image/png": "[encoded data removed]",
      "text/plain": [
       "<Figure size 432x288 with 1 Axes>"
      ]
     },
     "metadata": {},
     "output_type": "display_data"
    }
   ],
   "source": [
    "y_hat = reg.predict(x_train)\n",
    "\n",
    "plt.scatter(y_train, y_hat)\n",
    "plt.xlabel('Target (y_train)', size=18)\n",
    "plt.ylabel('Predictions (y_hat)', size=18)\n",
    "plt.xlim(6, 13)\n",
    "plt.ylim(6, 13)\n",
    "plt.show()"
   ]
  },
  {
   "cell_type": "code",
   "execution_count": 33,
   "id": "216d2e30",
   "metadata": {
    "execution": {
     "iopub.execute_input": "2022-08-30T21:40:57.188003Z",
     "iopub.status.busy": "2022-08-30T21:40:57.187210Z",
     "iopub.status.idle": "2022-08-30T21:40:57.618135Z",
     "shell.execute_reply": "2022-08-30T21:40:57.617182Z"
    },
    "papermill": {
     "duration": 0.455203,
     "end_time": "2022-08-30T21:40:57.620600",
     "exception": false,
     "start_time": "2022-08-30T21:40:57.165397",
     "status": "completed"
    },
    "tags": []
   },
   "outputs": [
    {
     "data": {
      "text/plain": [
       "<seaborn.axisgrid.FacetGrid at 0x7f9e7332f1d0>"
      ]
     },
     "execution_count": 33,
     "metadata": {},
     "output_type": "execute_result"
    },
    {
     "data": {
      "image/png": "[encoded data removed]",
      "text/plain": [
       "<Figure size 360x360 with 1 Axes>"
      ]
     },
     "metadata": {},
     "output_type": "display_data"
    }
   ],
   "source": [
    "sns.displot(y_train - y_hat, kind='kde')"
   ]
  },
  {
   "cell_type": "markdown",
   "id": "8f8831f2",
   "metadata": {
    "papermill": {
     "duration": 0.020426,
     "end_time": "2022-08-30T21:40:57.661638",
     "exception": false,
     "start_time": "2022-08-30T21:40:57.641212",
     "status": "completed"
    },
    "tags": []
   },
   "source": [
    "By looking at the residuals distribution, we see that the residuals are normally distributed with a mean of zero. We notice that the left tail of the distribution is quite long, meaning that some of the residuals were negative; which indicates that our model frequently predicted a higher price for the car than it truly was."
   ]
  },
  {
   "cell_type": "markdown",
   "id": "a70a73dc",
   "metadata": {
    "papermill": {
     "duration": 0.022021,
     "end_time": "2022-08-30T21:40:57.705276",
     "exception": false,
     "start_time": "2022-08-30T21:40:57.683255",
     "status": "completed"
    },
    "tags": []
   },
   "source": [
    "### R-squared and adjust r-squared"
   ]
  },
  {
   "cell_type": "markdown",
   "id": "9e06c0c1",
   "metadata": {
    "papermill": {
     "duration": 0.020701,
     "end_time": "2022-08-30T21:40:57.747700",
     "exception": false,
     "start_time": "2022-08-30T21:40:57.726999",
     "status": "completed"
    },
    "tags": []
   },
   "source": [
    "$\\bar{R^2}=1-(1-R^2)*\\frac{n-1}{n-p-1}$"
   ]
  },
  {
   "cell_type": "code",
   "execution_count": 34,
   "id": "5fa74279",
   "metadata": {
    "execution": {
     "iopub.execute_input": "2022-08-30T21:40:57.791576Z",
     "iopub.status.busy": "2022-08-30T21:40:57.791188Z",
     "iopub.status.idle": "2022-08-30T21:40:57.800892Z",
     "shell.execute_reply": "2022-08-30T21:40:57.799656Z"
    },
    "papermill": {
     "duration": 0.037405,
     "end_time": "2022-08-30T21:40:57.806850",
     "exception": false,
     "start_time": "2022-08-30T21:40:57.769445",
     "status": "completed"
    },
    "tags": []
   },
   "outputs": [
    {
     "data": {
      "text/plain": [
       "0.744996578792662"
      ]
     },
     "execution_count": 34,
     "metadata": {},
     "output_type": "execute_result"
    }
   ],
   "source": [
    "reg.score(x_train, y_train)"
   ]
  },
  {
   "cell_type": "code",
   "execution_count": 35,
   "id": "62e0c796",
   "metadata": {
    "execution": {
     "iopub.execute_input": "2022-08-30T21:40:57.878559Z",
     "iopub.status.busy": "2022-08-30T21:40:57.877974Z",
     "iopub.status.idle": "2022-08-30T21:40:57.895796Z",
     "shell.execute_reply": "2022-08-30T21:40:57.894542Z"
    },
    "papermill": {
     "duration": 0.057492,
     "end_time": "2022-08-30T21:40:57.899559",
     "exception": false,
     "start_time": "2022-08-30T21:40:57.842067",
     "status": "completed"
    },
    "tags": []
   },
   "outputs": [
    {
     "data": {
      "text/plain": [
       "0.7435868037811093"
      ]
     },
     "execution_count": 35,
     "metadata": {},
     "output_type": "execute_result"
    }
   ],
   "source": [
    "r2 = reg.score(x_train, y_train)\n",
    "n = x_train.shape[0]\n",
    "p = x_train.shape[1]\n",
    "\n",
    "1-(1-r2)*(n-1)/(n-p-1)"
   ]
  },
  {
   "cell_type": "markdown",
   "id": "ac6bed2b",
   "metadata": {
    "papermill": {
     "duration": 0.035657,
     "end_time": "2022-08-30T21:40:57.972273",
     "exception": false,
     "start_time": "2022-08-30T21:40:57.936616",
     "status": "completed"
    },
    "tags": []
   },
   "source": [
    "### Examining coefficients"
   ]
  },
  {
   "cell_type": "code",
   "execution_count": 36,
   "id": "2805253c",
   "metadata": {
    "execution": {
     "iopub.execute_input": "2022-08-30T21:40:58.029765Z",
     "iopub.status.busy": "2022-08-30T21:40:58.029248Z",
     "iopub.status.idle": "2022-08-30T21:40:58.043950Z",
     "shell.execute_reply": "2022-08-30T21:40:58.042818Z"
    },
    "papermill": {
     "duration": 0.040362,
     "end_time": "2022-08-30T21:40:58.047027",
     "exception": false,
     "start_time": "2022-08-30T21:40:58.006665",
     "status": "completed"
    },
    "tags": []
   },
   "outputs": [
    {
     "data": {
      "text/html": [
       "<div>\n",
       "<style scoped>\n",
       "    .dataframe tbody tr th:only-of-type {\n",
       "        vertical-align: middle;\n",
       "    }\n",
       "\n",
       "    .dataframe tbody tr th {\n",
       "        vertical-align: top;\n",
       "    }\n",
       "\n",
       "    .dataframe thead th {\n",
       "        text-align: right;\n",
       "    }\n",
       "</style>\n",
       "<table border=\"1\" class=\"dataframe\">\n",
       "  <thead>\n",
       "    <tr style=\"text-align: right;\">\n",
       "      <th></th>\n",
       "      <th>Features</th>\n",
       "      <th>Weights</th>\n",
       "    </tr>\n",
       "  </thead>\n",
       "  <tbody>\n",
       "    <tr>\n",
       "      <th>0</th>\n",
       "      <td>Mileage</td>\n",
       "      <td>-0.448713</td>\n",
       "    </tr>\n",
       "    <tr>\n",
       "      <th>1</th>\n",
       "      <td>EngineV</td>\n",
       "      <td>0.209035</td>\n",
       "    </tr>\n",
       "    <tr>\n",
       "      <th>2</th>\n",
       "      <td>Brand_BMW</td>\n",
       "      <td>0.014250</td>\n",
       "    </tr>\n",
       "    <tr>\n",
       "      <th>3</th>\n",
       "      <td>Brand_Mercedes-Benz</td>\n",
       "      <td>0.012882</td>\n",
       "    </tr>\n",
       "    <tr>\n",
       "      <th>4</th>\n",
       "      <td>Brand_Mitsubishi</td>\n",
       "      <td>-0.140552</td>\n",
       "    </tr>\n",
       "    <tr>\n",
       "      <th>5</th>\n",
       "      <td>Brand_Renault</td>\n",
       "      <td>-0.179909</td>\n",
       "    </tr>\n",
       "    <tr>\n",
       "      <th>6</th>\n",
       "      <td>Brand_Toyota</td>\n",
       "      <td>-0.060550</td>\n",
       "    </tr>\n",
       "    <tr>\n",
       "      <th>7</th>\n",
       "      <td>Brand_Volkswagen</td>\n",
       "      <td>-0.089924</td>\n",
       "    </tr>\n",
       "    <tr>\n",
       "      <th>8</th>\n",
       "      <td>Body_hatch</td>\n",
       "      <td>-0.145469</td>\n",
       "    </tr>\n",
       "    <tr>\n",
       "      <th>9</th>\n",
       "      <td>Body_other</td>\n",
       "      <td>-0.101444</td>\n",
       "    </tr>\n",
       "    <tr>\n",
       "      <th>10</th>\n",
       "      <td>Body_sedan</td>\n",
       "      <td>-0.200630</td>\n",
       "    </tr>\n",
       "    <tr>\n",
       "      <th>11</th>\n",
       "      <td>Body_vagon</td>\n",
       "      <td>-0.129887</td>\n",
       "    </tr>\n",
       "    <tr>\n",
       "      <th>12</th>\n",
       "      <td>Body_van</td>\n",
       "      <td>-0.168597</td>\n",
       "    </tr>\n",
       "    <tr>\n",
       "      <th>13</th>\n",
       "      <td>Engine Type_Gas</td>\n",
       "      <td>-0.121490</td>\n",
       "    </tr>\n",
       "    <tr>\n",
       "      <th>14</th>\n",
       "      <td>Engine Type_Other</td>\n",
       "      <td>-0.033368</td>\n",
       "    </tr>\n",
       "    <tr>\n",
       "      <th>15</th>\n",
       "      <td>Engine Type_Petrol</td>\n",
       "      <td>-0.146909</td>\n",
       "    </tr>\n",
       "    <tr>\n",
       "      <th>16</th>\n",
       "      <td>Registration_yes</td>\n",
       "      <td>0.320473</td>\n",
       "    </tr>\n",
       "  </tbody>\n",
       "</table>\n",
       "</div>"
      ],
      "text/plain": [
       "               Features   Weights\n",
       "0               Mileage -0.448713\n",
       "1               EngineV  0.209035\n",
       "2             Brand_BMW  0.014250\n",
       "3   Brand_Mercedes-Benz  0.012882\n",
       "4      Brand_Mitsubishi -0.140552\n",
       "5         Brand_Renault -0.179909\n",
       "6          Brand_Toyota -0.060550\n",
       "7      Brand_Volkswagen -0.089924\n",
       "8            Body_hatch -0.145469\n",
       "9            Body_other -0.101444\n",
       "10           Body_sedan -0.200630\n",
       "11           Body_vagon -0.129887\n",
       "12             Body_van -0.168597\n",
       "13      Engine Type_Gas -0.121490\n",
       "14    Engine Type_Other -0.033368\n",
       "15   Engine Type_Petrol -0.146909\n",
       "16     Registration_yes  0.320473"
      ]
     },
     "execution_count": 36,
     "metadata": {},
     "output_type": "execute_result"
    }
   ],
   "source": [
    "reg_summary = pd.DataFrame(inputs.columns.values, columns=['Features'])\n",
    "reg_summary['Weights'] = reg.coef_\n",
    "reg_summary"
   ]
  },
  {
   "cell_type": "markdown",
   "id": "ad26c4cd",
   "metadata": {
    "papermill": {
     "duration": 0.021219,
     "end_time": "2022-08-30T21:40:58.091198",
     "exception": false,
     "start_time": "2022-08-30T21:40:58.069979",
     "status": "completed"
    },
    "tags": []
   },
   "source": [
    "For continuous variables, a positive weight means that as the feature increases so does `Price`, while a negative weight means that as the feauture increases the target decreases. In the case of categorical variables, since we have used dummies we have dropped one category for each categorical variable; so when all included dummies of a certain variable zero then the drop dummy is one. In the case of `Brand` we have dropped the `Audi` value, so that is the \"benchmark\". If another brand in the variable is positive that means it is more expensive than `Audi`, if it is negative that means it is cheaper."
   ]
  },
  {
   "cell_type": "markdown",
   "id": "944834b7",
   "metadata": {
    "papermill": {
     "duration": 0.021761,
     "end_time": "2022-08-30T21:40:58.135789",
     "exception": false,
     "start_time": "2022-08-30T21:40:58.114028",
     "status": "completed"
    },
    "tags": []
   },
   "source": [
    "## Testing"
   ]
  },
  {
   "cell_type": "code",
   "execution_count": 37,
   "id": "1c6ce9b5",
   "metadata": {
    "execution": {
     "iopub.execute_input": "2022-08-30T21:40:58.182532Z",
     "iopub.status.busy": "2022-08-30T21:40:58.181545Z",
     "iopub.status.idle": "2022-08-30T21:40:58.448777Z",
     "shell.execute_reply": "2022-08-30T21:40:58.447468Z"
    },
    "papermill": {
     "duration": 0.294708,
     "end_time": "2022-08-30T21:40:58.451633",
     "exception": false,
     "start_time": "2022-08-30T21:40:58.156925",
     "status": "completed"
    },
    "tags": []
   },
   "outputs": [
    {
     "data": {
      "image/png": "[encoded data removed]",
      "text/plain": [
       "<Figure size 432x288 with 1 Axes>"
      ]
     },
     "metadata": {},
     "output_type": "display_data"
    }
   ],
   "source": [
    "y_hat_test = reg.predict(x_test)\n",
    "\n",
    "plt.scatter(y_test, y_hat_test, alpha=0.2)\n",
    "plt.xlabel('Target (y_test)', size=18)\n",
    "plt.ylabel('Predictions (y_hat_test)', size=18)\n",
    "plt.xlim(6, 13)\n",
    "plt.ylim(6, 13)\n",
    "plt.show()"
   ]
  },
  {
   "cell_type": "markdown",
   "id": "9e2a7868",
   "metadata": {
    "papermill": {
     "duration": 0.022301,
     "end_time": "2022-08-30T21:40:58.498793",
     "exception": false,
     "start_time": "2022-08-30T21:40:58.476492",
     "status": "completed"
    },
    "tags": []
   },
   "source": [
    "Again we observe a somewhat linear pattern in the scatter plot. However for higher prices we have a higher concentration around the 45 degree line, as opposed to for lower prices. This means our model predicts for higher prices than it does for lower ones."
   ]
  },
  {
   "cell_type": "markdown",
   "id": "d3091984",
   "metadata": {
    "papermill": {
     "duration": 0.022479,
     "end_time": "2022-08-30T21:40:58.544481",
     "exception": false,
     "start_time": "2022-08-30T21:40:58.522002",
     "status": "completed"
    },
    "tags": []
   },
   "source": [
    "### Assessing predictions manually"
   ]
  },
  {
   "cell_type": "markdown",
   "id": "24c4c6f9",
   "metadata": {
    "papermill": {
     "duration": 0.022967,
     "end_time": "2022-08-30T21:40:58.589895",
     "exception": false,
     "start_time": "2022-08-30T21:40:58.566928",
     "status": "completed"
    },
    "tags": []
   },
   "source": [
    "Since we used the log transformation before on the targets, we will apply `np.exp` to revert them back to their original form."
   ]
  },
  {
   "cell_type": "code",
   "execution_count": 38,
   "id": "881aa024",
   "metadata": {
    "execution": {
     "iopub.execute_input": "2022-08-30T21:40:58.637659Z",
     "iopub.status.busy": "2022-08-30T21:40:58.636956Z",
     "iopub.status.idle": "2022-08-30T21:40:58.644621Z",
     "shell.execute_reply": "2022-08-30T21:40:58.643447Z"
    },
    "papermill": {
     "duration": 0.034856,
     "end_time": "2022-08-30T21:40:58.647382",
     "exception": false,
     "start_time": "2022-08-30T21:40:58.612526",
     "status": "completed"
    },
    "tags": []
   },
   "outputs": [],
   "source": [
    "df_pf = pd.DataFrame(np.exp(y_hat_test), columns=['Predictions'])\n",
    "df_pf['Targets'] = np.exp(y_test).reset_index(drop=True)"
   ]
  },
  {
   "cell_type": "code",
   "execution_count": 39,
   "id": "f00cf277",
   "metadata": {
    "execution": {
     "iopub.execute_input": "2022-08-30T21:40:58.694816Z",
     "iopub.status.busy": "2022-08-30T21:40:58.694358Z",
     "iopub.status.idle": "2022-08-30T21:40:58.702807Z",
     "shell.execute_reply": "2022-08-30T21:40:58.701605Z"
    },
    "papermill": {
     "duration": 0.035617,
     "end_time": "2022-08-30T21:40:58.705556",
     "exception": false,
     "start_time": "2022-08-30T21:40:58.669939",
     "status": "completed"
    },
    "tags": []
   },
   "outputs": [],
   "source": [
    "df_pf['Residuals'] = df_pf['Targets'] - df_pf['Predictions']\n",
    "df_pf['Difference %'] = np.absolute(df_pf['Residuals'] / df_pf['Targets'] * 100)"
   ]
  },
  {
   "cell_type": "code",
   "execution_count": 40,
   "id": "56090682",
   "metadata": {
    "execution": {
     "iopub.execute_input": "2022-08-30T21:40:58.752653Z",
     "iopub.status.busy": "2022-08-30T21:40:58.751881Z",
     "iopub.status.idle": "2022-08-30T21:40:58.764268Z",
     "shell.execute_reply": "2022-08-30T21:40:58.762984Z"
    },
    "papermill": {
     "duration": 0.03933,
     "end_time": "2022-08-30T21:40:58.766957",
     "exception": false,
     "start_time": "2022-08-30T21:40:58.727627",
     "status": "completed"
    },
    "tags": []
   },
   "outputs": [
    {
     "data": {
      "text/html": [
       "<div>\n",
       "<style scoped>\n",
       "    .dataframe tbody tr th:only-of-type {\n",
       "        vertical-align: middle;\n",
       "    }\n",
       "\n",
       "    .dataframe tbody tr th {\n",
       "        vertical-align: top;\n",
       "    }\n",
       "\n",
       "    .dataframe thead th {\n",
       "        text-align: right;\n",
       "    }\n",
       "</style>\n",
       "<table border=\"1\" class=\"dataframe\">\n",
       "  <thead>\n",
       "    <tr style=\"text-align: right;\">\n",
       "      <th></th>\n",
       "      <th>Predictions</th>\n",
       "      <th>Targets</th>\n",
       "      <th>Residuals</th>\n",
       "      <th>Difference %</th>\n",
       "    </tr>\n",
       "  </thead>\n",
       "  <tbody>\n",
       "    <tr>\n",
       "      <th>0</th>\n",
       "      <td>10685.501696</td>\n",
       "      <td>2300.0</td>\n",
       "      <td>-8385.501696</td>\n",
       "      <td>364.587030</td>\n",
       "    </tr>\n",
       "    <tr>\n",
       "      <th>1</th>\n",
       "      <td>3499.255242</td>\n",
       "      <td>2800.0</td>\n",
       "      <td>-699.255242</td>\n",
       "      <td>24.973402</td>\n",
       "    </tr>\n",
       "    <tr>\n",
       "      <th>2</th>\n",
       "      <td>7553.285218</td>\n",
       "      <td>2500.0</td>\n",
       "      <td>-5053.285218</td>\n",
       "      <td>202.131409</td>\n",
       "    </tr>\n",
       "    <tr>\n",
       "      <th>3</th>\n",
       "      <td>7463.963017</td>\n",
       "      <td>6400.0</td>\n",
       "      <td>-1063.963017</td>\n",
       "      <td>16.624422</td>\n",
       "    </tr>\n",
       "    <tr>\n",
       "      <th>4</th>\n",
       "      <td>11353.490075</td>\n",
       "      <td>9150.0</td>\n",
       "      <td>-2203.490075</td>\n",
       "      <td>24.081859</td>\n",
       "    </tr>\n",
       "  </tbody>\n",
       "</table>\n",
       "</div>"
      ],
      "text/plain": [
       "    Predictions  Targets    Residuals  Difference %\n",
       "0  10685.501696   2300.0 -8385.501696    364.587030\n",
       "1   3499.255242   2800.0  -699.255242     24.973402\n",
       "2   7553.285218   2500.0 -5053.285218    202.131409\n",
       "3   7463.963017   6400.0 -1063.963017     16.624422\n",
       "4  11353.490075   9150.0 -2203.490075     24.081859"
      ]
     },
     "execution_count": 40,
     "metadata": {},
     "output_type": "execute_result"
    }
   ],
   "source": [
    "df_pf.head()"
   ]
  },
  {
   "cell_type": "code",
   "execution_count": 41,
   "id": "f168d4e3",
   "metadata": {
    "execution": {
     "iopub.execute_input": "2022-08-30T21:40:58.815932Z",
     "iopub.status.busy": "2022-08-30T21:40:58.815501Z",
     "iopub.status.idle": "2022-08-30T21:40:58.845385Z",
     "shell.execute_reply": "2022-08-30T21:40:58.844088Z"
    },
    "papermill": {
     "duration": 0.057624,
     "end_time": "2022-08-30T21:40:58.848218",
     "exception": false,
     "start_time": "2022-08-30T21:40:58.790594",
     "status": "completed"
    },
    "tags": []
   },
   "outputs": [
    {
     "data": {
      "text/html": [
       "<div>\n",
       "<style scoped>\n",
       "    .dataframe tbody tr th:only-of-type {\n",
       "        vertical-align: middle;\n",
       "    }\n",
       "\n",
       "    .dataframe tbody tr th {\n",
       "        vertical-align: top;\n",
       "    }\n",
       "\n",
       "    .dataframe thead th {\n",
       "        text-align: right;\n",
       "    }\n",
       "</style>\n",
       "<table border=\"1\" class=\"dataframe\">\n",
       "  <thead>\n",
       "    <tr style=\"text-align: right;\">\n",
       "      <th></th>\n",
       "      <th>Predictions</th>\n",
       "      <th>Targets</th>\n",
       "      <th>Residuals</th>\n",
       "      <th>Difference %</th>\n",
       "    </tr>\n",
       "  </thead>\n",
       "  <tbody>\n",
       "    <tr>\n",
       "      <th>count</th>\n",
       "      <td>774.000000</td>\n",
       "      <td>774.000000</td>\n",
       "      <td>774.000000</td>\n",
       "      <td>774.000000</td>\n",
       "    </tr>\n",
       "    <tr>\n",
       "      <th>mean</th>\n",
       "      <td>15946.760167</td>\n",
       "      <td>18165.817106</td>\n",
       "      <td>2219.056939</td>\n",
       "      <td>36.256693</td>\n",
       "    </tr>\n",
       "    <tr>\n",
       "      <th>std</th>\n",
       "      <td>13133.197604</td>\n",
       "      <td>19967.858908</td>\n",
       "      <td>10871.218143</td>\n",
       "      <td>55.066507</td>\n",
       "    </tr>\n",
       "    <tr>\n",
       "      <th>min</th>\n",
       "      <td>1320.562768</td>\n",
       "      <td>1200.000000</td>\n",
       "      <td>-29456.498331</td>\n",
       "      <td>0.062794</td>\n",
       "    </tr>\n",
       "    <tr>\n",
       "      <th>25%</th>\n",
       "      <td>7413.644234</td>\n",
       "      <td>6900.000000</td>\n",
       "      <td>-2044.191251</td>\n",
       "      <td>12.108022</td>\n",
       "    </tr>\n",
       "    <tr>\n",
       "      <th>50%</th>\n",
       "      <td>11568.168859</td>\n",
       "      <td>11600.000000</td>\n",
       "      <td>142.518577</td>\n",
       "      <td>23.467728</td>\n",
       "    </tr>\n",
       "    <tr>\n",
       "      <th>75%</th>\n",
       "      <td>20162.408805</td>\n",
       "      <td>20500.000000</td>\n",
       "      <td>3147.343497</td>\n",
       "      <td>39.563570</td>\n",
       "    </tr>\n",
       "    <tr>\n",
       "      <th>max</th>\n",
       "      <td>77403.055224</td>\n",
       "      <td>126000.000000</td>\n",
       "      <td>85106.162329</td>\n",
       "      <td>512.688080</td>\n",
       "    </tr>\n",
       "  </tbody>\n",
       "</table>\n",
       "</div>"
      ],
      "text/plain": [
       "        Predictions        Targets     Residuals  Difference %\n",
       "count    774.000000     774.000000    774.000000    774.000000\n",
       "mean   15946.760167   18165.817106   2219.056939     36.256693\n",
       "std    13133.197604   19967.858908  10871.218143     55.066507\n",
       "min     1320.562768    1200.000000 -29456.498331      0.062794\n",
       "25%     7413.644234    6900.000000  -2044.191251     12.108022\n",
       "50%    11568.168859   11600.000000    142.518577     23.467728\n",
       "75%    20162.408805   20500.000000   3147.343497     39.563570\n",
       "max    77403.055224  126000.000000  85106.162329    512.688080"
      ]
     },
     "execution_count": 41,
     "metadata": {},
     "output_type": "execute_result"
    }
   ],
   "source": [
    "df_pf.describe()"
   ]
  },
  {
   "cell_type": "code",
   "execution_count": 42,
   "id": "c4759591",
   "metadata": {
    "execution": {
     "iopub.execute_input": "2022-08-30T21:40:58.894847Z",
     "iopub.status.busy": "2022-08-30T21:40:58.894198Z",
     "iopub.status.idle": "2022-08-30T21:40:58.910493Z",
     "shell.execute_reply": "2022-08-30T21:40:58.909317Z"
    },
    "papermill": {
     "duration": 0.042723,
     "end_time": "2022-08-30T21:40:58.912857",
     "exception": false,
     "start_time": "2022-08-30T21:40:58.870134",
     "status": "completed"
    },
    "tags": []
   },
   "outputs": [
    {
     "data": {
      "text/html": [
       "<div>\n",
       "<style scoped>\n",
       "    .dataframe tbody tr th:only-of-type {\n",
       "        vertical-align: middle;\n",
       "    }\n",
       "\n",
       "    .dataframe tbody tr th {\n",
       "        vertical-align: top;\n",
       "    }\n",
       "\n",
       "    .dataframe thead th {\n",
       "        text-align: right;\n",
       "    }\n",
       "</style>\n",
       "<table border=\"1\" class=\"dataframe\">\n",
       "  <thead>\n",
       "    <tr style=\"text-align: right;\">\n",
       "      <th></th>\n",
       "      <th>Predictions</th>\n",
       "      <th>Targets</th>\n",
       "      <th>Residuals</th>\n",
       "      <th>Difference %</th>\n",
       "    </tr>\n",
       "  </thead>\n",
       "  <tbody>\n",
       "    <tr>\n",
       "      <th>698</th>\n",
       "      <td>30480.847838</td>\n",
       "      <td>30500.0</td>\n",
       "      <td>19.152162</td>\n",
       "      <td>0.062794</td>\n",
       "    </tr>\n",
       "    <tr>\n",
       "      <th>742</th>\n",
       "      <td>16960.310476</td>\n",
       "      <td>16999.0</td>\n",
       "      <td>38.689524</td>\n",
       "      <td>0.227599</td>\n",
       "    </tr>\n",
       "    <tr>\n",
       "      <th>60</th>\n",
       "      <td>12469.207487</td>\n",
       "      <td>12500.0</td>\n",
       "      <td>30.792513</td>\n",
       "      <td>0.246340</td>\n",
       "    </tr>\n",
       "    <tr>\n",
       "      <th>110</th>\n",
       "      <td>25614.137960</td>\n",
       "      <td>25500.0</td>\n",
       "      <td>-114.137960</td>\n",
       "      <td>0.447600</td>\n",
       "    </tr>\n",
       "    <tr>\n",
       "      <th>367</th>\n",
       "      <td>42703.676996</td>\n",
       "      <td>42500.0</td>\n",
       "      <td>-203.676996</td>\n",
       "      <td>0.479240</td>\n",
       "    </tr>\n",
       "    <tr>\n",
       "      <th>...</th>\n",
       "      <td>...</td>\n",
       "      <td>...</td>\n",
       "      <td>...</td>\n",
       "      <td>...</td>\n",
       "    </tr>\n",
       "    <tr>\n",
       "      <th>657</th>\n",
       "      <td>32481.045510</td>\n",
       "      <td>6000.0</td>\n",
       "      <td>-26481.045510</td>\n",
       "      <td>441.350758</td>\n",
       "    </tr>\n",
       "    <tr>\n",
       "      <th>162</th>\n",
       "      <td>9954.416247</td>\n",
       "      <td>1800.0</td>\n",
       "      <td>-8154.416247</td>\n",
       "      <td>453.023125</td>\n",
       "    </tr>\n",
       "    <tr>\n",
       "      <th>451</th>\n",
       "      <td>35956.498331</td>\n",
       "      <td>6500.0</td>\n",
       "      <td>-29456.498331</td>\n",
       "      <td>453.176897</td>\n",
       "    </tr>\n",
       "    <tr>\n",
       "      <th>532</th>\n",
       "      <td>10019.903027</td>\n",
       "      <td>1800.0</td>\n",
       "      <td>-8219.903027</td>\n",
       "      <td>456.661279</td>\n",
       "    </tr>\n",
       "    <tr>\n",
       "      <th>639</th>\n",
       "      <td>30628.277108</td>\n",
       "      <td>4999.0</td>\n",
       "      <td>-25629.277108</td>\n",
       "      <td>512.688080</td>\n",
       "    </tr>\n",
       "  </tbody>\n",
       "</table>\n",
       "<p>774 rows × 4 columns</p>\n",
       "</div>"
      ],
      "text/plain": [
       "      Predictions  Targets     Residuals  Difference %\n",
       "698  30480.847838  30500.0     19.152162      0.062794\n",
       "742  16960.310476  16999.0     38.689524      0.227599\n",
       "60   12469.207487  12500.0     30.792513      0.246340\n",
       "110  25614.137960  25500.0   -114.137960      0.447600\n",
       "367  42703.676996  42500.0   -203.676996      0.479240\n",
       "..            ...      ...           ...           ...\n",
       "657  32481.045510   6000.0 -26481.045510    441.350758\n",
       "162   9954.416247   1800.0  -8154.416247    453.023125\n",
       "451  35956.498331   6500.0 -29456.498331    453.176897\n",
       "532  10019.903027   1800.0  -8219.903027    456.661279\n",
       "639  30628.277108   4999.0 -25629.277108    512.688080\n",
       "\n",
       "[774 rows x 4 columns]"
      ]
     },
     "execution_count": 42,
     "metadata": {},
     "output_type": "execute_result"
    }
   ],
   "source": [
    "df_pf.sort_values(by=['Difference %'])"
   ]
  },
  {
   "cell_type": "markdown",
   "id": "ae1b31f9",
   "metadata": {
    "papermill": {
     "duration": 0.022618,
     "end_time": "2022-08-30T21:40:58.957550",
     "exception": false,
     "start_time": "2022-08-30T21:40:58.934932",
     "status": "completed"
    },
    "tags": []
   },
   "source": [
    "We can see that the instances that were the most far off, have negative residuals, which means our model predicted a higher price than it really was. An explanation would be that we are missing an important factor, maybe the `Model` feature."
   ]
  },
  {
   "cell_type": "code",
   "execution_count": null,
   "id": "ee85a166",
   "metadata": {
    "papermill": {
     "duration": 0.023005,
     "end_time": "2022-08-30T21:40:59.004219",
     "exception": false,
     "start_time": "2022-08-30T21:40:58.981214",
     "status": "completed"
    },
    "tags": []
   },
   "outputs": [],
   "source": [
    " "
   ]
  }
 ],
 "metadata": {
  "kernelspec": {
   "display_name": "Python 3",
   "language": "python",
   "name": "python3"
  },
  "language_info": {
   "codemirror_mode": {
    "name": "ipython",
    "version": 3
   },
   "file_extension": ".py",
   "mimetype": "text/x-python",
   "name": "python",
   "nbconvert_exporter": "python",
   "pygments_lexer": "ipython3",
   "version": "3.7.12"
  },
  "papermill": {
   "default_parameters": {},
   "duration": 19.984884,
   "end_time": "2022-08-30T21:40:59.849617",
   "environment_variables": {},
   "exception": null,
   "input_path": "__notebook__.ipynb",
   "output_path": "__notebook__.ipynb",
   "parameters": {},
   "start_time": "2022-08-30T21:40:39.864733",
   "version": "2.3.4"
  }
 },
 "nbformat": 4,
 "nbformat_minor": 5
}
